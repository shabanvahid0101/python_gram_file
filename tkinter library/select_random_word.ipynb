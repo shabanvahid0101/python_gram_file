{
 "cells": [
  {
   "cell_type": "code",
   "execution_count": 2,
   "metadata": {},
   "outputs": [],
   "source": [
    "import tkinter as tk\n",
    "import random\n",
    "\n",
    "# لیست کلمات\n",
    "words = [\"سلام\", \"دنیا\", \"برنامه نویسی\", \"پایتون\", \"توسعه وب\", \"چالش\", \"خلاقیت\"]\n",
    "\n",
    "def change_word():\n",
    "    # انتخاب یک کلمه تصادفی\n",
    "    new_word = random.choice(words)\n",
    "    # به‌روزرسانی متن برچسب\n",
    "    label.config(text=new_word)\n",
    "\n",
    "# ایجاد پنجره اصلی\n",
    "root = tk.Tk()\n",
    "root.title(\"تغییر کلمه\")\n",
    "\n",
    "# ایجاد برچسب برای نمایش کلمه\n",
    "label = tk.Label(root, text=\"کلمه را اینجا ببینید\", font=(\"Arial\", 24))\n",
    "label.pack(pady=20)\n",
    "\n",
    "# ایجاد دکمه\n",
    "button = tk.Button(root, text=\"کلمه بعدی\", command=change_word, font=(\"Arial\", 16))\n",
    "button.pack(pady=10)\n",
    "\n",
    "# اجرای حلقه اصلی\n",
    "root.mainloop()"
   ]
  }
 ],
 "metadata": {
  "kernelspec": {
   "display_name": "venvall",
   "language": "python",
   "name": "python3"
  },
  "language_info": {
   "codemirror_mode": {
    "name": "ipython",
    "version": 3
   },
   "file_extension": ".py",
   "mimetype": "text/x-python",
   "name": "python",
   "nbconvert_exporter": "python",
   "pygments_lexer": "ipython3",
   "version": "3.12.3"
  }
 },
 "nbformat": 4,
 "nbformat_minor": 2
}
