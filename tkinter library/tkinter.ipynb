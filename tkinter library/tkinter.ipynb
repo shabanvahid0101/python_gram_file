{
 "cells": [
  {
   "cell_type": "code",
   "execution_count": 275,
   "metadata": {},
   "outputs": [],
   "source": [
    "import tkinter as tk"
   ]
  },
  {
   "cell_type": "markdown",
   "metadata": {},
   "source": [
    "make windows"
   ]
  },
  {
   "cell_type": "code",
   "execution_count": 276,
   "metadata": {},
   "outputs": [],
   "source": [
    "windows=tk.Tk()\n",
    "##hide window\n",
    "#windows.withdraw()"
   ]
  },
  {
   "cell_type": "markdown",
   "metadata": {},
   "source": [
    "version"
   ]
  },
  {
   "cell_type": "code",
   "execution_count": 1,
   "metadata": {},
   "outputs": [
    {
     "name": "stdout",
     "output_type": "stream",
     "text": [
      "8.6.13\n"
     ]
    }
   ],
   "source": [
    "import tkinter\n",
    "\n",
    "tcl = tkinter.Tcl()\n",
    "print(tcl.call(\"info\", \"patchlevel\"))"
   ]
  },
  {
   "cell_type": "markdown",
   "metadata": {},
   "source": [
    "config windows"
   ]
  },
  {
   "cell_type": "code",
   "execution_count": 277,
   "metadata": {},
   "outputs": [],
   "source": [
    "##background color set\n",
    "#windows.config(bg=\"green\")\n",
    "##height and width set\n",
    "#windows.config(height=300,width=500)\n",
    "##font style and color set\n",
    "#windows.config(fg=\"blue\")\n",
    "# set font for all text\n",
    "# windows.option_add(\"*font\",[\"system\",20])\n",
    "##mouse form set\n",
    "#windows.config(cursor='wait')\n"
   ]
  },
  {
   "cell_type": "markdown",
   "metadata": {},
   "source": [
    "function geometry"
   ]
  },
  {
   "cell_type": "code",
   "execution_count": 278,
   "metadata": {},
   "outputs": [
    {
     "data": {
      "text/plain": [
       "''"
      ]
     },
     "execution_count": 278,
     "metadata": {},
     "output_type": "execute_result"
    }
   ],
   "source": [
    "#set size window\n",
    "windows.geometry('300x500')\n",
    "#set left and wright from monitor\n",
    "windows.geometry('+300+100')"
   ]
  },
  {
   "cell_type": "markdown",
   "metadata": {},
   "source": [
    "set title"
   ]
  },
  {
   "cell_type": "code",
   "execution_count": 279,
   "metadata": {},
   "outputs": [
    {
     "data": {
      "text/plain": [
       "''"
      ]
     },
     "execution_count": 279,
     "metadata": {},
     "output_type": "execute_result"
    }
   ],
   "source": [
    "windows.title(\"word japanese\")"
   ]
  },
  {
   "cell_type": "markdown",
   "metadata": {},
   "source": [
    "resize windows"
   ]
  },
  {
   "cell_type": "code",
   "execution_count": 280,
   "metadata": {},
   "outputs": [],
   "source": [
    "##resize windows true and false\n",
    "#windows.resizable(True,False)\n",
    "##set max size for windows\n",
    "windows.maxsize(500,500)\n",
    "##set min size for windows\n",
    "windows.minsize(200,200)"
   ]
  },
  {
   "cell_type": "markdown",
   "metadata": {},
   "source": [
    "## make message box"
   ]
  },
  {
   "cell_type": "markdown",
   "metadata": {},
   "source": [
    "widgets"
   ]
  },
  {
   "cell_type": "code",
   "execution_count": 281,
   "metadata": {},
   "outputs": [],
   "source": [
    "from tkinter import messagebox\n",
    "##view error box\n",
    "#messagebox.showerror('error','this is one error')\n",
    "##show warning\n",
    "#messagebox.showwarning('warning','this is one warning')\n",
    "## show information#\n",
    "# messagebox.showinfo('info','this is one info')\n",
    "##show ask question\n",
    "##messagebox.askquestion('question','you are japanese')\n",
    "##show  ask ok  cancel\n",
    "#messagebox.askokcancel('question','do you agree')\n",
    "##show ask yes no cancel\n",
    "#messagebox.askyesnocancel('question','do you agree')\n",
    "##show retry cancel\n",
    "#messagebox.askretrycancel('question','retry')"
   ]
  },
  {
   "cell_type": "markdown",
   "metadata": {},
   "source": [
    "messagebox with if"
   ]
  },
  {
   "cell_type": "code",
   "execution_count": 282,
   "metadata": {},
   "outputs": [],
   "source": [
    "# r=messagebox.askyesnocancel('question','are you student?')\n",
    "# if r==True:\n",
    "#     messagebox.showinfo('information','you are goods')\n",
    "# elif r==False:\n",
    "#     messagebox.showinfo('information','you are not good')\n",
    "# else:\n",
    "#     messagebox.showinfo('information','sorry')"
   ]
  },
  {
   "cell_type": "markdown",
   "metadata": {},
   "source": [
    "## button"
   ]
  },
  {
   "cell_type": "code",
   "execution_count": 1,
   "metadata": {},
   "outputs": [],
   "source": [
    "from tkinter import Button\n",
    "#master=مکانی که میخواد دکمه در اون قرار بگیره\n",
    "# btn=Button(master=windows)\n",
    "# btn2=Button(master=windows)\n",
    "# btn3=Button(master=windows)\n",
    "# btn4=Button(master=windows)"
   ]
  },
  {
   "cell_type": "markdown",
   "metadata": {},
   "source": [
    "# Add button"
   ]
  },
  {
   "cell_type": "code",
   "execution_count": 5,
   "metadata": {},
   "outputs": [
    {
     "name": "stderr",
     "output_type": "stream",
     "text": [
      "Exception in Tkinter callback\n",
      "Traceback (most recent call last):\n",
      "  File \"C:\\Users\\vahid\\AppData\\Local\\Programs\\Python\\Python312\\Lib\\tkinter\\__init__.py\", line 1967, in __call__\n",
      "    return self.func(*args)\n",
      "           ^^^^^^^^^^^^^^^^\n",
      "  File \"C:\\Users\\vahid\\AppData\\Local\\Temp\\ipykernel_6180\\1070689462.py\", line 3, in add\n",
      "    value1 = entry1.get()\n",
      "             ^^^^^^\n",
      "NameError: name 'entry1' is not defined\n"
     ]
    }
   ],
   "source": [
    "import tkinter\n",
    "window=tkinter.Tk()\n",
    "\n",
    "## create button\n",
    "answerButton=tkinter.Button(text=\"this is one button\")\n",
    "## place button\n",
    "answerButton.pack(side=\"left\",anchor=\"n\")\n",
    "## add command\n",
    "answerButton[\"command\"]=add\n",
    "window.mainloop()"
   ]
  },
  {
   "cell_type": "markdown",
   "metadata": {},
   "source": [
    "ویژگی به کلید ها"
   ]
  },
  {
   "cell_type": "code",
   "execution_count": 284,
   "metadata": {},
   "outputs": [],
   "source": [
    "# btnn=Button(master=windows,width='20',height='4',bg='yellow',bd='2',text='kanji')"
   ]
  },
  {
   "cell_type": "markdown",
   "metadata": {},
   "source": [
    "pack"
   ]
  },
  {
   "cell_type": "code",
   "execution_count": 285,
   "metadata": {},
   "outputs": [],
   "source": [
    "#xقرار دادن یک کلید به اندازه کل محور \n",
    "#btn.pack(fill=\"x\")\n",
    "#قرار دادن یک کلید به اندازه کل محور y\n",
    "#btn.pack(fill=\"y\",expand=1)\n",
    "#قرار دادن کلید به اندازه کل پنجره\n",
    "#btn.pack(fill='both',expand=1)\n",
    "#تعیین موقعیت قرار گیری یک کلید\n",
    "#btn.pack(side=\"left\")"
   ]
  },
  {
   "cell_type": "markdown",
   "metadata": {},
   "source": [
    "gride"
   ]
  },
  {
   "cell_type": "code",
   "execution_count": 286,
   "metadata": {},
   "outputs": [],
   "source": [
    "# btn.grid(row=0,column=0,padx=5,pady=5)\n",
    "# btn2.grid(row=0,column=1,padx=5,pady=5)\n",
    "# btn3.grid(row=0,column=2,padx=5,pady=5)\n",
    "# btn4.grid(row=0,column=3,padx=5,pady=5)"
   ]
  },
  {
   "cell_type": "markdown",
   "metadata": {},
   "source": [
    "place"
   ]
  },
  {
   "cell_type": "code",
   "execution_count": 287,
   "metadata": {},
   "outputs": [],
   "source": [
    "#btn.place(x='50',y='50')\n",
    "# btnn.place(x='10',y='20')"
   ]
  },
  {
   "cell_type": "markdown",
   "metadata": {},
   "source": [
    "label"
   ]
  },
  {
   "cell_type": "code",
   "execution_count": 288,
   "metadata": {},
   "outputs": [],
   "source": [
    "\n",
    "#a=tk.Label(windows,text=\"this program is first program\",font=(\"tahoma\",20),fg='blue',bg='black')\n",
    "## set place\n",
    "# a.place(x=0,y=0)\n",
    "## set place\n",
    "#a.grid(row=1,column=0,padx=10,pady=10)"
   ]
  },
  {
   "cell_type": "markdown",
   "metadata": {},
   "source": [
    "اجرای رویداد"
   ]
  },
  {
   "cell_type": "code",
   "execution_count": 4,
   "metadata": {},
   "outputs": [],
   "source": [
    "def add():\n",
    "    # مقداری که قبلا داخل entry1 قرار گرفته رو میگیره\n",
    "    value1 = entry1.get()\n",
    "    value2 = entry2.get()\n",
    "    # یه عملیات با مقدار های دریافتی انجام میده و در نتیجه قرار میده\n",
    "    result = int(value1) + int(value2)\n",
    "    # مقداری اگر داخل کادر باشه پاک میکنه\n",
    "    entry3.delete(0,tkinter.END)\n",
    "    # مقدار نتیجه جدید رو داخل کادر 3 قرار میده\n",
    "    entry3.insert(0,result)"
   ]
  },
  {
   "cell_type": "code",
   "execution_count": 289,
   "metadata": {},
   "outputs": [],
   "source": [
    "#rooydad\n",
    "#def p(event):\n",
    "#    print(\"event\")"
   ]
  },
  {
   "cell_type": "code",
   "execution_count": 290,
   "metadata": {},
   "outputs": [],
   "source": [
    "#btnevent=Button(windows,text='btnevent')\n",
    "#btnevent.grid(row=1,column=0,padx=5,pady=5)\n",
    "# با کلیک کار می کند\n",
    "#btnevent.bind('<Button>',p)\n",
    "#با قرار گیری ماوس روی دکمه اجرا میشه\n",
    "#btnevent.bind('<Enter>',p)\n",
    "#وقتی از محدوده دکمه خارج بشه\n",
    "#btnevent.bind('<Leave>',p)\n",
    "#با دابل کلیک\n",
    "# btnevent.bind('<Double-Button-1>',p)\n",
    "\n",
    "#با زدن کلید خاص\n",
    "#windows.bind('<a>',p)\n",
    "#با زدن کلید اینتر\n",
    "#windows.bind('<Return>',p)\n",
    "#با زدن کلید tab\n",
    "#windows.bind('<Tab>',p)\n",
    "\n"
   ]
  },
  {
   "cell_type": "markdown",
   "metadata": {},
   "source": [
    "## make window picture"
   ]
  },
  {
   "cell_type": "code",
   "execution_count": null,
   "metadata": {},
   "outputs": [],
   "source": [
    "# ساخت یک محیط در پنجره\n",
    "# canvas=tkinter.Canvas(bg=\"blue\",width=200,height=200)\n",
    "# مکان محیط جدید\n",
    "#  canvas.place(x=0,y=0)\n",
    "# اضافه کردن عکس به پنجره\n",
    "# image=tkinter.PhotoImage(file=\"../images/robot.png\")\n",
    "# اضافه کردن عکس به محیط جدید\n",
    "# canvas.create_image(32,32,image=image)"
   ]
  },
  {
   "cell_type": "markdown",
   "metadata": {},
   "source": [
    "# user entry"
   ]
  },
  {
   "cell_type": "code",
   "execution_count": 291,
   "metadata": {},
   "outputs": [],
   "source": [
    "#windows در چه پنجره ای قرار بگیره\n",
    "#width مقدار عرض کادر ورود داده\n",
    "enteryuser=tk.Entry(windows,width=20)\n",
    "#تعیین مکان کادر ورود داده به گرید بندی کردن\n",
    "enteryuser.grid(row=0,column=0)\n",
    "\n",
    "#bd مقدار بردار باکس اطراف کادر \n",
    "entry1=tk.Entry(width=5,bd=2)\n",
    "#side مکان کادر رو مشخص می کنه\n",
    "#anchor \n",
    "entry1.pack(side=\"left\",anchor=\"n\")"
   ]
  },
  {
   "cell_type": "markdown",
   "metadata": {},
   "source": [
    "# user search directory"
   ]
  },
  {
   "cell_type": "code",
   "execution_count": 292,
   "metadata": {},
   "outputs": [],
   "source": [
    "from tkinter.filedialog import askdirectory\n",
    "\n",
    "ask_directory=askdirectory(initialdir=\"\",title=\"import file\")\n",
    "btn_ask=Button(windows,text=\"find file\",width=10)\n",
    "btn_ask.grid(row=0,column=1)"
   ]
  },
  {
   "cell_type": "markdown",
   "metadata": {},
   "source": [
    "for run program"
   ]
  },
  {
   "cell_type": "code",
   "execution_count": 293,
   "metadata": {},
   "outputs": [],
   "source": [
    "windows.mainloop()"
   ]
  },
  {
   "cell_type": "code",
   "execution_count": null,
   "metadata": {},
   "outputs": [],
   "source": []
  }
 ],
 "metadata": {
  "kernelspec": {
   "display_name": "venvall",
   "language": "python",
   "name": "python3"
  },
  "language_info": {
   "codemirror_mode": {
    "name": "ipython",
    "version": 3
   },
   "file_extension": ".py",
   "mimetype": "text/x-python",
   "name": "python",
   "nbconvert_exporter": "python",
   "pygments_lexer": "ipython3",
   "version": "3.12.3"
  }
 },
 "nbformat": 4,
 "nbformat_minor": 2
}
