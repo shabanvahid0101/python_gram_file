{
 "cells": [
  {
   "cell_type": "markdown",
   "metadata": {},
   "source": [
    "リスト「numbers」があります。リスト「numbers」の要素を「3倍」にしたリストを作成してください。"
   ]
  },
  {
   "cell_type": "code",
   "execution_count": 1,
   "metadata": {},
   "outputs": [
    {
     "name": "stdout",
     "output_type": "stream",
     "text": [
      "[6, 9, 15, 27, 12, 18, 24]\n"
     ]
    }
   ],
   "source": [
    "numbers=[2,3,5,9,4,6,8]\n",
    "number1=[i*3 for i in numbers]\n",
    "print(number1)"
   ]
  },
  {
   "cell_type": "markdown",
   "metadata": {},
   "source": [
    "リスト「numbers」があります,リスト「numbers」から「3の倍数」のみのリストを作成してください"
   ]
  },
  {
   "cell_type": "code",
   "execution_count": 3,
   "metadata": {},
   "outputs": [
    {
     "name": "stdout",
     "output_type": "stream",
     "text": [
      "[3, 9, 6]\n"
     ]
    }
   ],
   "source": [
    "number2=[x for x in numbers if x % 3 == 0]\n",
    "print(number2)"
   ]
  },
  {
   "cell_type": "markdown",
   "metadata": {},
   "source": [
    "リスト「numbers」を降順に並び替えて、実行結果のように表示する処理を作成してください"
   ]
  },
  {
   "cell_type": "code",
   "execution_count": 20,
   "metadata": {},
   "outputs": [
    {
     "name": "stdout",
     "output_type": "stream",
     "text": [
      "[58, 89, 20, 889, 713, 160]\n",
      "[20, 58, 89, 160, 713, 889]\n",
      "[889, 713, 160, 89, 58, 20]\n"
     ]
    }
   ],
   "source": [
    "numbers1 = [58,89,20,889,713,160]\n",
    "print(numbers1)\n",
    "numbers1.sort()\n",
    "print(numbers1)\n",
    "numbers1.sort(reverse=True)\n",
    "print(numbers1)"
   ]
  },
  {
   "cell_type": "markdown",
   "metadata": {},
   "source": [
    "リスト「members」を逆順に並び替えて、実行結果のように表示する処理を作成してください"
   ]
  },
  {
   "cell_type": "code",
   "execution_count": 24,
   "metadata": {},
   "outputs": [
    {
     "name": "stdout",
     "output_type": "stream",
     "text": [
      "['Ariel', 'Bell', 'Chris', 'Donna', 'Emmy']\n",
      "['Emmy', 'Donna', 'Chris', 'Bell', 'Ariel']\n"
     ]
    }
   ],
   "source": [
    "members = [\"Ariel\",\"Bell\",\"Chris\",\"Donna\",\"Emmy\"]\n",
    "print(members)\n",
    "members.reverse()\n",
    "print(members)"
   ]
  },
  {
   "cell_type": "markdown",
   "metadata": {},
   "source": [
    "پیدا کردن یک مقدار تکراری از داخل لیست و حذف کردن"
   ]
  },
  {
   "cell_type": "code",
   "execution_count": 32,
   "metadata": {},
   "outputs": [
    {
     "name": "stdout",
     "output_type": "stream",
     "text": [
      "['Donna', 'Bell', 'Chris', 'Donna', 'Emmy']\n"
     ]
    }
   ],
   "source": [
    "members = [\"Ariel\",\"Donna\",\"Bell\",\"Chris\",\"Donna\",\"Ariel\",\"Emmy\"]\n",
    "total=[]\n",
    "find_word=\"Ariel\"\n",
    "for i in members:\n",
    "    if i == find_word:\n",
    "        members.remove(i)\n",
    "        total.append(i)\n",
    "print(members)\n",
    "\n"
   ]
  },
  {
   "cell_type": "markdown",
   "metadata": {},
   "source": [
    "タプル「fruits」があります。「スライス」の機能を利用して、先頭から、「3個」の要素を取り出してください。実行結果のように表示する処理を作成してください"
   ]
  },
  {
   "cell_type": "code",
   "execution_count": 34,
   "metadata": {},
   "outputs": [
    {
     "name": "stdout",
     "output_type": "stream",
     "text": [
      "('apple', 'orange', 'melon')\n"
     ]
    }
   ],
   "source": [
    "fruits = (\"apple\",\"orange\",\"melon\",\"grape\",\"banana\")\n",
    "ff=fruits[0:3]\n",
    "print(ff)"
   ]
  },
  {
   "cell_type": "markdown",
   "metadata": {},
   "source": [
    "タプル「fruits」があります。「スライス」の機能を利用して3個目の要素から、最後までを取り出してください。実行結果のように表示する処理を作成してください"
   ]
  },
  {
   "cell_type": "code",
   "execution_count": 36,
   "metadata": {},
   "outputs": [
    {
     "name": "stdout",
     "output_type": "stream",
     "text": [
      "('melon', 'grape', 'banana')\n"
     ]
    }
   ],
   "source": [
    "fff=fruits[2:]\n",
    "print(fff) "
   ]
  },
  {
   "cell_type": "markdown",
   "metadata": {},
   "source": [
    "\n",
    "タプル「sports」があります。for文と関数「enumerate」を利用して、実行結果のように表示する処理を作成してください"
   ]
  },
  {
   "cell_type": "code",
   "execution_count": 40,
   "metadata": {},
   "outputs": [
    {
     "name": "stdout",
     "output_type": "stream",
     "text": [
      "0 : football\n",
      "1 : tennis\n",
      "2 : vollyball\n",
      "3 : dance\n"
     ]
    }
   ],
   "source": [
    "sports = (\"football\",\"tennis\",\"vollyball\",\"dance\")\n",
    "for ind,val in enumerate (sports):\n",
    "    print(f\"{ind} : {val}\")"
   ]
  }
 ],
 "metadata": {
  "kernelspec": {
   "display_name": "venvall",
   "language": "python",
   "name": "python3"
  },
  "language_info": {
   "codemirror_mode": {
    "name": "ipython",
    "version": 3
   },
   "file_extension": ".py",
   "mimetype": "text/x-python",
   "name": "python",
   "nbconvert_exporter": "python",
   "pygments_lexer": "ipython3",
   "version": "3.12.3"
  }
 },
 "nbformat": 4,
 "nbformat_minor": 2
}
