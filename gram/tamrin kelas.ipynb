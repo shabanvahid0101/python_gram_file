{
 "cells": [
  {
   "cell_type": "markdown",
   "metadata": {},
   "source": [
    "リスト「numbers」があります。リスト「numbers」の要素を「3倍」にしたリストを作成してください。"
   ]
  },
  {
   "cell_type": "code",
   "execution_count": 1,
   "metadata": {},
   "outputs": [
    {
     "name": "stdout",
     "output_type": "stream",
     "text": [
      "[6, 9, 15, 27, 12, 18, 24]\n"
     ]
    }
   ],
   "source": [
    "numbers=[2,3,5,9,4,6,8]\n",
    "number1=[i*3 for i in numbers]\n",
    "print(number1)"
   ]
  },
  {
   "cell_type": "markdown",
   "metadata": {},
   "source": [
    "リスト「numbers」があります,リスト「numbers」から「3の倍数」のみのリストを作成してください"
   ]
  },
  {
   "cell_type": "code",
   "execution_count": 3,
   "metadata": {},
   "outputs": [
    {
     "name": "stdout",
     "output_type": "stream",
     "text": [
      "[3, 9, 6]\n"
     ]
    }
   ],
   "source": [
    "number2=[x for x in numbers if x % 3 == 0]\n",
    "print(number2)"
   ]
  },
  {
   "cell_type": "markdown",
   "metadata": {},
   "source": [
    "リスト「numbers」を降順に並び替えて、実行結果のように表示する処理を作成してください"
   ]
  },
  {
   "cell_type": "code",
   "execution_count": 20,
   "metadata": {},
   "outputs": [
    {
     "name": "stdout",
     "output_type": "stream",
     "text": [
      "[58, 89, 20, 889, 713, 160]\n",
      "[20, 58, 89, 160, 713, 889]\n",
      "[889, 713, 160, 89, 58, 20]\n"
     ]
    }
   ],
   "source": [
    "numbers1 = [58,89,20,889,713,160]\n",
    "print(numbers1)\n",
    "numbers1.sort()\n",
    "print(numbers1)\n",
    "numbers1.sort(reverse=True)\n",
    "print(numbers1)"
   ]
  },
  {
   "cell_type": "markdown",
   "metadata": {},
   "source": [
    "リスト「members」を逆順に並び替えて、実行結果のように表示する処理を作成してください"
   ]
  },
  {
   "cell_type": "code",
   "execution_count": 24,
   "metadata": {},
   "outputs": [
    {
     "name": "stdout",
     "output_type": "stream",
     "text": [
      "['Ariel', 'Bell', 'Chris', 'Donna', 'Emmy']\n",
      "['Emmy', 'Donna', 'Chris', 'Bell', 'Ariel']\n"
     ]
    }
   ],
   "source": [
    "members = [\"Ariel\",\"Bell\",\"Chris\",\"Donna\",\"Emmy\"]\n",
    "print(members)\n",
    "members.reverse()\n",
    "print(members)"
   ]
  },
  {
   "cell_type": "markdown",
   "metadata": {},
   "source": [
    "پیدا کردن یک مقدار تکراری از داخل لیست و حذف کردن"
   ]
  },
  {
   "cell_type": "code",
   "execution_count": 32,
   "metadata": {},
   "outputs": [
    {
     "name": "stdout",
     "output_type": "stream",
     "text": [
      "['Donna', 'Bell', 'Chris', 'Donna', 'Emmy']\n"
     ]
    }
   ],
   "source": [
    "members = [\"Ariel\",\"Donna\",\"Bell\",\"Chris\",\"Donna\",\"Ariel\",\"Emmy\"]\n",
    "total=[]\n",
    "find_word=\"Ariel\"\n",
    "for i in members:\n",
    "    if i == find_word:\n",
    "        members.remove(i)\n",
    "        total.append(i)\n",
    "print(members)\n",
    "\n"
   ]
  },
  {
   "cell_type": "markdown",
   "metadata": {},
   "source": [
    "タプル「fruits」があります。「スライス」の機能を利用して、先頭から、「3個」の要素を取り出してください。実行結果のように表示する処理を作成してください"
   ]
  },
  {
   "cell_type": "code",
   "execution_count": 34,
   "metadata": {},
   "outputs": [
    {
     "name": "stdout",
     "output_type": "stream",
     "text": [
      "('apple', 'orange', 'melon')\n"
     ]
    }
   ],
   "source": [
    "fruits = (\"apple\",\"orange\",\"melon\",\"grape\",\"banana\")\n",
    "ff=fruits[0:3]\n",
    "print(ff)"
   ]
  },
  {
   "cell_type": "markdown",
   "metadata": {},
   "source": [
    "タプル「fruits」があります。「スライス」の機能を利用して3個目の要素から、最後までを取り出してください。実行結果のように表示する処理を作成してください"
   ]
  },
  {
   "cell_type": "code",
   "execution_count": 36,
   "metadata": {},
   "outputs": [
    {
     "name": "stdout",
     "output_type": "stream",
     "text": [
      "('melon', 'grape', 'banana')\n"
     ]
    }
   ],
   "source": [
    "fff=fruits[2:]\n",
    "print(fff) "
   ]
  },
  {
   "cell_type": "markdown",
   "metadata": {},
   "source": [
    "\n",
    "タプル「sports」があります。for文と関数「enumerate」を利用して、実行結果のように表示する処理を作成してください"
   ]
  },
  {
   "cell_type": "code",
   "execution_count": 40,
   "metadata": {},
   "outputs": [
    {
     "name": "stdout",
     "output_type": "stream",
     "text": [
      "0 : football\n",
      "1 : tennis\n",
      "2 : vollyball\n",
      "3 : dance\n"
     ]
    }
   ],
   "source": [
    "sports = (\"football\",\"tennis\",\"vollyball\",\"dance\")\n",
    "for ind,val in enumerate (sports):\n",
    "    print(f\"{ind} : {val}\")"
   ]
  },
  {
   "cell_type": "markdown",
   "metadata": {},
   "source": [
    "ディクショナリ「data1」と「data2」があります。2個のディクショナリを1個のディクショナリに結合してください。実行結果のように表示する処理を作成してください"
   ]
  },
  {
   "cell_type": "code",
   "execution_count": 1,
   "metadata": {},
   "outputs": [
    {
     "name": "stdout",
     "output_type": "stream",
     "text": [
      "{'大阪': 91, '京都': 85, '東京': 88, '神奈川': 93, '千葉': 90}\n"
     ]
    }
   ],
   "source": [
    "\n",
    "data1 = {\n",
    "\n",
    "    \"東京\" : 88,\n",
    "\n",
    "    \"神奈川\" : 93,\n",
    "\n",
    "    \"千葉\" : 90,\n",
    "\n",
    "}\n",
    "\n",
    "\n",
    "data2 = {\n",
    "\n",
    "    \"大阪\" : 91,\n",
    "\n",
    "    \"京都\" : 85,\n",
    "\n",
    "}\n",
    "\n",
    "data2.update(data1)\n",
    "print(data2)"
   ]
  },
  {
   "cell_type": "markdown",
   "metadata": {},
   "source": [
    "ディクショナリ「characters」があります。for文と「keys()」を利用して、実行結果のように表示する処理を作成してください"
   ]
  },
  {
   "cell_type": "code",
   "execution_count": 3,
   "metadata": {},
   "outputs": [
    {
     "name": "stdout",
     "output_type": "stream",
     "text": [
      "Micky\n",
      "Donald\n",
      "Ariel\n",
      "Bell\n"
     ]
    }
   ],
   "source": [
    "\n",
    "characters = {\n",
    "\n",
    "    \"Micky\" : \"魔法使い\",\n",
    "\n",
    "    \"Donald\" : \"戦士\",\n",
    "\n",
    "    \"Ariel\" : \"武闘家\",\n",
    "\n",
    "    \"Bell\" : \"賢者\",\n",
    "\n",
    "}\n",
    "for key in characters:\n",
    "    print(key)"
   ]
  },
  {
   "cell_type": "markdown",
   "metadata": {},
   "source": [
    "ディクショナリ「characters」があります。for文と「items()」を利用して、実行結果のように表示する処理を作成してください"
   ]
  },
  {
   "cell_type": "code",
   "execution_count": 4,
   "metadata": {},
   "outputs": [
    {
     "name": "stdout",
     "output_type": "stream",
     "text": [
      "Micky : 魔法使い\n",
      "Donald : 戦士\n",
      "Ariel : 武闘家\n",
      "Bell : 賢者\n"
     ]
    }
   ],
   "source": [
    "\n",
    "characters = {\n",
    "\n",
    "    \"Micky\" : \"魔法使い\",\n",
    "\n",
    "    \"Donald\" : \"戦士\",\n",
    "\n",
    "    \"Ariel\" : \"武闘家\",\n",
    "\n",
    "    \"Bell\" : \"賢者\",\n",
    "\n",
    "}\n",
    "\n",
    "for key,val in characters.items():\n",
    "    print(f\"{key} : {val}\")"
   ]
  },
  {
   "cell_type": "markdown",
   "metadata": {},
   "source": [
    "ディクショナリ「characters」があります。for文と「values()」を利用して、ディクショナリの「値」の合計を計算してください。実行結果のように表示する処理を作成してください"
   ]
  },
  {
   "cell_type": "code",
   "execution_count": 5,
   "metadata": {},
   "outputs": [
    {
     "name": "stdout",
     "output_type": "stream",
     "text": [
      "362\n"
     ]
    }
   ],
   "source": [
    "\n",
    "characters = {\n",
    "\n",
    "    \"Micky\" : 92,\n",
    "\n",
    "    \"Donald\" : 90,\n",
    "\n",
    "    \"Ariel\" : 85,\n",
    "\n",
    "    \"Bell\" : 95,\n",
    "\n",
    "}\n",
    "\n",
    "\n",
    "total = 0\n",
    "\n",
    "for val in characters.values():\n",
    "    total += val\n",
    "print(total)"
   ]
  },
  {
   "cell_type": "markdown",
   "metadata": {},
   "source": [
    "「member1」と「member2」の2個のセットがあります。「union」を利用して、2個のセットの「和集合」を作成してください。実行結果のように表示する処理を作成してください"
   ]
  },
  {
   "cell_type": "code",
   "execution_count": 7,
   "metadata": {},
   "outputs": [
    {
     "name": "stdout",
     "output_type": "stream",
     "text": [
      "{'田中', '高橋', '佐藤', '山本', '山田'}\n"
     ]
    }
   ],
   "source": [
    "\n",
    "member1 = {\"山田\", \"佐藤\", \"田中\"}\n",
    "\n",
    "member2 = {\"山本\", \"田中\", \"高橋\"}\n",
    "\n",
    "member3 = member2.union(member1)\n",
    "print(member3)"
   ]
  },
  {
   "cell_type": "markdown",
   "metadata": {},
   "source": [
    "「numbers1」と「numbers2」の2個のセットがあります。「intersection」を利用して、2個のセットの「積集合」（共通項目）を作成してください。実行結果のように表示する処理を作成してください"
   ]
  },
  {
   "cell_type": "code",
   "execution_count": 8,
   "metadata": {},
   "outputs": [
    {
     "name": "stdout",
     "output_type": "stream",
     "text": [
      "{9, 3, 4}\n"
     ]
    }
   ],
   "source": [
    "\n",
    "numbers1 = {4,3,5,7,9}\n",
    "\n",
    "numbers2 = {2,3,9,6,1,4}\n",
    "\n",
    "numbers3 = numbers1.intersection(numbers2)\n",
    "print(numbers3)"
   ]
  },
  {
   "cell_type": "markdown",
   "metadata": {},
   "source": [
    "「names1」と「names2」の2個のセットがあります。「symmetric_difference」を利用して、2個のセットの「対称差集合」を作成してください。実行結果のように表示する処理を作成してください"
   ]
  },
  {
   "cell_type": "code",
   "execution_count": 9,
   "metadata": {},
   "outputs": [
    {
     "name": "stdout",
     "output_type": "stream",
     "text": [
      "{'Minny', 'Micky', 'Anna', 'Ariel'}\n"
     ]
    }
   ],
   "source": [
    "names1 = {\"Micky\",\"Donald\",\"Elsa\",\"Ariel\"}\n",
    "\n",
    "names2 = {\"Minny\",\"Elsa\",\"Anna\",\"Donald\"}\n",
    "\n",
    "names3 = names1.symmetric_difference(names2)\n",
    "print(names3)"
   ]
  },
  {
   "cell_type": "code",
   "execution_count": 10,
   "metadata": {},
   "outputs": [
    {
     "name": "stdout",
     "output_type": "stream",
     "text": [
      "Ariel\n",
      "Bell\n",
      "Chris\n",
      "Donna\n",
      "Emmy\n"
     ]
    }
   ],
   "source": [
    "def show_members(*members):\n",
    "    for member in members:\n",
    "        print(member) \n",
    "show_members(\"Ariel\",\"Bell\",\"Chris\",\"Donna\",\"Emmy\")"
   ]
  },
  {
   "cell_type": "code",
   "execution_count": 11,
   "metadata": {},
   "outputs": [
    {
     "name": "stdout",
     "output_type": "stream",
     "text": [
      "Ariel : 90\n",
      "Bell : 85\n",
      "Chris : 88\n",
      "Donna : 92\n",
      "Emmy : 95\n"
     ]
    }
   ],
   "source": [
    "def show_scores(**scores):\n",
    "    for key,val in scores.items():\n",
    "        print(f\"{key} : {val}\")\n",
    "        \n",
    "show_scores(Ariel=90,Bell=85,Chris=88,Donna=92,Emmy=95)"
   ]
  },
  {
   "cell_type": "markdown",
   "metadata": {},
   "source": [
    "リスト「data」があります。フィルタ関数とラムダ式を利用して、リスト「data」から偶数のみを取り出し、新しいリストを作成してください。実行結果のように表示する処理を作成してください"
   ]
  },
  {
   "cell_type": "code",
   "execution_count": 12,
   "metadata": {},
   "outputs": [
    {
     "name": "stdout",
     "output_type": "stream",
     "text": [
      "[6, 8, 14, 2, 10]\n"
     ]
    }
   ],
   "source": [
    "\n",
    "data = [3,6,8,14,2,10,13,11,5]\n",
    "\n",
    "datanew = list(filter(lambda x: x % 2 == 0, data))\n",
    "print(datanew)"
   ]
  }
 ],
 "metadata": {
  "kernelspec": {
   "display_name": "venvall",
   "language": "python",
   "name": "python3"
  },
  "language_info": {
   "codemirror_mode": {
    "name": "ipython",
    "version": 3
   },
   "file_extension": ".py",
   "mimetype": "text/x-python",
   "name": "python",
   "nbconvert_exporter": "python",
   "pygments_lexer": "ipython3",
   "version": "3.12.3"
  }
 },
 "nbformat": 4,
 "nbformat_minor": 2
}
