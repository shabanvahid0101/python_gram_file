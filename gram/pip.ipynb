{
 "cells": [
  {
   "cell_type": "markdown",
   "metadata": {},
   "source": [
    "بروزرسانی پیش نیازها قبل از نصب pip"
   ]
  },
  {
   "cell_type": "markdown",
   "metadata": {},
   "source": [
    "python -m ensurepip --upgrade"
   ]
  },
  {
   "cell_type": "markdown",
   "metadata": {},
   "source": [
    "نصب بودن یا نبودن رو چک می کنه"
   ]
  },
  {
   "cell_type": "markdown",
   "metadata": {},
   "source": [
    "pip --version"
   ]
  },
  {
   "cell_type": "markdown",
   "metadata": {},
   "source": [
    "pip رو نصب میکنه"
   ]
  },
  {
   "cell_type": "markdown",
   "metadata": {},
   "source": [
    "python -m ensurepip --default-pip"
   ]
  },
  {
   "cell_type": "markdown",
   "metadata": {},
   "source": [
    "نصب از روی منبع خاص"
   ]
  },
  {
   "cell_type": "markdown",
   "metadata": {},
   "source": [
    "pip install path/to/library_name"
   ]
  },
  {
   "cell_type": "markdown",
   "metadata": {},
   "source": [
    "نصب کتابخانه"
   ]
  },
  {
   "cell_type": "markdown",
   "metadata": {},
   "source": [
    "python -m pip install library_name"
   ]
  },
  {
   "cell_type": "markdown",
   "metadata": {},
   "source": [
    "نصب کتابخانه"
   ]
  },
  {
   "cell_type": "markdown",
   "metadata": {},
   "source": [
    "pip install library_name"
   ]
  },
  {
   "cell_type": "markdown",
   "metadata": {},
   "source": [
    "جستجو بین کتابخانه ها"
   ]
  },
  {
   "cell_type": "markdown",
   "metadata": {},
   "source": [
    "pip search library_name"
   ]
  },
  {
   "cell_type": "markdown",
   "metadata": {},
   "source": [
    "لیست کتابخانه های نصب شده"
   ]
  },
  {
   "cell_type": "markdown",
   "metadata": {},
   "source": [
    "pip list"
   ]
  },
  {
   "cell_type": "markdown",
   "metadata": {},
   "source": [
    "نمایش مشخصات کتابخانه"
   ]
  },
  {
   "cell_type": "markdown",
   "metadata": {},
   "source": [
    "pip show library_name"
   ]
  },
  {
   "cell_type": "markdown",
   "metadata": {},
   "source": [
    "بروزرسانی کتابخانه"
   ]
  },
  {
   "cell_type": "markdown",
   "metadata": {},
   "source": [
    "pip install --upgrade library_name"
   ]
  },
  {
   "cell_type": "markdown",
   "metadata": {},
   "source": [
    "نصب کتابخانه با ورژن خاص"
   ]
  },
  {
   "cell_type": "markdown",
   "metadata": {},
   "source": [
    "pip install library_name==version"
   ]
  },
  {
   "cell_type": "markdown",
   "metadata": {},
   "source": [
    "حذف پکیج"
   ]
  },
  {
   "cell_type": "markdown",
   "metadata": {},
   "source": [
    "pip uninstall library_name"
   ]
  },
  {
   "cell_type": "markdown",
   "metadata": {},
   "source": [
    "محل ذخیره کتابخانه ها"
   ]
  },
  {
   "cell_type": "code",
   "execution_count": 1,
   "metadata": {},
   "outputs": [
    {
     "name": "stdout",
     "output_type": "stream",
     "text": [
      "C:\\Program Files\\WindowsApps\\PythonSoftwareFoundation.Python.3.12_3.12.2032.0_x64__qbz5n2kfra8p0\\python312.zip\n",
      "C:\\Program Files\\WindowsApps\\PythonSoftwareFoundation.Python.3.12_3.12.2032.0_x64__qbz5n2kfra8p0\\DLLs\n",
      "C:\\Program Files\\WindowsApps\\PythonSoftwareFoundation.Python.3.12_3.12.2032.0_x64__qbz5n2kfra8p0\\Lib\n",
      "C:\\Program Files\\WindowsApps\\PythonSoftwareFoundation.Python.3.12_3.12.2032.0_x64__qbz5n2kfra8p0\n",
      "\n",
      "C:\\Users\\vahid\\AppData\\Local\\Packages\\PythonSoftwareFoundation.Python.3.12_qbz5n2kfra8p0\\LocalCache\\local-packages\\Python312\\site-packages\n",
      "C:\\Users\\vahid\\AppData\\Local\\Packages\\PythonSoftwareFoundation.Python.3.12_qbz5n2kfra8p0\\LocalCache\\local-packages\\Python312\\site-packages\\win32\n",
      "C:\\Users\\vahid\\AppData\\Local\\Packages\\PythonSoftwareFoundation.Python.3.12_qbz5n2kfra8p0\\LocalCache\\local-packages\\Python312\\site-packages\\win32\\lib\n",
      "C:\\Users\\vahid\\AppData\\Local\\Packages\\PythonSoftwareFoundation.Python.3.12_qbz5n2kfra8p0\\LocalCache\\local-packages\\Python312\\site-packages\\Pythonwin\n",
      "C:\\Program Files\\WindowsApps\\PythonSoftwareFoundation.Python.3.12_3.12.2032.0_x64__qbz5n2kfra8p0\\Lib\\site-packages\n"
     ]
    }
   ],
   "source": [
    "import sys\n",
    "for p in sys.path:\n",
    "    print(p)"
   ]
  },
  {
   "cell_type": "markdown",
   "metadata": {},
   "source": [
    "# ساختن یک بخش مجازی\n",
    "python.exe -m venv venvname"
   ]
  },
  {
   "cell_type": "markdown",
   "metadata": {},
   "source": []
  }
 ],
 "metadata": {
  "kernelspec": {
   "display_name": "Python 3",
   "language": "python",
   "name": "python3"
  },
  "language_info": {
   "codemirror_mode": {
    "name": "ipython",
    "version": 3
   },
   "file_extension": ".py",
   "mimetype": "text/x-python",
   "name": "python",
   "nbconvert_exporter": "python",
   "pygments_lexer": "ipython3",
   "version": "3.12.8"
  }
 },
 "nbformat": 4,
 "nbformat_minor": 2
}
