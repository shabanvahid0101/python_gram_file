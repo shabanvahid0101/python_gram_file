{
 "cells": [
  {
   "cell_type": "markdown",
   "metadata": {},
   "source": [
    "وقتی نخواهیم بعدا از یک متغیر استفاده کنیم می توانیم از _استفاده کنبم"
   ]
  },
  {
   "cell_type": "code",
   "execution_count": 1,
   "metadata": {},
   "outputs": [
    {
     "name": "stdout",
     "output_type": "stream",
     "text": [
      "62\n",
      "11\n",
      "185\n",
      "104\n",
      "11\n",
      "194\n",
      "77\n",
      "53\n",
      "86\n",
      "8\n"
     ]
    }
   ],
   "source": [
    "import random\n",
    "for _ in range(10):\n",
    "    print(random.randrange(5,220,3))"
   ]
  },
  {
   "cell_type": "code",
   "execution_count": 4,
   "metadata": {},
   "outputs": [
    {
     "name": "stdout",
     "output_type": "stream",
     "text": [
      "Loop 1:\n",
      "Loop 2:\n",
      "Loop 3:\n"
     ]
    }
   ],
   "source": [
    "for i in range(3):\n",
    "    print(f\"Loop {i+1}:\")"
   ]
  },
  {
   "cell_type": "code",
   "execution_count": 5,
   "metadata": {},
   "outputs": [
    {
     "name": "stdout",
     "output_type": "stream",
     "text": [
      "apple\n",
      "orange\n",
      "melon\n"
     ]
    }
   ],
   "source": [
    "for value in [\"apple\",\"orange\",\"melon\"]:\n",
    "    print(value)"
   ]
  },
  {
   "cell_type": "code",
   "execution_count": 6,
   "metadata": {},
   "outputs": [
    {
     "name": "stdout",
     "output_type": "stream",
     "text": [
      "0\n",
      "1\n",
      "2\n",
      "3\n",
      "4\n"
     ]
    }
   ],
   "source": [
    "for i in range(5):\n",
    "    print(i)"
   ]
  },
  {
   "cell_type": "code",
   "execution_count": null,
   "metadata": {},
   "outputs": [
    {
     "name": "stdout",
     "output_type": "stream",
     "text": [
      "2\n",
      "4\n",
      "6\n",
      "8\n",
      "10\n",
      "12\n"
     ]
    }
   ],
   "source": [
    "for i in range(2,12,2):\n",
    "    print(i)"
   ]
  },
  {
   "cell_type": "code",
   "execution_count": 9,
   "metadata": {},
   "outputs": [
    {
     "name": "stdout",
     "output_type": "stream",
     "text": [
      "-3\n",
      "-6\n",
      "-9\n",
      "-12\n",
      "-15\n",
      "-18\n",
      "-21\n"
     ]
    }
   ],
   "source": [
    "for x in range(-3,-22,-3):\n",
    "    print(x)"
   ]
  },
  {
   "cell_type": "markdown",
   "metadata": {},
   "source": [
    "# List"
   ]
  },
  {
   "cell_type": "code",
   "execution_count": 10,
   "metadata": {},
   "outputs": [
    {
     "name": "stdout",
     "output_type": "stream",
     "text": [
      "red\n",
      "blue\n",
      "green\n",
      "yellow\n",
      "pink\n"
     ]
    }
   ],
   "source": [
    "colors = [\"red\",\"blue\",\"green\",\"yellow\",\"pink\"]\n",
    "for color in colors:\n",
    "    print(color)"
   ]
  },
  {
   "cell_type": "markdown",
   "metadata": {},
   "source": [
    "# dictionary"
   ]
  },
  {
   "cell_type": "code",
   "execution_count": 11,
   "metadata": {},
   "outputs": [
    {
     "name": "stdout",
     "output_type": "stream",
     "text": [
      "english: 90\n",
      "math: 80\n",
      "science: 70\n",
      "history: 60\n",
      "geography: 50\n"
     ]
    }
   ],
   "source": [
    "scores={\n",
    "    \"english\":90,\n",
    "    \"math\":80,\n",
    "    \"science\":70,\n",
    "    \"history\":60,\n",
    "    \"geography\":50,\n",
    "}\n",
    "for key in scores:\n",
    "    print(f\"{key}: {scores[key]}\")"
   ]
  },
  {
   "cell_type": "markdown",
   "metadata": {},
   "source": [
    "# Set"
   ]
  },
  {
   "cell_type": "code",
   "execution_count": 12,
   "metadata": {},
   "outputs": [
    {
     "name": "stdout",
     "output_type": "stream",
     "text": [
      "Micky\n",
      "Daizy\n",
      "Minny\n",
      "Donald\n"
     ]
    }
   ],
   "source": [
    "members={\"Micky\",\"Minny\",\"Donald\",\"Daizy\"}\n",
    "for i in members:\n",
    "    print(i)"
   ]
  },
  {
   "cell_type": "code",
   "execution_count": 16,
   "metadata": {},
   "outputs": [
    {
     "name": "stdout",
     "output_type": "stream",
     "text": [
      "Elsa\n",
      "Anna\n"
     ]
    }
   ],
   "source": [
    "members=[\"Micky\",\"Minny\",\"Elsa\",\"Donald\",\"Anna\"]\n",
    "for i in members:\n",
    "    if i==\"Elsa\" or i==\"Anna\":\n",
    "        print(i)"
   ]
  },
  {
   "cell_type": "code",
   "execution_count": 20,
   "metadata": {},
   "outputs": [
    {
     "name": "stdout",
     "output_type": "stream",
     "text": [
      "34\n"
     ]
    }
   ],
   "source": [
    "numbers = [3,5,8,2,9,7]\n",
    "total=0\n",
    "for i in numbers:\n",
    "    total += i \n",
    "    \n",
    "print(total)"
   ]
  }
 ],
 "metadata": {
  "kernelspec": {
   "display_name": "venvall",
   "language": "python",
   "name": "python3"
  },
  "language_info": {
   "codemirror_mode": {
    "name": "ipython",
    "version": 3
   },
   "file_extension": ".py",
   "mimetype": "text/x-python",
   "name": "python",
   "nbconvert_exporter": "python",
   "pygments_lexer": "ipython3",
   "version": "3.12.3"
  }
 },
 "nbformat": 4,
 "nbformat_minor": 2
}
