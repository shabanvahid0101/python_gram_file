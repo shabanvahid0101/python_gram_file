{
 "cells": [
  {
   "cell_type": "code",
   "execution_count": 1,
   "metadata": {},
   "outputs": [
    {
     "name": "stdout",
     "output_type": "stream",
     "text": [
      "(4, 2, 5, 7, 6)\n",
      "(4, 2, 5, 7, 6)\n"
     ]
    }
   ],
   "source": [
    "numbers1 = (4,2,5,7,6)\n",
    "print (numbers1)\n",
    "numbers2=tuple([4,2,5,7,6])\n",
    "print(numbers2)"
   ]
  },
  {
   "cell_type": "code",
   "execution_count": 2,
   "metadata": {},
   "outputs": [
    {
     "name": "stdout",
     "output_type": "stream",
     "text": [
      "()\n",
      "()\n"
     ]
    }
   ],
   "source": [
    "numbers1=()\n",
    "print(numbers1)\n",
    "numbers2=tuple()\n",
    "print(numbers2)"
   ]
  },
  {
   "cell_type": "code",
   "execution_count": 3,
   "metadata": {},
   "outputs": [
    {
     "name": "stdout",
     "output_type": "stream",
     "text": [
      "('red', 'blue', 'green', 'yellow', 'pink', 'black')\n"
     ]
    }
   ],
   "source": [
    "\n",
    "colors1 = (\"red\",\"blue\",\"green\",\"yellow\",\"pink\",\"black\")\n",
    "\n",
    "print(colors1)"
   ]
  },
  {
   "cell_type": "code",
   "execution_count": 4,
   "metadata": {},
   "outputs": [
    {
     "name": "stdout",
     "output_type": "stream",
     "text": [
      "('red', 'blue', 'green', 'yellow', 'pink', 'black')\n",
      "('red', 'blue', 'green')\n",
      "('green', 'yellow')\n",
      "('yellow', 'pink', 'black')\n",
      "('red', 'green', 'pink')\n",
      "('black', 'pink', 'yellow', 'green', 'blue', 'red')\n"
     ]
    }
   ],
   "source": [
    "print(colors1)\n",
    "colors2=colors1[0:3]\n",
    "print(colors2)\n",
    "colors3=colors1[2:4]\n",
    "print(colors3)\n",
    "colors4=colors1[3:]\n",
    "print(colors4)\n",
    "colors5=colors1[::2]\n",
    "print(colors5)\n",
    "colors6=colors1[::-1]\n",
    "print(colors6)"
   ]
  },
  {
   "cell_type": "code",
   "execution_count": 5,
   "metadata": {},
   "outputs": [
    {
     "name": "stdout",
     "output_type": "stream",
     "text": [
      "('yamada', 'tarou')\n",
      "yamada\n",
      "tarou\n"
     ]
    }
   ],
   "source": [
    "name = (\"yamada\",\"tarou\")\n",
    "print(name)\n",
    "last_name,first_name=name\n",
    "print(last_name)\n",
    "print(first_name)"
   ]
  },
  {
   "cell_type": "markdown",
   "metadata": {},
   "source": [
    "# enumerate"
   ]
  },
  {
   "cell_type": "code",
   "execution_count": 6,
   "metadata": {},
   "outputs": [
    {
     "name": "stdout",
     "output_type": "stream",
     "text": [
      "0==>red\n",
      "1==>blue\n",
      "2==>green\n",
      "3==>yellow\n"
     ]
    }
   ],
   "source": [
    "colors = (\"red\",\"blue\",\"green\",\"yellow\")\n",
    "for index,value in enumerate(colors):\n",
    "    print(str(index)+\"==>\"+value)"
   ]
  }
 ],
 "metadata": {
  "kernelspec": {
   "display_name": "venvall",
   "language": "python",
   "name": "python3"
  },
  "language_info": {
   "codemirror_mode": {
    "name": "ipython",
    "version": 3
   },
   "file_extension": ".py",
   "mimetype": "text/x-python",
   "name": "python",
   "nbconvert_exporter": "python",
   "pygments_lexer": "ipython3",
   "version": "3.12.3"
  }
 },
 "nbformat": 4,
 "nbformat_minor": 2
}
