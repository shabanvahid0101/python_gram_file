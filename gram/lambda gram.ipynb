{
 "cells": [
  {
   "cell_type": "markdown",
   "metadata": {},
   "source": [
    "# lambda"
   ]
  },
  {
   "cell_type": "code",
   "execution_count": 1,
   "metadata": {},
   "outputs": [
    {
     "name": "stdout",
     "output_type": "stream",
     "text": [
      "4\n"
     ]
    }
   ],
   "source": [
    "double = lambda n: n*2\n",
    "print(double(2))"
   ]
  },
  {
   "cell_type": "code",
   "execution_count": 4,
   "metadata": {},
   "outputs": [
    {
     "name": "stdout",
     "output_type": "stream",
     "text": [
      "[17.0, 61.5, 32.0, 33.0, 1.0, 5.5, 23.0, 63.5]\n"
     ]
    }
   ],
   "source": [
    "numbers=[34,123,64,66,2,11,46,127]\n",
    "result = list(map(lambda n :n/2,numbers))\n",
    "print(result)"
   ]
  },
  {
   "cell_type": "code",
   "execution_count": 9,
   "metadata": {},
   "outputs": [
    {
     "name": "stdout",
     "output_type": "stream",
     "text": [
      "[123, 11, 127]\n"
     ]
    }
   ],
   "source": [
    "result2=list(filter(lambda n :n%2!=0,numbers))\n",
    "print(result2)"
   ]
  },
  {
   "cell_type": "code",
   "execution_count": 11,
   "metadata": {},
   "outputs": [
    {
     "name": "stdout",
     "output_type": "stream",
     "text": [
      "[8, 14, 2, 10, 14, 11, 5]\n"
     ]
    }
   ],
   "source": [
    "data=[3,6,8,14,2,10,14,11,5]\n",
    "result3=list(filter(lambda n : n%3!=0,data))\n",
    "print(result3)"
   ]
  },
  {
   "cell_type": "code",
   "execution_count": null,
   "metadata": {},
   "outputs": [],
   "source": []
  },
  {
   "cell_type": "code",
   "execution_count": null,
   "metadata": {},
   "outputs": [],
   "source": []
  },
  {
   "cell_type": "markdown",
   "metadata": {},
   "source": [
    "basic syntax"
   ]
  },
  {
   "cell_type": "code",
   "execution_count": 1,
   "metadata": {},
   "outputs": [
    {
     "name": "stdout",
     "output_type": "stream",
     "text": [
      "result_regular: 8\n",
      "result_lambda: 8\n"
     ]
    }
   ],
   "source": [
    "#regular function \n",
    "def add (x,y):\n",
    "    return x+y\n",
    "#equivalent lambda function\n",
    "lambda_add = lambda x,y: x+y\n",
    "\n",
    "result_regular = add(5,3)\n",
    "result_lambda = lambda_add(5,3)\n",
    "\n",
    "print(\"result_regular:\",result_regular)\n",
    "print(\"result_lambda:\",result_lambda)"
   ]
  },
  {
   "cell_type": "markdown",
   "metadata": {},
   "source": [
    "### filtering with lambda"
   ]
  },
  {
   "cell_type": "code",
   "execution_count": 2,
   "metadata": {},
   "outputs": [
    {
     "name": "stdout",
     "output_type": "stream",
     "text": [
      "even_numbers: [2, 4, 6, 8, 10]\n"
     ]
    }
   ],
   "source": [
    "#list of numbers    \n",
    "numbers = [1,2,3,4,5,6,7,8,9,10]\n",
    "#filter even numbers using a lambda function\n",
    "even_numbers = list(filter(lambda x: x%2==0,numbers))\n",
    "print(\"even_numbers:\",even_numbers)"
   ]
  },
  {
   "cell_type": "markdown",
   "metadata": {},
   "source": [
    "### maping with lambda"
   ]
  },
  {
   "cell_type": "code",
   "execution_count": 3,
   "metadata": {},
   "outputs": [
    {
     "name": "stdout",
     "output_type": "stream",
     "text": [
      "square_numbers: [1, 4, 9, 16, 25, 36, 49, 64, 81, 100]\n"
     ]
    }
   ],
   "source": [
    "square_numbers = list(map(lambda x: x**2,numbers))\n",
    "print(\"square_numbers:\",square_numbers)"
   ]
  },
  {
   "cell_type": "markdown",
   "metadata": {},
   "source": [
    "### sorting with lambda"
   ]
  },
  {
   "cell_type": "code",
   "execution_count": 4,
   "metadata": {},
   "outputs": [
    {
     "name": "stdout",
     "output_type": "stream",
     "text": [
      "sorted_tuples: [('charlie', 1), ('alice', 2), ('bob', 3), ('david', 4)]\n"
     ]
    }
   ],
   "source": [
    "#list of tuples\n",
    "tuples = [(\"alice\",2),(\"bob\",3),(\"charlie\",1),(\"david\",4)]\n",
    "#sort tuples by the second element\n",
    "sorted_tuples = sorted(tuples,key=lambda x: x[1])\n",
    "print(\"sorted_tuples:\",sorted_tuples)"
   ]
  },
  {
   "cell_type": "markdown",
   "metadata": {},
   "source": [
    "### using lambda with max function"
   ]
  },
  {
   "cell_type": "code",
   "execution_count": 6,
   "metadata": {},
   "outputs": [
    {
     "name": "stdout",
     "output_type": "stream",
     "text": [
      "max_number: 56\n",
      "min_number: 1\n"
     ]
    }
   ],
   "source": [
    "#list of numbers\n",
    "numbers=[23,3,4,56,3,2,1,4,5,6,7,8,9,10]\n",
    "#find the maximum number\n",
    "max_number = max(numbers,key=lambda x: x)\n",
    "print(\"max_number:\",max_number)\n",
    "#find the minimum number\n",
    "min_number = min(numbers,key=lambda x: x)\n",
    "print(\"min_number:\",min_number)\n",
    "\n"
   ]
  },
  {
   "cell_type": "markdown",
   "metadata": {},
   "source": [
    "### using lambda with sorted and multiple cariteria"
   ]
  },
  {
   "cell_type": "code",
   "execution_count": 7,
   "metadata": {},
   "outputs": [
    {
     "name": "stdout",
     "output_type": "stream",
     "text": [
      "sorted_people: [{'name': 'alice', 'age': 23}, {'name': 'david', 'age': 25}, {'name': 'charlie', 'age': 31}, {'name': 'bob', 'age': 34}]\n"
     ]
    }
   ],
   "source": [
    "# list of dictionaries representing people with name and age\n",
    "people = [{\"name\":\"alice\",\"age\":23},{\"name\":\"bob\",\"age\":34},{\"name\":\"charlie\",\"age\":31},{\"name\":\"david\",\"age\":25}]\n",
    "#sort people by age\n",
    "sorted_people = sorted(people,key=lambda x: x[\"age\"])\n",
    "print(\"sorted_people:\",sorted_people)"
   ]
  },
  {
   "cell_type": "markdown",
   "metadata": {},
   "source": [
    "###"
   ]
  },
  {
   "cell_type": "markdown",
   "metadata": {},
   "source": [
    "### using lambda with reduce from functools"
   ]
  },
  {
   "cell_type": "code",
   "execution_count": 9,
   "metadata": {},
   "outputs": [
    {
     "name": "stdout",
     "output_type": "stream",
     "text": [
      "product of numbers: 120\n"
     ]
    }
   ],
   "source": [
    "from functools import reduce\n",
    "#list of numbers\n",
    "numbers = [1,2,3,4,5]\n",
    "#calculate the product of all numbers using lambda function and reduce\n",
    "product = reduce(lambda x,y: x*y,numbers)\n",
    "print(\"product of numbers:\",product)"
   ]
  },
  {
   "cell_type": "markdown",
   "metadata": {},
   "source": [
    "### using lambda with conditional Expressions"
   ]
  },
  {
   "cell_type": "code",
   "execution_count": 10,
   "metadata": {},
   "outputs": [
    {
     "name": "stdout",
     "output_type": "stream",
     "text": [
      "even_square_numbers: [53824, 54756, 23, 16, 3136, 3, 4, 1, 16, 5, 36, 7, 64, 9, 100]\n"
     ]
    }
   ],
   "source": [
    "# list of numbers\n",
    "numbers = [232,234,23,4,56,3,2,1,4,5,6,7,8,9,10]\n",
    "#　use a lambda function with a conditional expression to filter and square even numbers\n",
    "even_square_numbers = list(map(lambda x: x**2 if x%2==0 else x,numbers))\n",
    "print(\"even_square_numbers:\",even_square_numbers)"
   ]
  },
  {
   "cell_type": "markdown",
   "metadata": {},
   "source": [
    "### using lambda with key in max and min to find extremes"
   ]
  },
  {
   "cell_type": "code",
   "execution_count": 11,
   "metadata": {},
   "outputs": [
    {
     "name": "stdout",
     "output_type": "stream",
     "text": [
      "max_product: ('apple', 500)\n",
      "min_product: ('banana', 150)\n"
     ]
    }
   ],
   "source": [
    "# list of tuples representing products with name and price\n",
    "products = [(\"apple\",500),(\"banana\",150),(\"orange\",180),(\"kiwi\",200)]\n",
    "# find the product with the highest price\n",
    "max_product = max(products,key=lambda x: x[1])\n",
    "print(\"max_product:\",max_product)\n",
    "# find the product with the lowest price\n",
    "min_product = min(products,key=lambda x: x[1])\n",
    "print(\"min_product:\",min_product)"
   ]
  },
  {
   "cell_type": "markdown",
   "metadata": {},
   "source": [
    "# Lambda"
   ]
  },
  {
   "cell_type": "markdown",
   "metadata": {},
   "source": [
    "انجام محاسبات\n",
    "\n",
    "lambda"
   ]
  },
  {
   "cell_type": "code",
   "execution_count": null,
   "metadata": {},
   "outputs": [
    {
     "name": "stdout",
     "output_type": "stream",
     "text": [
      "25\n",
      "100\n"
     ]
    }
   ],
   "source": [
    "double = lambda n : n**2\n",
    "print(double(5))\n",
    "print(double(10))"
   ]
  },
  {
   "cell_type": "markdown",
   "metadata": {},
   "source": [
    "map & lambda"
   ]
  },
  {
   "cell_type": "markdown",
   "metadata": {},
   "source": [
    "map ( 1, 2)\n",
    "\n",
    "1 فرمول لامبدا یا تابع قرار میگیره\n",
    "\n",
    "2 شی قابل تکرار"
   ]
  },
  {
   "cell_type": "code",
   "execution_count": null,
   "metadata": {},
   "outputs": [
    {
     "name": "stdout",
     "output_type": "stream",
     "text": [
      "[1, 4, 9, 16, 25, 36, 49, 64, 81, 100]\n"
     ]
    }
   ],
   "source": [
    "numbers = [1,2,3,4,5,6,7,8,9,10]\n",
    "result = list(map(lambda n : n**2, numbers))\n",
    "print(result)"
   ]
  },
  {
   "cell_type": "code",
   "execution_count": null,
   "metadata": {},
   "outputs": [
    {
     "data": {
      "text/plain": [
       "[False, True, False, True, False, True, False, True, False, True]"
      ]
     },
     "metadata": {},
     "output_type": "display_data"
    }
   ],
   "source": [
    "def is_even(n):\n",
    "    return n % 2 == 0\n",
    "numbers = [1,2,3,4,5,6,7,8,9,10]\n",
    "result = list(map(is_even, numbers))\n",
    "result"
   ]
  },
  {
   "cell_type": "code",
   "execution_count": null,
   "metadata": {},
   "outputs": [
    {
     "data": {
      "text/plain": [
       "[1, 3, 5, 7, 33]"
      ]
     },
     "metadata": {},
     "output_type": "display_data"
    }
   ],
   "source": [
    "numbers = [1,22,3,4,5,66,7,58,33,10]\n",
    "result = list(filter(lambda n : n % 2 != 0, numbers))\n",
    "result"
   ]
  }
 ],
 "metadata": {
  "kernelspec": {
   "display_name": "venvdatascience",
   "language": "python",
   "name": "python3"
  },
  "language_info": {
   "codemirror_mode": {
    "name": "ipython",
    "version": 3
   },
   "file_extension": ".py",
   "mimetype": "text/x-python",
   "name": "python",
   "nbconvert_exporter": "python",
   "pygments_lexer": "ipython3",
   "version": "3.12.3"
  }
 },
 "nbformat": 4,
 "nbformat_minor": 2
}
