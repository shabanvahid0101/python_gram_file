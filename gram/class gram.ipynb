{
 "cells": [
  {
   "cell_type": "markdown",
   "metadata": {},
   "source": [
    "# class"
   ]
  },
  {
   "cell_type": "markdown",
   "metadata": {},
   "source": [
    "## نکات ضروری\n",
    "\n",
    "برای تعریف نام کلاس باید حرف اول رو با حروف بزرگ تعیین کنیم"
   ]
  },
  {
   "cell_type": "markdown",
   "metadata": {},
   "source": [
    "## basic of class method"
   ]
  },
  {
   "cell_type": "markdown",
   "metadata": {},
   "source": [
    "### تعریف متد از کلاس "
   ]
  },
  {
   "cell_type": "code",
   "execution_count": 1,
   "metadata": {},
   "outputs": [],
   "source": [
    "class myclass:\n",
    "    class_variable = 0\n",
    "    def __int__(self,instance_variable):\n",
    "        self.instance_variable = instance_variable\n",
    "    @classmethod\n",
    "    def increment_class_variable(cls):\n",
    "        cls.class_variable +=1\n",
    "        return cls.class_variable"
   ]
  },
  {
   "cell_type": "code",
   "execution_count": 4,
   "metadata": {},
   "outputs": [
    {
     "data": {
      "text/plain": [
       "3"
      ]
     },
     "execution_count": 4,
     "metadata": {},
     "output_type": "execute_result"
    }
   ],
   "source": [
    "myclass.increment_class_variable()"
   ]
  },
  {
   "cell_type": "markdown",
   "metadata": {},
   "source": [
    "### ارث بری در کلاس ها"
   ]
  },
  {
   "cell_type": "code",
   "execution_count": 5,
   "metadata": {},
   "outputs": [
    {
     "name": "stdout",
     "output_type": "stream",
     "text": [
      "Iphone\n",
      "iphone8plus\n",
      "8000\n",
      "iphone8plus is safe to use\n",
      "iphone8plus need taamir\n"
     ]
    }
   ],
   "source": [
    "class Mobile:\n",
    "    def __init__(self, brand, model, price):\n",
    "        self.brand = brand\n",
    "        self.model = model\n",
    "        self.price = price\n",
    "    def Safe(self):\n",
    "        print(f\"{self.model} is safe to use\")\n",
    "    def repair(self,service):\n",
    "        print(f\"{self.model} need {service}\")\n",
    "m1=Mobile(\"Iphone\",\"iphone8plus\",8000)\n",
    "print(m1.brand)\n",
    "print(m1.model)\n",
    "print(m1.price)\n",
    "m1.Safe()\n",
    "m1.repair(\"taamir\")"
   ]
  },
  {
   "cell_type": "code",
   "execution_count": 2,
   "metadata": {},
   "outputs": [
    {
     "name": "stdout",
     "output_type": "stream",
     "text": [
      "Player's name is:  John\n",
      "Player's age is:  25\n",
      "====\n",
      "Player's name is:  Alice\n",
      "Player's age is:  30\n"
     ]
    }
   ],
   "source": [
    "class player:\n",
    "    def show_name(self):\n",
    "        print(\"Player's name is: \", self.name)\n",
    "    def show_age(self):\n",
    "        print(\"Player's age is: \", self.age)\n",
    "player1=player()\n",
    "player1.name=\"John\"\n",
    "player1.age=25\n",
    "player1.show_name()\n",
    "player1.show_age()\n",
    "\n",
    "print(\"====\")\n",
    "player2=player()\n",
    "player2.name=\"Alice\"\n",
    "player2.age=30\n",
    "player2.show_name()\n",
    "player2.show_age()\n"
   ]
  },
  {
   "cell_type": "code",
   "execution_count": 7,
   "metadata": {},
   "outputs": [
    {
     "name": "stdout",
     "output_type": "stream",
     "text": [
      "i am vahid\n",
      "i am 25 years old\n",
      "my score is 100\n",
      "=====\n",
      "i am ali\n",
      "i am 44 years old\n",
      "my score is 73\n"
     ]
    }
   ],
   "source": [
    "class player:\n",
    "    def __init__(self, name, age, score):\n",
    "        self.name = name\n",
    "        self.age = age\n",
    "        self.score = score\n",
    "    def show_name(self):\n",
    "        print(\"i am %s\"%self.name)\n",
    "    def show_age(self):\n",
    "        print(\"i am %d years old\"%self.age)\n",
    "    def show_score(self):\n",
    "        print(\"my score is %d\" %self.score)\n",
    "player1=player(\"vahid\",25,100)\n",
    "player1.show_name()\n",
    "player1.show_age()\n",
    "player1.show_score()\n",
    "\n",
    "print(\"=====\")\n",
    "\n",
    "player2=player(\"ali\",44,73)\n",
    "player2.show_name()\n",
    "player2.show_age()\n",
    "player2.show_score()\n"
   ]
  },
  {
   "cell_type": "code",
   "execution_count": 8,
   "metadata": {},
   "outputs": [
    {
     "name": "stdout",
     "output_type": "stream",
     "text": [
      "37.5\n"
     ]
    }
   ],
   "source": [
    "class Triangle:\n",
    "    def __init__(self, a, b):\n",
    "        self.a = a\n",
    "        self.b = b\n",
    "    def get_triangle_area(self):\n",
    "        area= (self.a*self.b)/2\n",
    "        return area\n",
    "t1=Triangle(15,5)\n",
    "result=t1.get_triangle_area()\n",
    "print(result)\n"
   ]
  },
  {
   "cell_type": "code",
   "execution_count": 2,
   "metadata": {},
   "outputs": [
    {
     "name": "stdout",
     "output_type": "stream",
     "text": [
      "Player's name is:  John\n",
      "Player's age is:  25\n",
      "Player's position is:  Forward\n"
     ]
    }
   ],
   "source": [
    "class player:\n",
    "    def __init__(self, name, age, position):\n",
    "        self.name = name\n",
    "        self.age = age\n",
    "        self.position = position\n",
    "    def show_name(self):\n",
    "        print(\"Player's name is: \", self.name)\n",
    "    def show_age(self):\n",
    "        print(\"Player's age is: \", self.age)\n",
    "    def show_position(self):\n",
    "        print(\"Player's position is: \", self.position)\n",
    "player1=player(\"John\",25,\"Forward\")\n",
    "player1.show_name()\n",
    "player1.show_age()\n",
    "player1.show_position()\n"
   ]
  },
  {
   "cell_type": "code",
   "execution_count": 32,
   "metadata": {},
   "outputs": [
    {
     "name": "stdout",
     "output_type": "stream",
     "text": [
      "kanji : Unnamed:\n",
      "hiragana : 0\n"
     ]
    },
    {
     "ename": "AttributeError",
     "evalue": "'word' object has no attribute 'persian'",
     "output_type": "error",
     "traceback": [
      "\u001b[1;31m---------------------------------------------------------------------------\u001b[0m",
      "\u001b[1;31mAttributeError\u001b[0m                            Traceback (most recent call last)",
      "Cell \u001b[1;32mIn[32], line 23\u001b[0m\n\u001b[0;32m     21\u001b[0m word1\u001b[38;5;241m.\u001b[39mshow_kanji()\n\u001b[0;32m     22\u001b[0m word1\u001b[38;5;241m.\u001b[39mshow_hiragana()\n\u001b[1;32m---> 23\u001b[0m \u001b[43mword1\u001b[49m\u001b[38;5;241;43m.\u001b[39;49m\u001b[43mshow_persian\u001b[49m\u001b[43m(\u001b[49m\u001b[43m)\u001b[49m\n\u001b[0;32m     24\u001b[0m word1\u001b[38;5;241m.\u001b[39mshow_english()\n\u001b[0;32m     25\u001b[0m \u001b[38;5;28mprint\u001b[39m(\u001b[38;5;124m\"\u001b[39m\u001b[38;5;124m=====\u001b[39m\u001b[38;5;124m\"\u001b[39m)\n",
      "Cell \u001b[1;32mIn[32], line 16\u001b[0m, in \u001b[0;36mword.show_persian\u001b[1;34m(self)\u001b[0m\n\u001b[0;32m     15\u001b[0m \u001b[38;5;28;01mdef\u001b[39;00m \u001b[38;5;21mshow_persian\u001b[39m(\u001b[38;5;28mself\u001b[39m):\n\u001b[1;32m---> 16\u001b[0m     \u001b[38;5;28mprint\u001b[39m(\u001b[38;5;124m\"\u001b[39m\u001b[38;5;124mpersian : \u001b[39m\u001b[38;5;124m\"\u001b[39m \u001b[38;5;241m+\u001b[39m \u001b[38;5;28;43mself\u001b[39;49m\u001b[38;5;241;43m.\u001b[39;49m\u001b[43mpersian\u001b[49m)\n",
      "\u001b[1;31mAttributeError\u001b[0m: 'word' object has no attribute 'persian'"
     ]
    }
   ],
   "source": [
    "import pandas as pd\n",
    "csv_file = pd.read_csv(\"D:/code/python/idea/find word/data.csv\")\n",
    "str_file=csv_file.to_string()\n",
    "list_file=str_file.split(\"\\n\")\n",
    "class word:\n",
    "    def __init__(self,kanji,hiragana,persian,english):\n",
    "        self.kanji=kanji\n",
    "        self.hiragana=hiragana\n",
    "        self.perisan=persian\n",
    "        self.english=english\n",
    "    def show_kanji(self):\n",
    "        print(\"kanji : \" + self.kanji)\n",
    "    def show_hiragana(self):\n",
    "        print(\"hiragana : \" + self.hiragana)\n",
    "    def show_persian(self):\n",
    "        print(\"persian : \" + self.persian)\n",
    "    def show_english(self):\n",
    "        print(\"english : \" + self.english)\n",
    "for i in range(len(list_file)):\n",
    "    word1=word(list_file[i].split()[0],list_file[i].split()[1],list_file[i].split()[2],list_file[i].split()[3])\n",
    "    word1.show_kanji()\n",
    "    word1.show_hiragana()\n",
    "    word1.show_persian()\n",
    "    word1.show_english()\n",
    "    print(\"=====\")\n",
    "        "
   ]
  },
  {
   "cell_type": "markdown",
   "metadata": {},
   "source": [
    "# استفاده از کلاس در محاسبات ریاضی"
   ]
  },
  {
   "cell_type": "code",
   "execution_count": 33,
   "metadata": {},
   "outputs": [
    {
     "name": "stdout",
     "output_type": "stream",
     "text": [
      "25.0\n"
     ]
    }
   ],
   "source": [
    "class Triangle:\n",
    "    def __init__(self,base,height):\n",
    "        self.base = base\n",
    "        self.height = height\n",
    "        \n",
    "    def get_triangle_area(self):\n",
    "        area = (self.base * self.height)/ 2\n",
    "        return area\n",
    "        \n",
    "t1 = Triangle ( 10,5)\n",
    "result = t1.get_triangle_area()\n",
    "print(result)"
   ]
  },
  {
   "cell_type": "markdown",
   "metadata": {},
   "source": [
    "### تعریف متغیر بیرونی و درونی در کلاس ها"
   ]
  },
  {
   "cell_type": "code",
   "execution_count": 37,
   "metadata": {},
   "outputs": [
    {
     "name": "stdout",
     "output_type": "stream",
     "text": [
      "I am miky\n",
      "My work is sensei\n",
      "My hp is 20\n",
      "My money is 100\n",
      "I am masum\n",
      "My work is gakusei\n",
      "My hp is 26\n",
      "My money is 100\n",
      "I am miky\n",
      "My work is sensei\n",
      "My hp is 20\n",
      "My money is 200\n",
      "I am masum\n",
      "My work is gakusei\n",
      "My hp is 26\n",
      "My money is 200\n"
     ]
    }
   ],
   "source": [
    "class Character:\n",
    "    # بیرون تابع ها متغیر تعریف شده\n",
    "    money = 0\n",
    "    \n",
    "    def __init__(self, name , job, hp):\n",
    "        self.name = name\n",
    "        self.job = job\n",
    "        self.hp = hp\n",
    "    def show(self):\n",
    "        print(f\"I am {self.name}\")\n",
    "        print(f\"My work is {self.job}\")\n",
    "        print(f\"My hp is {self.hp}\")\n",
    "        # متغیر رو از کلاس برمیگردونه\n",
    "        print(f\"My money is {Character.money}\")\n",
    "        \n",
    "Character.money =100\n",
    "c1 = Character(\"miky\",\"sensei\",20)\n",
    "c1.show()\n",
    "\n",
    "c2 = Character(\"masum\",\"gakusei\",26)\n",
    "c2.show()\n",
    "\n",
    "Character.money = 200\n",
    "c1.show()\n",
    "c2.show()\n"
   ]
  },
  {
   "cell_type": "markdown",
   "metadata": {},
   "source": [
    "### تعریف کلاس متد ها"
   ]
  },
  {
   "cell_type": "code",
   "execution_count": 38,
   "metadata": {},
   "outputs": [
    {
     "name": "stdout",
     "output_type": "stream",
     "text": [
      "class method\n",
      " Money is 60\n",
      "instance method\n",
      " I am John\n",
      "Money is 60\n",
      " I am Bob\n",
      "Money is 60\n"
     ]
    }
   ],
   "source": [
    "class Character:\n",
    "    money = 0 \n",
    "    \n",
    "    def __init__(self,name):\n",
    "        self.name = name\n",
    "    def show (self):\n",
    "        print(\" I am \" + self.name)\n",
    "        print(\"Money is \"+str(Character.money))\n",
    "    @classmethod\n",
    "    def add_money(cls,money):\n",
    "        cls.money += money\n",
    "    @classmethod\n",
    "    def get_money(cls):\n",
    "        return cls.money\n",
    "        \n",
    "c1 = Character(\"John\")\n",
    "c2 = Character(\"Bob\")\n",
    "\n",
    "Character.add_money(10)\n",
    "Character.add_money(20)\n",
    "Character.add_money(30)\n",
    "\n",
    "print (\"class method\")\n",
    "money = Character.get_money()\n",
    "print(\" Money is \"+ str(money))\n",
    "print (\"instance method\")\n",
    "c1.show()\n",
    "c2.show()\n"
   ]
  },
  {
   "cell_type": "markdown",
   "metadata": {},
   "source": [
    "### مثال ارث بری از مادر در کلاس ها"
   ]
  },
  {
   "cell_type": "code",
   "execution_count": 9,
   "metadata": {},
   "outputs": [
    {
     "name": "stdout",
     "output_type": "stream",
     "text": [
      "name is : poch\n",
      "わくわく\n",
      "========\n",
      "name is : segiro\n",
      "ミュウミュウ\n"
     ]
    }
   ],
   "source": [
    "class Animal:\n",
    "    def __init__(self,name):\n",
    "        self.name = name\n",
    "    def show_name (self):\n",
    "        print(f\"name is : {self.name}\")\n",
    "class dog (Animal):\n",
    "    def cry(self):\n",
    "        print (\"わくわく\")\n",
    "class cat (Animal):\n",
    "    def cry(self):\n",
    "        print(\"ミュウミュウ\")\n",
    "dog = dog(\"poch\")\n",
    "dog.show_name()\n",
    "dog.cry()\n",
    "\n",
    "print(\"========\")\n",
    "\n",
    "cat=cat(\"segiro\")\n",
    "cat.show_name()\n",
    "cat.cry()\n"
   ]
  },
  {
   "cell_type": "markdown",
   "metadata": {},
   "source": [
    "## تعریف کلاس مادر"
   ]
  },
  {
   "cell_type": "code",
   "execution_count": 10,
   "metadata": {},
   "outputs": [
    {
     "name": "stdout",
     "output_type": "stream",
     "text": [
      "車の名前：プリウス\n",
      "ハイブリッドで車が動作します\n",
      "--------\n",
      "車の名前：ノート\n",
      "電気で車が動作します\n"
     ]
    }
   ],
   "source": [
    "# تعریف کلاس مادر\n",
    "class Car:\n",
    "    def __init__(self,name):\n",
    "        self.name = name\n",
    "    def show(self):\n",
    "        print(\"車の名前：\" + self.name)\n",
    "    def move(self):\n",
    "        print(\"ガソリンで車が動作します\")\n",
    "# تعریف کلاس فرزند\n",
    "class HybridCar (Car):\n",
    "    def move (self):\n",
    "        print(\"ハイブリッドで車が動作します\")\n",
    "# تعریف کلاس فرزند\n",
    "class ElectricCar (Car):\n",
    "    def move (self):\n",
    "        print(\"電気で車が動作します\")\n",
    "\n",
    "#تعریف نمونه از کلاس\n",
    "car1=HybridCar(\"プリウス\")\n",
    "car1.show()\n",
    "car1.move()\n",
    "\n",
    "print(\"--------\")\n",
    "\n",
    "car2=ElectricCar(\"ノート\")\n",
    "car2.show()\n",
    "car2.move()"
   ]
  },
  {
   "cell_type": "code",
   "execution_count": 12,
   "metadata": {},
   "outputs": [
    {
     "name": "stdout",
     "output_type": "stream",
     "text": [
      "本名：ミッキーの冒険\n",
      "金額：1200\n",
      "---------\n",
      "本名：ミニーのお手軽レシピ\n",
      "金額：1500\n"
     ]
    }
   ],
   "source": [
    "class Book:\n",
    "    def __init__(self,title,price):\n",
    "        self.title=title\n",
    "        self.price=price\n",
    "    def show(self):\n",
    "        print(\"本名：\" +self.title)\n",
    "        print(\"金額：\"+ str(self.price))\n",
    "\n",
    "book1 =Book(\"ミッキーの冒険\", 1200)\n",
    "book1.show()\n",
    "\n",
    "print(\"---------\")\n",
    "\n",
    "book2=Book(\"ミニーのお手軽レシピ\", 1500)\n",
    "book2.show()\n"
   ]
  },
  {
   "cell_type": "markdown",
   "metadata": {},
   "source": []
  },
  {
   "cell_type": "code",
   "execution_count": 13,
   "metadata": {},
   "outputs": [
    {
     "name": "stdout",
     "output_type": "stream",
     "text": [
      "炎のお竜は攻撃した\n",
      "[強大なマグマ]による攻撃\n",
      "[15」のダメージを与えた\n",
      "-------\n",
      "氷の竜は攻撃した\n",
      "[アイストルネード]による攻撃\n",
      "[20」のダメージを与えた\n"
     ]
    }
   ],
   "source": [
    "class Monster:\n",
    "    def __init__(self,name,attackPoint):\n",
    "        self.name = name\n",
    "        self.attackPoint = attackPoint\n",
    "        \n",
    "    def show(self):\n",
    "        print(self.name + \"は攻撃した\")\n",
    "class Dragon (Monster):\n",
    "    def __init__(self,name,attackPoint,weapon):\n",
    "        super().__init__(name,attackPoint)\n",
    "        self.weapon = weapon\n",
    "    def attack(self):\n",
    "        print(\"[\" + self.weapon +\"]による攻撃\")\n",
    "        print(\"[\" + str(self.attackPoint) +\"」のダメージを与えた\")\n",
    "        \n",
    "d1=Dragon(\"炎のお竜\",15,\"強大なマグマ\")\n",
    "d1.show()\n",
    "d1.attack()\n",
    "\n",
    "print(\"-------\")\n",
    "\n",
    "d2=Dragon(\"氷の竜\",20,\"アイストルネード\")\n",
    "d2.show()\n",
    "d2.attack()"
   ]
  },
  {
   "cell_type": "markdown",
   "metadata": {},
   "source": [
    "## متد ها و ویژگی ها"
   ]
  },
  {
   "cell_type": "code",
   "execution_count": 14,
   "metadata": {},
   "outputs": [
    {
     "name": "stdout",
     "output_type": "stream",
     "text": [
      "Buddy\n",
      "3\n",
      "Woof!\n"
     ]
    }
   ],
   "source": [
    "class Dog:\n",
    "    def __init__(self, name, age):\n",
    "        self.name = name  # ویژگی name\n",
    "        self.age = age    # ویژگی age\n",
    "\n",
    "    def bark(self):      # متد bark\n",
    "        print(\"Woof!\")\n",
    "\n",
    "# ایجاد یک شیء از کلاس Dog\n",
    "my_dog = Dog(\"Buddy\", 3)\n",
    "\n",
    "# دسترسی به ویژگی‌ها\n",
    "print(my_dog.name)  # خروجی: Buddy\n",
    "print(my_dog.age)   # خروجی: 3\n",
    "\n",
    "# فراخوانی متد\n",
    "my_dog.bark()       # خروجی: Woof!"
   ]
  },
  {
   "cell_type": "markdown",
   "metadata": {},
   "source": [
    "### وراثت"
   ]
  },
  {
   "cell_type": "code",
   "execution_count": 21,
   "metadata": {},
   "outputs": [
    {
     "name": "stdout",
     "output_type": "stream",
     "text": [
      "Max\n",
      "Woof!\n",
      "Max is being trained!\n",
      "Max is 1 years old\n"
     ]
    }
   ],
   "source": [
    "class Puppy(Dog):  # Puppy از Dog ارث می‌برد\n",
    "    def __init__(self, name, age, training_level):\n",
    "        super().__init__(name, age)  # فراخوانی __init__ کلاس والد\n",
    "        self.training_level = training_level  # ویژگی جدید\n",
    "\n",
    "    def train(self):\n",
    "        print(f\"{self.name} is being trained!\")\n",
    "        print(f\"{self.name} is {self.age} years old\")\n",
    "\n",
    "# ایجاد یک شیء از کلاس Puppy\n",
    "my_puppy = Puppy(\"Max\", 1, \"Beginner\")\n",
    "\n",
    "# دسترسی به ویژگی‌ها و متدها\n",
    "print(my_puppy.name)          # خروجی: Max\n",
    "my_puppy.bark()              # خروجی: Woof!\n",
    "my_puppy.train()             # خروجی: Max is being trained!"
   ]
  }
 ],
 "metadata": {
  "kernelspec": {
   "display_name": "venvall",
   "language": "python",
   "name": "python3"
  },
  "language_info": {
   "codemirror_mode": {
    "name": "ipython",
    "version": 3
   },
   "file_extension": ".py",
   "mimetype": "text/x-python",
   "name": "python",
   "nbconvert_exporter": "python",
   "pygments_lexer": "ipython3",
   "version": "3.12.3"
  }
 },
 "nbformat": 4,
 "nbformat_minor": 2
}
