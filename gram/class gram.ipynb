{
 "cells": [
  {
   "cell_type": "markdown",
   "metadata": {},
   "source": [
    "## basic of class method"
   ]
  },
  {
   "cell_type": "code",
   "execution_count": 1,
   "metadata": {},
   "outputs": [],
   "source": [
    "class myclass:\n",
    "    class_variable = 0\n",
    "    def __int__(self,instance_variable):\n",
    "        self.instance_variable = instance_variable\n",
    "    @classmethod\n",
    "    def increment_class_variable(cls):\n",
    "        cls.class_variable +=1\n",
    "        return cls.class_variable"
   ]
  },
  {
   "cell_type": "code",
   "execution_count": 15,
   "metadata": {},
   "outputs": [
    {
     "data": {
      "text/plain": [
       "14"
      ]
     },
     "execution_count": 15,
     "metadata": {},
     "output_type": "execute_result"
    }
   ],
   "source": [
    "myclass.increment_class_variable()"
   ]
  },
  {
   "cell_type": "code",
   "execution_count": null,
   "metadata": {},
   "outputs": [],
   "source": [
    "class Mobile:\n",
    "    def __init__(self, brand, model, price):\n",
    "        self.brand = brand\n",
    "        self.model = model\n",
    "        self.price = price\n",
    "    def Safe(self):\n",
    "        print(f\"{self.model} is safe to use\")\n",
    "    def repair(self,service):\n",
    "        print(f\"{self.model} need {service}\")\n",
    "m1=Mobile(\"Iphone\",\"iphone8plus\",8000)\n",
    "print(m1.brand)\n",
    "print(m1.model)\n",
    "print(m1.price)\n",
    "m1.Safe()\n",
    "m1.repair(\"taamir\")"
   ]
  },
  {
   "cell_type": "code",
   "execution_count": 2,
   "metadata": {},
   "outputs": [
    {
     "name": "stdout",
     "output_type": "stream",
     "text": [
      "Player's name is:  John\n",
      "Player's age is:  25\n",
      "====\n",
      "Player's name is:  Alice\n",
      "Player's age is:  30\n"
     ]
    }
   ],
   "source": [
    "class player:\n",
    "    def show_name(self):\n",
    "        print(\"Player's name is: \", self.name)\n",
    "    def show_age(self):\n",
    "        print(\"Player's age is: \", self.age)\n",
    "player1=player()\n",
    "player1.name=\"John\"\n",
    "player1.age=25\n",
    "player1.show_name()\n",
    "player1.show_age()\n",
    "\n",
    "print(\"====\")\n",
    "player2=player()\n",
    "player2.name=\"Alice\"\n",
    "player2.age=30\n",
    "player2.show_name()\n",
    "player2.show_age()\n"
   ]
  },
  {
   "cell_type": "code",
   "execution_count": 7,
   "metadata": {},
   "outputs": [
    {
     "name": "stdout",
     "output_type": "stream",
     "text": [
      "i am vahid\n",
      "i am 25 years old\n",
      "my score is 100\n",
      "=====\n",
      "i am ali\n",
      "i am 44 years old\n",
      "my score is 73\n"
     ]
    }
   ],
   "source": [
    "class player:\n",
    "    def __init__(self, name, age, score):\n",
    "        self.name = name\n",
    "        self.age = age\n",
    "        self.score = score\n",
    "    def show_name(self):\n",
    "        print(\"i am %s\"%self.name)\n",
    "    def show_age(self):\n",
    "        print(\"i am %d years old\"%self.age)\n",
    "    def show_score(self):\n",
    "        print(\"my score is %d\" %self.score)\n",
    "player1=player(\"vahid\",25,100)\n",
    "player1.show_name()\n",
    "player1.show_age()\n",
    "player1.show_score()\n",
    "\n",
    "print(\"=====\")\n",
    "\n",
    "player2=player(\"ali\",44,73)\n",
    "player2.show_name()\n",
    "player2.show_age()\n",
    "player2.show_score()\n"
   ]
  },
  {
   "cell_type": "code",
   "execution_count": 8,
   "metadata": {},
   "outputs": [
    {
     "name": "stdout",
     "output_type": "stream",
     "text": [
      "37.5\n"
     ]
    }
   ],
   "source": [
    "class Triangle:\n",
    "    def __init__(self, a, b):\n",
    "        self.a = a\n",
    "        self.b = b\n",
    "    def get_triangle_area(self):\n",
    "        area= (self.a*self.b)/2\n",
    "        return area\n",
    "t1=Triangle(15,5)\n",
    "result=t1.get_triangle_area()\n",
    "print(result)\n"
   ]
  },
  {
   "cell_type": "code",
   "execution_count": null,
   "metadata": {},
   "outputs": [],
   "source": []
  }
 ],
 "metadata": {
  "kernelspec": {
   "display_name": "venvall",
   "language": "python",
   "name": "python3"
  },
  "language_info": {
   "codemirror_mode": {
    "name": "ipython",
    "version": 3
   },
   "file_extension": ".py",
   "mimetype": "text/x-python",
   "name": "python",
   "nbconvert_exporter": "python",
   "pygments_lexer": "ipython3",
   "version": "3.12.3"
  }
 },
 "nbformat": 4,
 "nbformat_minor": 2
}
