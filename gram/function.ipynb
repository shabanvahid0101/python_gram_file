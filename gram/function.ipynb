{
 "cells": [
  {
   "cell_type": "markdown",
   "metadata": {},
   "source": [
    "# basic"
   ]
  },
  {
   "cell_type": "code",
   "execution_count": 2,
   "metadata": {},
   "outputs": [
    {
     "name": "stdout",
     "output_type": "stream",
     "text": [
      "hello vahid\n"
     ]
    }
   ],
   "source": [
    "def my_function():\n",
    "    print(\"hello vahid\")\n",
    "my_function()"
   ]
  },
  {
   "cell_type": "markdown",
   "metadata": {},
   "source": [
    "# function with parameter"
   ]
  },
  {
   "cell_type": "code",
   "execution_count": 3,
   "metadata": {},
   "outputs": [
    {
     "name": "stdout",
     "output_type": "stream",
     "text": [
      "hello,vahid!\n"
     ]
    }
   ],
   "source": [
    "def great(name):\n",
    "    print(f\"hello,{name}!\")\n",
    "great(\"vahid\")"
   ]
  },
  {
   "cell_type": "markdown",
   "metadata": {},
   "source": [
    "# return Values"
   ]
  },
  {
   "cell_type": "code",
   "execution_count": 4,
   "metadata": {},
   "outputs": [
    {
     "data": {
      "text/plain": [
       "8"
      ]
     },
     "execution_count": 4,
     "metadata": {},
     "output_type": "execute_result"
    }
   ],
   "source": [
    "def add(a,b):\n",
    "    return a+b\n",
    "result=add(3,5)\n",
    "result"
   ]
  },
  {
   "cell_type": "markdown",
   "metadata": {},
   "source": [
    "# default parameters"
   ]
  },
  {
   "cell_type": "code",
   "execution_count": 6,
   "metadata": {},
   "outputs": [
    {
     "name": "stdout",
     "output_type": "stream",
     "text": [
      "hello, vahid!\n"
     ]
    }
   ],
   "source": [
    "def greet (name=\"vahid\"):\n",
    "    print(f\"hello, {name}!\")\n",
    "greet()"
   ]
  },
  {
   "cell_type": "markdown",
   "metadata": {},
   "source": [
    "# docstrings"
   ]
  },
  {
   "cell_type": "code",
   "execution_count": 7,
   "metadata": {},
   "outputs": [
    {
     "data": {
      "text/plain": [
       "10"
      ]
     },
     "execution_count": 7,
     "metadata": {},
     "output_type": "execute_result"
    }
   ],
   "source": [
    "def add (a,b):\n",
    "    return a + b\n",
    "result=add(4,6)\n",
    "result"
   ]
  },
  {
   "cell_type": "markdown",
   "metadata": {},
   "source": [
    "# variable scope"
   ]
  },
  {
   "cell_type": "code",
   "execution_count": 8,
   "metadata": {},
   "outputs": [
    {
     "name": "stdout",
     "output_type": "stream",
     "text": [
      "15\n"
     ]
    }
   ],
   "source": [
    "global_var = 10\n",
    "def some_function():\n",
    "    local_var = 5\n",
    "    print(global_var+local_var)\n",
    "some_function()"
   ]
  },
  {
   "cell_type": "markdown",
   "metadata": {},
   "source": [
    "# rescursion"
   ]
  },
  {
   "cell_type": "code",
   "execution_count": 15,
   "metadata": {},
   "outputs": [
    {
     "data": {
      "text/plain": [
       "120"
      ]
     },
     "execution_count": 15,
     "metadata": {},
     "output_type": "execute_result"
    }
   ],
   "source": [
    "def factorial(n):\n",
    "    if n == 0:\n",
    "        return 1\n",
    "    else:\n",
    "        return n * factorial(n-1)\n",
    "factorial(5)"
   ]
  },
  {
   "cell_type": "markdown",
   "metadata": {},
   "source": [
    "# Zip"
   ]
  },
  {
   "cell_type": "code",
   "execution_count": 11,
   "metadata": {},
   "outputs": [
    {
     "name": "stdout",
     "output_type": "stream",
     "text": [
      "name:vahid,age: 36\n",
      "name:masoud,age: 41\n",
      "name:hamid,age: 44\n",
      "name:zohreh,age: 46\n"
     ]
    }
   ],
   "source": [
    "name=[\"vahid\",\"masoud\",\"hamid\",\"zohreh\"]\n",
    "ages=[36,41,44,46]\n",
    "zipped=zip(name,ages)\n",
    "for names,age in zipped:\n",
    "    print(f\"name:{names},age: {age}\")"
   ]
  },
  {
   "cell_type": "code",
   "execution_count": 13,
   "metadata": {},
   "outputs": [
    {
     "name": "stdout",
     "output_type": "stream",
     "text": [
      "name:vahid,age: 36\n",
      "name:masoud,age: 41\n",
      "name:hamid,age: 44\n"
     ]
    }
   ],
   "source": [
    "# different lengths in input\n",
    "name2=[\"vahid\",\"masoud\",\"hamid\",\"zohreh\"]\n",
    "ages2=[36,41,44]\n",
    "zipped2=zip(name2,ages2)\n",
    "for names,age in zipped2:\n",
    "    print(f\"name:{names},age: {age}\")\n"
   ]
  },
  {
   "cell_type": "code",
   "execution_count": 17,
   "metadata": {},
   "outputs": [
    {
     "name": "stdout",
     "output_type": "stream",
     "text": [
      "unzipped names: ('vahid', 'masoud', 'hamid', 'zohreh')\n",
      "unzipped age; (36, 41, 44, 46)\n"
     ]
    }
   ],
   "source": [
    "#unziped with zip\n",
    "name=[\"vahid\",\"masoud\",\"hamid\",\"zohreh\"]\n",
    "ages=[36,41,44,46]\n",
    "zipped=zip(name,ages)\n",
    "unzipped_name,unzipped_age=zip(*zipped)\n",
    "print(\"unzipped names:\",unzipped_name)\n",
    "print(\"unzipped age;\",unzipped_age)\n"
   ]
  },
  {
   "cell_type": "code",
   "execution_count": 18,
   "metadata": {},
   "outputs": [
    {
     "name": "stdout",
     "output_type": "stream",
     "text": [
      "{'name': 'John', 'age': 25, 'city': 'New York'}\n"
     ]
    }
   ],
   "source": [
    "# zip with dictionaries\n",
    "keys=[\"name\",\"age\",\"city\"]\n",
    "values=[\"John\",25,\"New York\"]\n",
    "person_dic=dict(zip(keys,values))\n",
    "print(person_dic)"
   ]
  },
  {
   "cell_type": "markdown",
   "metadata": {},
   "source": [
    "جابجایی ماتریکس ها"
   ]
  },
  {
   "cell_type": "code",
   "execution_count": null,
   "metadata": {},
   "outputs": [
    {
     "name": "stdout",
     "output_type": "stream",
     "text": [
      "(1, 4, 7)\n",
      "(2, 5, 8)\n",
      "(3, 6, 9)\n"
     ]
    }
   ],
   "source": [
    "# transposing a matrix with zip\n",
    "matrix = [[1, 2, 3], [4, 5, 6],[7,8,9]]\n",
    "transposed_matrix = list(zip(*matrix))\n",
    "for row in transposed_matrix:\n",
    "    print(row)\n",
    "    "
   ]
  },
  {
   "cell_type": "code",
   "execution_count": 21,
   "metadata": {},
   "outputs": [
    {
     "name": "stdout",
     "output_type": "stream",
     "text": [
      "index:0,name:vahid\n",
      "index:1,name:masoud\n",
      "index:2,name:hamid\n",
      "index:3,name:zohreh\n"
     ]
    }
   ],
   "source": [
    "# zip with enumerate\n",
    "name=[\"vahid\",\"masoud\",\"hamid\",\"zohreh\"]\n",
    "index_name=list(zip(range(len(name)),name))\n",
    "for index,name in index_name:\n",
    "    print(f\"index:{index},name:{name}\")\n",
    "\n",
    "\n"
   ]
  }
 ],
 "metadata": {
  "kernelspec": {
   "display_name": "venvall",
   "language": "python",
   "name": "python3"
  },
  "language_info": {
   "codemirror_mode": {
    "name": "ipython",
    "version": 3
   },
   "file_extension": ".py",
   "mimetype": "text/x-python",
   "name": "python",
   "nbconvert_exporter": "python",
   "pygments_lexer": "ipython3",
   "version": "3.12.3"
  }
 },
 "nbformat": 4,
 "nbformat_minor": 2
}
