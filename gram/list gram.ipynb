{
 "cells": [
  {
   "cell_type": "code",
   "execution_count": 1,
   "metadata": {},
   "outputs": [
    {
     "name": "stdout",
     "output_type": "stream",
     "text": [
      "[2, 4, 6, 8]\n",
      "[2, 4, 6, 8]\n"
     ]
    }
   ],
   "source": [
    "number1=[2,4,6,8]\n",
    "print(number1)\n",
    "number2=list([2,4,6,8])\n",
    "print(number2)"
   ]
  },
  {
   "cell_type": "code",
   "execution_count": 6,
   "metadata": {},
   "outputs": [
    {
     "name": "stdout",
     "output_type": "stream",
     "text": [
      "[]\n",
      "[]\n"
     ]
    }
   ],
   "source": [
    "number1=[]\n",
    "print(number1)\n",
    "number2=list()\n",
    "print(number2)\n"
   ]
  },
  {
   "cell_type": "code",
   "execution_count": 7,
   "metadata": {},
   "outputs": [
    {
     "name": "stdout",
     "output_type": "stream",
     "text": [
      "[2, 4, 6, 8]\n",
      "[2, 4, 6, 8]\n"
     ]
    }
   ],
   "source": [
    "number1=[2,4,6,8]\n",
    "print(number1)\n",
    "number2=list(number1)\n",
    "print(number2)"
   ]
  },
  {
   "cell_type": "markdown",
   "metadata": {},
   "source": [
    "# Extend"
   ]
  },
  {
   "cell_type": "code",
   "execution_count": 8,
   "metadata": {},
   "outputs": [
    {
     "name": "stdout",
     "output_type": "stream",
     "text": [
      "['red', 'blue', 'green', 'orange']\n",
      "['red', 'blue', 'green', 'orange']\n"
     ]
    }
   ],
   "source": [
    "color1=[\"red\",\"blue\"]\n",
    "color2=[\"green\",\"orange\"]\n",
    "color3 =color1+color2\n",
    "print(color3)\n",
    "color1.extend(color2)\n",
    "print(color1)"
   ]
  },
  {
   "cell_type": "code",
   "execution_count": 10,
   "metadata": {},
   "outputs": [
    {
     "name": "stdout",
     "output_type": "stream",
     "text": [
      "['red', 'blue', 'green', 'yellow', 'pink', 'black']\n",
      "['red', 'blue', 'green']\n",
      "['green', 'yellow']\n",
      "['yellow', 'pink', 'black']\n",
      "['red', 'green', 'pink']\n",
      "['black', 'pink', 'yellow', 'green', 'blue', 'red']\n"
     ]
    }
   ],
   "source": [
    "colors1=[\"red\",\"blue\",\"green\",\"yellow\",\"pink\",\"black\"]\n",
    "print(colors1)\n",
    "color2=colors1[0:3]\n",
    "print(color2)\n",
    "color3=colors1[2:4]\n",
    "print(color3)\n",
    "color4=colors1[3:]\n",
    "print(color4)\n",
    "color5=colors1[::2]\n",
    "print(color5)\n",
    "color6=colors1[::-1]\n",
    "print(color6)"
   ]
  },
  {
   "cell_type": "code",
   "execution_count": null,
   "metadata": {},
   "outputs": [],
   "source": []
  }
 ],
 "metadata": {
  "kernelspec": {
   "display_name": "venvall",
   "language": "python",
   "name": "python3"
  },
  "language_info": {
   "codemirror_mode": {
    "name": "ipython",
    "version": 3
   },
   "file_extension": ".py",
   "mimetype": "text/x-python",
   "name": "python",
   "nbconvert_exporter": "python",
   "pygments_lexer": "ipython3",
   "version": "3.12.3"
  }
 },
 "nbformat": 4,
 "nbformat_minor": 2
}
