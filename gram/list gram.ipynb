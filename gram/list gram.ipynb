{
 "cells": [
  {
   "cell_type": "markdown",
   "metadata": {},
   "source": [
    "# list Gramer"
   ]
  },
  {
   "cell_type": "markdown",
   "metadata": {},
   "source": [
    "# Zip"
   ]
  },
  {
   "cell_type": "code",
   "execution_count": null,
   "metadata": {},
   "outputs": [
    {
     "name": "stdout",
     "output_type": "stream",
     "text": [
      "name:vahid,age: 36\n",
      "name:masoud,age: 41\n",
      "name:hamid,age: 44\n",
      "name:zohreh,age: 46\n"
     ]
    }
   ],
   "source": [
    "name=[\"vahid\",\"masoud\",\"hamid\",\"zohreh\"]\n",
    "ages=[36,41,44,46]\n",
    "zipped=zip(name,ages)\n",
    "for names,age in zipped:\n",
    "    print(f\"name:{names},age: {age}\")"
   ]
  },
  {
   "cell_type": "code",
   "execution_count": null,
   "metadata": {},
   "outputs": [
    {
     "name": "stdout",
     "output_type": "stream",
     "text": [
      "name:vahid,age: 36\n",
      "name:masoud,age: 41\n",
      "name:hamid,age: 44\n"
     ]
    }
   ],
   "source": [
    "# different lengths in input\n",
    "name2=[\"vahid\",\"masoud\",\"hamid\",\"zohreh\"]\n",
    "ages2=[36,41,44]\n",
    "zipped2=zip(name2,ages2)\n",
    "for names,age in zipped2:\n",
    "    print(f\"name:{names},age: {age}\")\n"
   ]
  },
  {
   "cell_type": "code",
   "execution_count": null,
   "metadata": {},
   "outputs": [
    {
     "name": "stdout",
     "output_type": "stream",
     "text": [
      "unzipped names: ('vahid', 'masoud', 'hamid', 'zohreh')\n",
      "unzipped age; (36, 41, 44, 46)\n"
     ]
    }
   ],
   "source": [
    "#unziped with zip\n",
    "name=[\"vahid\",\"masoud\",\"hamid\",\"zohreh\"]\n",
    "ages=[36,41,44,46]\n",
    "zipped=zip(name,ages)\n",
    "unzipped_name,unzipped_age=zip(*zipped)\n",
    "print(\"unzipped names:\",unzipped_name)\n",
    "print(\"unzipped age;\",unzipped_age)\n"
   ]
  },
  {
   "cell_type": "code",
   "execution_count": null,
   "metadata": {},
   "outputs": [
    {
     "name": "stdout",
     "output_type": "stream",
     "text": [
      "{'name': 'John', 'age': 25, 'city': 'New York'}\n"
     ]
    }
   ],
   "source": [
    "# zip with dictionaries\n",
    "keys=[\"name\",\"age\",\"city\"]\n",
    "values=[\"John\",25,\"New York\"]\n",
    "person_dic=dict(zip(keys,values))\n",
    "print(person_dic)"
   ]
  },
  {
   "cell_type": "code",
   "execution_count": 1,
   "metadata": {},
   "outputs": [
    {
     "name": "stdout",
     "output_type": "stream",
     "text": [
      "[2, 4, 6, 8]\n",
      "[2, 4, 6, 8]\n"
     ]
    }
   ],
   "source": [
    "number1=[2,4,6,8]\n",
    "print(number1)\n",
    "number2=list([2,4,6,8])\n",
    "print(number2)"
   ]
  },
  {
   "cell_type": "code",
   "execution_count": 6,
   "metadata": {},
   "outputs": [
    {
     "name": "stdout",
     "output_type": "stream",
     "text": [
      "[]\n",
      "[]\n"
     ]
    }
   ],
   "source": [
    "number1=[]\n",
    "print(number1)\n",
    "number2=list()\n",
    "print(number2)\n"
   ]
  },
  {
   "cell_type": "markdown",
   "metadata": {},
   "source": [
    "# Extend"
   ]
  },
  {
   "cell_type": "code",
   "execution_count": 8,
   "metadata": {},
   "outputs": [
    {
     "name": "stdout",
     "output_type": "stream",
     "text": [
      "['red', 'blue', 'green', 'orange']\n",
      "['red', 'blue', 'green', 'orange']\n"
     ]
    }
   ],
   "source": [
    "color1=[\"red\",\"blue\"]\n",
    "color2=[\"green\",\"orange\"]\n",
    "color3 =color1+color2\n",
    "print(color3)\n",
    "color1.extend(color2)\n",
    "print(color1)"
   ]
  },
  {
   "cell_type": "code",
   "execution_count": 10,
   "metadata": {},
   "outputs": [
    {
     "name": "stdout",
     "output_type": "stream",
     "text": [
      "['red', 'blue', 'green', 'yellow', 'pink', 'black']\n",
      "['red', 'blue', 'green']\n",
      "['green', 'yellow']\n",
      "['yellow', 'pink', 'black']\n",
      "['red', 'green', 'pink']\n",
      "['black', 'pink', 'yellow', 'green', 'blue', 'red']\n"
     ]
    }
   ],
   "source": [
    "colors1=[\"red\",\"blue\",\"green\",\"yellow\",\"pink\",\"black\"]\n",
    "print(colors1)\n",
    "color2=colors1[0:3]\n",
    "print(color2)\n",
    "color3=colors1[2:4]\n",
    "print(color3)\n",
    "color4=colors1[3:]\n",
    "print(color4)\n",
    "color5=colors1[::2]\n",
    "print(color5)\n",
    "color6=colors1[::-1]\n",
    "print(color6)"
   ]
  },
  {
   "cell_type": "markdown",
   "metadata": {},
   "source": [
    "ضرب تک تک اندکس های یک لیست"
   ]
  },
  {
   "cell_type": "code",
   "execution_count": 1,
   "metadata": {},
   "outputs": [
    {
     "name": "stdout",
     "output_type": "stream",
     "text": [
      "[4, 12, 18, 2, 10, 8]\n"
     ]
    }
   ],
   "source": [
    "numbers=[2,6,9,1,5,4]\n",
    "numbers1=[i * 2 for i in numbers]\n",
    "print(numbers1)"
   ]
  },
  {
   "cell_type": "code",
   "execution_count": 2,
   "metadata": {},
   "outputs": [
    {
     "data": {
      "text/plain": [
       "[4, 12, 18, 2, 10, 8]"
      ]
     },
     "execution_count": 2,
     "metadata": {},
     "output_type": "execute_result"
    }
   ],
   "source": [
    "numbers=[2,6,9,1,5,4]\n",
    "numbers2=[]\n",
    "for i in numbers:\n",
    "    numbers2.append(i*2)\n",
    "numbers2"
   ]
  },
  {
   "cell_type": "markdown",
   "metadata": {},
   "source": [
    "استفاده از شرط if"
   ]
  },
  {
   "cell_type": "code",
   "execution_count": 3,
   "metadata": {},
   "outputs": [
    {
     "name": "stdout",
     "output_type": "stream",
     "text": [
      "[50, 74]\n"
     ]
    }
   ],
   "source": [
    "numbers=[50,65,99,74,6565,25,1,65]\n",
    "numbers3=[x for x in numbers if x % 2 == 0]\n",
    "print(numbers3)"
   ]
  },
  {
   "cell_type": "code",
   "execution_count": 4,
   "metadata": {},
   "outputs": [
    {
     "name": "stdout",
     "output_type": "stream",
     "text": [
      "[6, 2, 6, 8]\n"
     ]
    }
   ],
   "source": [
    "number1=[1,3,5,6,3,1,3,2,6,7,8]\n",
    "number2=[x for x in number1 if x%2==0]\n",
    "print(number2)"
   ]
  },
  {
   "cell_type": "markdown",
   "metadata": {},
   "source": [
    "# append\n",
    "\n",
    "اضافه کردن به یک لیست"
   ]
  },
  {
   "cell_type": "code",
   "execution_count": 5,
   "metadata": {},
   "outputs": [
    {
     "name": "stdout",
     "output_type": "stream",
     "text": [
      "['orange', 'apple', 'melon']\n",
      "['orange', 'apple', 'melon', 'peach']\n",
      "['orange', 'apple', 'melon', 'peach', 'banana']\n"
     ]
    }
   ],
   "source": [
    "fruits = [\"orange\",\"apple\",\"melon\"]\n",
    "print(fruits)\n",
    "fruits.append(\"peach\")\n",
    "print(fruits)\n",
    "fruits.append(\"banana\")\n",
    "print(fruits)"
   ]
  },
  {
   "cell_type": "markdown",
   "metadata": {},
   "source": [
    "# insert\n",
    "\n",
    "اضافه کردن با تعیین موقعیت اندکس"
   ]
  },
  {
   "cell_type": "code",
   "execution_count": 6,
   "metadata": {},
   "outputs": [
    {
     "name": "stdout",
     "output_type": "stream",
     "text": [
      "['orange', 'apple', 'melon']\n",
      "['orange', 'apple', 'peach', 'melon']\n",
      "['orange', 'banana', 'apple', 'peach', 'melon']\n"
     ]
    }
   ],
   "source": [
    "fruits = [\"orange\",\"apple\",\"melon\"]\n",
    "print(fruits)\n",
    "fruits.insert(2,\"peach\")\n",
    "print(fruits)\n",
    "fruits.insert(1,\"banana\")\n",
    "print(fruits)"
   ]
  },
  {
   "cell_type": "markdown",
   "metadata": {},
   "source": [
    "# remove\n",
    "\n",
    "حذف کردن\n"
   ]
  },
  {
   "cell_type": "code",
   "execution_count": 7,
   "metadata": {},
   "outputs": [
    {
     "name": "stdout",
     "output_type": "stream",
     "text": [
      "['orange', 'apple', 'melon', 'grape', 'peach']\n",
      "['orange', 'apple', 'melon', 'peach']\n",
      "['orange', 'apple', 'peach']\n"
     ]
    }
   ],
   "source": [
    "fruits = [\"orange\",\"apple\",\"melon\",\"grape\",\"peach\"]\n",
    "print(fruits)\n",
    "fruits.remove(\"grape\")\n",
    "print(fruits)\n",
    "fruits.remove(\"melon\")\n",
    "print(fruits)"
   ]
  },
  {
   "cell_type": "markdown",
   "metadata": {},
   "source": [
    "# del\n",
    "\n",
    "حذف با اندکس"
   ]
  },
  {
   "cell_type": "code",
   "execution_count": 3,
   "metadata": {},
   "outputs": [
    {
     "name": "stdout",
     "output_type": "stream",
     "text": [
      "['orange', 'apple', 'melon', 'grape', 'peach']\n",
      "['orange', 'apple', 'melon', 'peach']\n",
      "['orange', 'apple', 'peach']\n"
     ]
    }
   ],
   "source": [
    "fruits = [\"orange\",\"apple\",\"melon\",\"grape\",\"peach\"]\n",
    "print(fruits)\n",
    "del fruits[3]\n",
    "print(fruits)\n",
    "del fruits[2]\n",
    "print(fruits)"
   ]
  },
  {
   "cell_type": "markdown",
   "metadata": {},
   "source": [
    "# sort\n",
    "\n",
    "چیدن به ترتیب\n",
    "\n",
    "برعکس کردن ترتیب"
   ]
  },
  {
   "cell_type": "code",
   "execution_count": 9,
   "metadata": {},
   "outputs": [
    {
     "name": "stdout",
     "output_type": "stream",
     "text": [
      "[5, 8, 2, 9, 13, 10]\n",
      "[2, 5, 8, 9, 10, 13]\n",
      "[13, 10, 9, 8, 5, 2]\n"
     ]
    }
   ],
   "source": [
    "numbers1 = [5,8,2,9,13,10]\n",
    "print(numbers1)\n",
    "numbers1.sort()\n",
    "print(numbers1)\n",
    "numbers1.sort(reverse=True)\n",
    "print(numbers1)"
   ]
  },
  {
   "cell_type": "markdown",
   "metadata": {},
   "source": [
    "# reverse\n",
    "\n",
    "برعکس کردن چیدمان"
   ]
  },
  {
   "cell_type": "code",
   "execution_count": 10,
   "metadata": {},
   "outputs": [
    {
     "name": "stdout",
     "output_type": "stream",
     "text": [
      "['Ariana', 'Nancy', 'Lucy', 'Meg']\n",
      "['Meg', 'Lucy', 'Nancy', 'Ariana']\n"
     ]
    }
   ],
   "source": [
    "names = [\"Ariana\",\"Nancy\",\"Lucy\",\"Meg\"]\n",
    "print(names)\n",
    "names.reverse()\n",
    "print(names)"
   ]
  },
  {
   "cell_type": "markdown",
   "metadata": {},
   "source": [
    "‌# sum\n",
    "\n",
    "عمل جمع"
   ]
  },
  {
   "cell_type": "code",
   "execution_count": 11,
   "metadata": {},
   "outputs": [
    {
     "name": "stdout",
     "output_type": "stream",
     "text": [
      "30\n"
     ]
    }
   ],
   "source": [
    "numbers = [5,3,7,2,9,4]\n",
    "total =sum(numbers)\n",
    "print (total)"
   ]
  },
  {
   "cell_type": "markdown",
   "metadata": {},
   "source": [
    "# Zip"
   ]
  },
  {
   "cell_type": "markdown",
   "metadata": {},
   "source": [
    "جابجایی ماتریس ها"
   ]
  },
  {
   "cell_type": "code",
   "execution_count": null,
   "metadata": {},
   "outputs": [
    {
     "name": "stdout",
     "output_type": "stream",
     "text": [
      "(1, 4, 7)\n",
      "(2, 5, 8)\n",
      "(3, 6, 9)\n"
     ]
    }
   ],
   "source": [
    "# transposing a matrix with zip\n",
    "matrix = [[1, 2, 3], [4, 5, 6],[7,8,9]]\n",
    "transposed_matrix = list(zip(*matrix))\n",
    "for row in transposed_matrix:\n",
    "    print(row)\n",
    "    "
   ]
  },
  {
   "cell_type": "code",
   "execution_count": null,
   "metadata": {},
   "outputs": [
    {
     "name": "stdout",
     "output_type": "stream",
     "text": [
      "index:0,name:vahid\n",
      "index:1,name:masoud\n",
      "index:2,name:hamid\n",
      "index:3,name:zohreh\n"
     ]
    }
   ],
   "source": [
    "# zip with enumerate\n",
    "name=[\"vahid\",\"masoud\",\"hamid\",\"zohreh\"]\n",
    "index_name=list(zip(range(len(name)),name))\n",
    "for index,name in index_name:\n",
    "    print(f\"index:{index},name:{name}\")\n",
    "\n",
    "\n"
   ]
  },
  {
   "cell_type": "code",
   "execution_count": null,
   "metadata": {},
   "outputs": [
    {
     "name": "stdout",
     "output_type": "stream",
     "text": [
      "name:vahid,age: 36\n",
      "name:masoud,age: 41\n",
      "name:hamid,age: 44\n",
      "name:zohreh,age: 46\n"
     ]
    }
   ],
   "source": [
    "name=[\"vahid\",\"masoud\",\"hamid\",\"zohreh\"]\n",
    "ages=[36,41,44,46]\n",
    "zipped=zip(name,ages)\n",
    "for names,age in zipped:\n",
    "    print(f\"name:{names},age: {age}\")"
   ]
  },
  {
   "cell_type": "code",
   "execution_count": null,
   "metadata": {},
   "outputs": [
    {
     "name": "stdout",
     "output_type": "stream",
     "text": [
      "name:vahid,age: 36\n",
      "name:masoud,age: 41\n",
      "name:hamid,age: 44\n"
     ]
    }
   ],
   "source": [
    "# different lengths in input\n",
    "name2=[\"vahid\",\"masoud\",\"hamid\",\"zohreh\"]\n",
    "ages2=[36,41,44]\n",
    "zipped2=zip(name2,ages2)\n",
    "for names,age in zipped2:\n",
    "    print(f\"name:{names},age: {age}\")\n"
   ]
  },
  {
   "cell_type": "code",
   "execution_count": null,
   "metadata": {},
   "outputs": [
    {
     "name": "stdout",
     "output_type": "stream",
     "text": [
      "unzipped names: ('vahid', 'masoud', 'hamid', 'zohreh')\n",
      "unzipped age; (36, 41, 44, 46)\n"
     ]
    }
   ],
   "source": [
    "#unziped with zip\n",
    "name=[\"vahid\",\"masoud\",\"hamid\",\"zohreh\"]\n",
    "ages=[36,41,44,46]\n",
    "zipped=zip(name,ages)\n",
    "unzipped_name,unzipped_age=zip(*zipped)\n",
    "print(\"unzipped names:\",unzipped_name)\n",
    "print(\"unzipped age;\",unzipped_age)\n"
   ]
  },
  {
   "cell_type": "code",
   "execution_count": null,
   "metadata": {},
   "outputs": [
    {
     "name": "stdout",
     "output_type": "stream",
     "text": [
      "{'name': 'John', 'age': 25, 'city': 'New York'}\n"
     ]
    }
   ],
   "source": [
    "# zip with dictionaries\n",
    "keys=[\"name\",\"age\",\"city\"]\n",
    "values=[\"John\",25,\"New York\"]\n",
    "person_dic=dict(zip(keys,values))\n",
    "print(person_dic)"
   ]
  }
 ],
 "metadata": {
  "kernelspec": {
   "display_name": "venvall",
   "language": "python",
   "name": "python3"
  },
  "language_info": {
   "codemirror_mode": {
    "name": "ipython",
    "version": 3
   },
   "file_extension": ".py",
   "mimetype": "text/x-python",
   "name": "python",
   "nbconvert_exporter": "python",
   "pygments_lexer": "ipython3",
   "version": "3.12.3"
  }
 },
 "nbformat": 4,
 "nbformat_minor": 2
}
