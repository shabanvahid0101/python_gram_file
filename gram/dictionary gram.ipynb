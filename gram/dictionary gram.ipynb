{
 "cells": [
  {
   "cell_type": "markdown",
   "metadata": {},
   "source": [
    "# dictionary gram"
   ]
  },
  {
   "cell_type": "markdown",
   "metadata": {},
   "source": [
    "# تعریف دیکشنری"
   ]
  },
  {
   "cell_type": "code",
   "execution_count": 1,
   "metadata": {},
   "outputs": [
    {
     "name": "stdout",
     "output_type": "stream",
     "text": [
      "{'name': 'vahid', 'age': 20, 'hobby': 'footbal'}\n"
     ]
    }
   ],
   "source": [
    "person1={\n",
    "    \"name\":\"vahid\",\n",
    "    \"age\":20,\n",
    "    \"hobby\":\"footbal\"\n",
    "}\n",
    "print(person1)"
   ]
  },
  {
   "cell_type": "code",
   "execution_count": 2,
   "metadata": {},
   "outputs": [
    {
     "name": "stdout",
     "output_type": "stream",
     "text": [
      "{'name': 'ali', 'age': 25, 'hobby': 'tenis'}\n"
     ]
    }
   ],
   "source": [
    "person2=dict(name=\"ali\",age=25,hobby=\"tenis\")\n",
    "print(person2)"
   ]
  },
  {
   "cell_type": "code",
   "execution_count": 3,
   "metadata": {},
   "outputs": [
    {
     "name": "stdout",
     "output_type": "stream",
     "text": [
      "{}\n",
      "{}\n"
     ]
    }
   ],
   "source": [
    "person1={}\n",
    "print(person1)\n",
    "person2=dict()\n",
    "print(person2)"
   ]
  },
  {
   "cell_type": "markdown",
   "metadata": {},
   "source": [
    "# فراخوانی از دیکشنری"
   ]
  },
  {
   "cell_type": "code",
   "execution_count": 6,
   "metadata": {},
   "outputs": [
    {
     "name": "stdout",
     "output_type": "stream",
     "text": [
      "person has name\n",
      "her name is : yamada\n",
      "person has not music\n"
     ]
    }
   ],
   "source": [
    "person = {\n",
    "    \"name\"  : \"yamada\", \n",
    "    \"age\"   : 17,\n",
    "    \"hobby\" : \"tenis\"\n",
    "}\n",
    "\n",
    "if \"name\" in person:\n",
    "    print(\"person has name\")\n",
    "    print(f\"her name is : {person['name']}\")\n",
    "else:\n",
    "    print(\"person has not name\")\n",
    "if \"music\" in person :\n",
    "    print(\"person has music\")\n",
    "else:\n",
    "    print(\"person has not music\")"
   ]
  },
  {
   "cell_type": "code",
   "execution_count": 8,
   "metadata": {},
   "outputs": [
    {
     "name": "stdout",
     "output_type": "stream",
     "text": [
      "{'name': 'yamada', 'age': 17, 'hobby': 'tenis'}\n",
      "{'name': 'yamada', 'age': 17, 'hobby': 'tenis'}\n"
     ]
    }
   ],
   "source": [
    "person1 = {\n",
    "    \"name\"  : \"yamada\", \n",
    "    \"age\"   : 17,\n",
    "    \"hobby\" : \"tenis\"\n",
    "}\n",
    "print(person1)\n",
    "\n",
    "person2=dict(person1)\n",
    "print(person2)"
   ]
  },
  {
   "cell_type": "code",
   "execution_count": 3,
   "metadata": {},
   "outputs": [
    {
     "name": "stdout",
     "output_type": "stream",
     "text": [
      "{'japan': 'tokyo', 'england': 'london', 'iran': 'tehran', 'france': 'paris'}\n",
      "japan\n",
      "england\n",
      "iran\n",
      "france\n",
      "tokyo\n",
      "london\n",
      "tehran\n",
      "paris\n",
      "japan ==>tokyo\n",
      "england ==>london\n",
      "iran ==>tehran\n",
      "france ==>paris\n"
     ]
    }
   ],
   "source": [
    "nations={\"japan\":\"tokyo\",\n",
    "         \"england\":\"london\",\n",
    "         \"iran\":\"tehran\",\n",
    "         \"france\":\"paris\"}\n",
    "print(nations)\n",
    "\n",
    "for key in nations.keys():\n",
    "    print(key)\n",
    "\n",
    "for value in nations.values():\n",
    "    print(value)\n",
    "\n",
    "for key,value in nations.items():\n",
    "    print(key + \" ==>\" +value)"
   ]
  },
  {
   "cell_type": "code",
   "execution_count": 4,
   "metadata": {},
   "outputs": [
    {
     "name": "stdout",
     "output_type": "stream",
     "text": [
      "japan is the capital of tokyo\n",
      "england is the capital of london\n",
      "iran is the capital of tehran\n",
      "france is the capital of paris\n"
     ]
    }
   ],
   "source": [
    "nations3= {\n",
    "    \"Japan\" : \"tokyo\",\n",
    "    \"England\" : \"london\",\n",
    "    \"France\" : \"paris\",\n",
    "    \"Spain\" : \"madrid\",\n",
    "}\n",
    "\n",
    "for key,value in nations.items():\n",
    "    print(f\"{key} is the capital of {value}\")\n"
   ]
  },
  {
   "cell_type": "code",
   "execution_count": 5,
   "metadata": {},
   "outputs": [
    {
     "name": "stdout",
     "output_type": "stream",
     "text": [
      "Japan is the capital of tokyo\n",
      "England is the capital of london\n",
      "France is the capital of paris\n",
      "Spain is the capital of madrid\n"
     ]
    }
   ],
   "source": [
    "nations3= {\n",
    "    \"Japan\" : \"tokyo\",\n",
    "    \"England\" : \"london\",\n",
    "    \"France\" : \"paris\",\n",
    "    \"Spain\" : \"madrid\",\n",
    "}\n",
    "for key,value in nations3.items():\n",
    "    print(key +\" is the capital of \"+ value)"
   ]
  },
  {
   "cell_type": "markdown",
   "metadata": {},
   "source": [
    "# اضافه کردن به دیکشنری"
   ]
  },
  {
   "cell_type": "code",
   "execution_count": 7,
   "metadata": {},
   "outputs": [
    {
     "name": "stdout",
     "output_type": "stream",
     "text": [
      "{'Japan': 'Tokyo', 'USA': 'Washington DC', 'England': 'London', 'France': 'Paris', 'Germany': 'Berlin'}\n"
     ]
    }
   ],
   "source": [
    "nations1 = {\n",
    "    \"Japan\" : \"Tokyo\",\n",
    "    \"USA\" : \"Washington DC\",\n",
    "    \"England\" : \"London\",\n",
    "}\n",
    "nations2 = {\n",
    "    \"France\" : \"Paris\",\n",
    "    \"Germany\" : \"Berlin\",\n",
    "}\n",
    "nations1.update(nations2)\n",
    "print(nations1)"
   ]
  },
  {
   "cell_type": "code",
   "execution_count": 1,
   "metadata": {},
   "outputs": [
    {
     "name": "stdout",
     "output_type": "stream",
     "text": [
      "{'name': 'vahid', 'age': 20, 'hobby': 'footbal'}\n",
      "{'name': 'ali', 'age': 25, 'hobby': 'tenis'}\n"
     ]
    }
   ],
   "source": [
    "person1={\n",
    "    \"name\":\"vahid\",\n",
    "    \"age\":20,\n",
    "    \"hobby\":\"footbal\"\n",
    "}\n",
    "print(person1)\n",
    "person2=dict(name=\"ali\",age=25,hobby=\"tenis\")\n",
    "print(person2)"
   ]
  }
 ],
 "metadata": {
  "kernelspec": {
   "display_name": "venvall",
   "language": "python",
   "name": "python3"
  },
  "language_info": {
   "codemirror_mode": {
    "name": "ipython",
    "version": 3
   },
   "file_extension": ".py",
   "mimetype": "text/x-python",
   "name": "python",
   "nbconvert_exporter": "python",
   "pygments_lexer": "ipython3",
   "version": "3.12.3"
  }
 },
 "nbformat": 4,
 "nbformat_minor": 2
}
