{
 "cells": [
  {
   "cell_type": "markdown",
   "metadata": {},
   "source": [
    "## کار روی نوشته ها"
   ]
  },
  {
   "cell_type": "code",
   "execution_count": null,
   "metadata": {},
   "outputs": [],
   "source": [
    "name = \"vahid shaban\"\n",
    "aa=name.capitalize()\n",
    "print(aa)\n",
    "\n",
    "bb=name.lower()\n",
    "print(bb)\n",
    "\n",
    "cc=name.upper()\n",
    "print(cc)\n",
    "\n",
    "name2=\"vahid\"\n",
    "dd=name2.center(30,'*')\n",
    "print(dd)\n",
    "\n",
    "ee=name2.count('d')\n",
    "print(ee)\n",
    "\n",
    "ff=name2.index(\"i\")\n",
    "print(ff)\n",
    "\n",
    "gg=name.find('d')\n",
    "print(gg)\n",
    "\n",
    "hh=name.replace('v','h')\n",
    "print(hh)\n",
    "\n",
    "ii=name2.split()\n",
    "print(ii)\n",
    "\n",
    "adad='vvv123'\n",
    "kk=adad.isalnum() \n",
    "print(kk)\n",
    "\n",
    "ll=adad.isnumeric()\n",
    "print(ll)\n",
    "\n",
    "\n",
    "name3='Vaio Sony'\n",
    "jj=name3.islower()\n",
    "print(jj)\n",
    "\n",
    "jj=name3.isupper()\n",
    "print(jj)"
   ]
  },
  {
   "cell_type": "code",
   "execution_count": 24,
   "metadata": {},
   "outputs": [
    {
     "name": "stdout",
     "output_type": "stream",
     "text": [
      "i am vahid \n",
      " shaban\n",
      "my name is \"vahid\"\n",
      "my name is 'vahid'\n",
      " mynamee\n",
      "my name is \t vahid\n",
      "my name iیییی\n",
      "my name is\u000b vahid\n",
      "my name is\f یبمتی vahid\n",
      "my name is \u0007 vahid\n",
      "my name is ' vahid\n",
      "my name is \\ vahid\n"
     ]
    }
   ],
   "source": [
    "#رفتن به خط بعد\n",
    "print(\"i am vahid \\n shaban\")\n",
    "#دابل کوتیشن میزاره\n",
    "print(\"my name is \\\"vahid\\\"\")\n",
    "#می توان از کوتیشن داخل دابل کوتیشن استفاده کرد\n",
    "print(\"my name is 'vahid'\")\n",
    "#جملات بعد ان رو به اول اضافه میکنه\n",
    "print(\"this is \\r mynamee\")\n",
    "#به اندازه یک تب فاصله می ذاره\n",
    "print(\"my name is \\t vahid\")\n",
    "#یکی از حرف قبلش رو پاک میکنه\n",
    "print(\"my name is\\bیییی\")\n",
    "#\n",
    "print(\"my name is\\v vahid\")\n",
    "#\n",
    "print(\"my name is\\f یبمتی vahid\")\n",
    "#\n",
    "print(\"my name is \\a vahid\")\n",
    "#تک کوتیشن میزاره\n",
    "print(\"my name is \\' vahid\")\n",
    "#اسلش میزاره\n",
    "print(\"my name is \\\\ vahid\")\n"
   ]
  },
  {
   "cell_type": "markdown",
   "metadata": {},
   "source": [
    "بزرگ کردن نوشته ها"
   ]
  },
  {
   "cell_type": "code",
   "execution_count": 1,
   "metadata": {},
   "outputs": [
    {
     "name": "stdout",
     "output_type": "stream",
     "text": [
      "JOHN\n",
      "ANNA\n",
      "NANCY\n",
      "BOB\n",
      "ELSA\n"
     ]
    }
   ],
   "source": [
    "# upper\n",
    "\n",
    "names=[\"John\",\"anna\",\"nancy\",\"bOB\",\"Elsa\"]\n",
    "for name in names:\n",
    "    print(name.upper())"
   ]
  },
  {
   "cell_type": "markdown",
   "metadata": {},
   "source": [
    "کوچک کردن نوشته ها"
   ]
  },
  {
   "cell_type": "code",
   "execution_count": 2,
   "metadata": {},
   "outputs": [
    {
     "name": "stdout",
     "output_type": "stream",
     "text": [
      "john\n",
      "anna\n",
      "nancy\n",
      "bob\n",
      "elsa\n"
     ]
    }
   ],
   "source": [
    "names=[\"John\",\"anna\",\"nancy\",\"bOB\",\"Elsa\"]\n",
    "for name in names:\n",
    "    print(name.lower())"
   ]
  },
  {
   "cell_type": "markdown",
   "metadata": {},
   "source": [
    "کاراکتر های اضافه از قبل کلمه را حذف می کنه"
   ]
  },
  {
   "cell_type": "code",
   "execution_count": 3,
   "metadata": {},
   "outputs": [
    {
     "name": "stdout",
     "output_type": "stream",
     "text": [
      "John\n",
      "anna\n",
      "nan   cy\n",
      "b   OB\n",
      "Elsa\n"
     ]
    }
   ],
   "source": [
    "names=[\"     John\",\"anna    \",\"nan   cy\",\"b   OB\",\"Elsa    \"]\n",
    "for name in names:\n",
    "    print(name.strip())"
   ]
  },
  {
   "cell_type": "markdown",
   "metadata": {},
   "source": [
    " در جمله فقط حرف اول کلمه اول را به حروف بزرگ بنویسه"
   ]
  },
  {
   "cell_type": "code",
   "execution_count": 5,
   "metadata": {},
   "outputs": [
    {
     "name": "stdout",
     "output_type": "stream",
     "text": [
      "If you can dream it , you can do it\n"
     ]
    }
   ],
   "source": [
    "massege=\"if you can Dream it , you can do it\"\n",
    "print(massege.capitalize())\n"
   ]
  },
  {
   "cell_type": "markdown",
   "metadata": {},
   "source": [
    "حرف اول هر کلمه رو به بزرگ تبدیل می کنه"
   ]
  },
  {
   "cell_type": "code",
   "execution_count": 6,
   "metadata": {},
   "outputs": [
    {
     "name": "stdout",
     "output_type": "stream",
     "text": [
      "If You Can Dream It , You Can Do It\n"
     ]
    }
   ],
   "source": [
    "print(massege.title())"
   ]
  },
  {
   "cell_type": "markdown",
   "metadata": {},
   "source": [
    " بر اساس یک علامت جدا میکنه رشته ها و داخل یک لیست قرار میده"
   ]
  },
  {
   "cell_type": "code",
   "execution_count": 7,
   "metadata": {},
   "outputs": [
    {
     "name": "stdout",
     "output_type": "stream",
     "text": [
      "['red', 'blue', 'green', 'pink', 'orange']\n"
     ]
    }
   ],
   "source": [
    "data = \"red:blue:green:pink:orange\"\n",
    "color=data.split(\":\")\n",
    "print(color)"
   ]
  },
  {
   "cell_type": "markdown",
   "metadata": {},
   "source": [
    "با یک علامت کل لیست رو به یک استرینگ تبدیل می کنه"
   ]
  },
  {
   "cell_type": "code",
   "execution_count": 8,
   "metadata": {},
   "outputs": [
    {
     "data": {
      "text/plain": [
       "'I-have-an-apple'"
      ]
     },
     "execution_count": 8,
     "metadata": {},
     "output_type": "execute_result"
    }
   ],
   "source": [
    "words = [\"I\" ,\"have\" , \"an\", \"apple\"]\n",
    "messege=\"-\".join(words)\n",
    "messege"
   ]
  },
  {
   "cell_type": "markdown",
   "metadata": {},
   "source": [
    "پیدا کردن یک ایندکس از یک رشته حروف"
   ]
  },
  {
   "cell_type": "code",
   "execution_count": 12,
   "metadata": {},
   "outputs": [
    {
     "name": "stdout",
     "output_type": "stream",
     "text": [
      "9\n"
     ]
    }
   ],
   "source": [
    "message=\"I have a pen\"\n",
    "result=message.find(\"pen\")\n",
    "print(result)"
   ]
  },
  {
   "cell_type": "markdown",
   "metadata": {},
   "source": [
    "به جای یک استرینگ یک استرینگ دیگر قرار میده"
   ]
  },
  {
   "cell_type": "code",
   "execution_count": 14,
   "metadata": {},
   "outputs": [
    {
     "data": {
      "text/plain": [
       "'I-has-an-apple'"
      ]
     },
     "execution_count": 14,
     "metadata": {},
     "output_type": "execute_result"
    }
   ],
   "source": [
    "result=messege.replace(\"have\",\"has\")\n",
    "result"
   ]
  },
  {
   "cell_type": "markdown",
   "metadata": {},
   "source": [
    "بودن یا نبودن کلمه رو در یک استرینگ چک میکنه"
   ]
  },
  {
   "cell_type": "code",
   "execution_count": 1,
   "metadata": {},
   "outputs": [
    {
     "name": "stdout",
     "output_type": "stream",
     "text": [
      "True\n",
      "False\n"
     ]
    }
   ],
   "source": [
    "text=\"the quick brown fox\"\n",
    "print(\"quick\" in text)\n",
    "print(\"slow\" in text)"
   ]
  },
  {
   "cell_type": "code",
   "execution_count": null,
   "metadata": {},
   "outputs": [
    {
     "name": "stdout",
     "output_type": "stream",
     "text": [
      "world!\n",
      "!dlrow,olleh\n"
     ]
    }
   ],
   "source": [
    "text=\"hello,world!\"\n",
    "# تعیین میکنه از کدوم استرینگ تا کدوم استرینگ\n",
    "print(text[6:12])\n",
    "#برعکس میکنه نوشته رو\n",
    "print(text[::-1])"
   ]
  },
  {
   "cell_type": "markdown",
   "metadata": {},
   "source": [
    "قرار دادن لیست داخل استرینگ"
   ]
  },
  {
   "cell_type": "code",
   "execution_count": 6,
   "metadata": {},
   "outputs": [
    {
     "name": "stdout",
     "output_type": "stream",
     "text": [
      "python is awesome\n"
     ]
    }
   ],
   "source": [
    "words=[\"python\",\"is\",\"awesome\"]\n",
    "sentence =\" \".join(words)\n",
    "print(sentence)"
   ]
  },
  {
   "cell_type": "code",
   "execution_count": null,
   "metadata": {},
   "outputs": [
    {
     "name": "stdout",
     "output_type": "stream",
     "text": [
      "hello,world\n",
      "hello,vahid\n",
      "['hello', 'world']\n"
     ]
    }
   ],
   "source": [
    "text=\"hello,world\"\n",
    "print(text.strip())\n",
    "#بجای یک استرینگ چیز دیگری قرار بدیم\n",
    "print(text.replace(\"world\",\"vahid\"))\n",
    "#با علامت مشخص شده بین استرینگ ها به لیست تبدیل کن\n",
    "print(text.split(\",\"))"
   ]
  },
  {
   "cell_type": "code",
   "execution_count": 9,
   "metadata": {},
   "outputs": [
    {
     "name": "stdout",
     "output_type": "stream",
     "text": [
      "\n",
      "this is a\n",
      "multiline string\n",
      "in python\n",
      "\n"
     ]
    }
   ],
   "source": [
    "#یک استرینگ چند خطی بنویسیم\n",
    "multiline_string=\"\"\"\n",
    "this is a\n",
    "multiline string\n",
    "in python\n",
    "\"\"\"\n",
    "print(multiline_string)"
   ]
  },
  {
   "cell_type": "code",
   "execution_count": 12,
   "metadata": {},
   "outputs": [
    {
     "name": "stdout",
     "output_type": "stream",
     "text": [
      "name: vahid, age: 36\n"
     ]
    }
   ],
   "source": [
    "name=\"vahid\"\n",
    "age=36\n",
    "print(f\"name: {name}, age: {age}\")\n"
   ]
  }
 ],
 "metadata": {
  "kernelspec": {
   "display_name": "venvall",
   "language": "python",
   "name": "python3"
  },
  "language_info": {
   "codemirror_mode": {
    "name": "ipython",
    "version": 3
   },
   "file_extension": ".py",
   "mimetype": "text/x-python",
   "name": "python",
   "nbconvert_exporter": "python",
   "pygments_lexer": "ipython3",
   "version": "3.12.3"
  }
 },
 "nbformat": 4,
 "nbformat_minor": 2
}
