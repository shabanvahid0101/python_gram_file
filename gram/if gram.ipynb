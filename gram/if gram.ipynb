{
 "cells": [
  {
   "cell_type": "markdown",
   "metadata": {},
   "source": [
    "# if grammer"
   ]
  },
  {
   "cell_type": "markdown",
   "metadata": {},
   "source": [
    "# iqual"
   ]
  },
  {
   "cell_type": "code",
   "execution_count": 8,
   "metadata": {},
   "outputs": [
    {
     "name": "stdout",
     "output_type": "stream",
     "text": [
      "It's sunny outside!\n"
     ]
    }
   ],
   "source": [
    "weather=\"sunny\"\n",
    "if weather == \"sunny\":\n",
    "    print(\"It's sunny outside!\")\n",
    "else:\n",
    "    print(\"it is not sunny\")"
   ]
  },
  {
   "cell_type": "code",
   "execution_count": 9,
   "metadata": {},
   "outputs": [
    {
     "name": "stdout",
     "output_type": "stream",
     "text": [
      "Good\n"
     ]
    }
   ],
   "source": [
    "score=85\n",
    "if score == 100:\n",
    "    print(\"Perfect\")\n",
    "elif score >=90:\n",
    "    print(\"Great\")\n",
    "elif score >=80:\n",
    "    print(\"Good\")\n",
    "elif score >=70:\n",
    "    print(\"Nice\")\n",
    "else:\n",
    "    print(\"Try hard\")\n",
    "    "
   ]
  },
  {
   "cell_type": "code",
   "execution_count": 10,
   "metadata": {},
   "outputs": [
    {
     "name": "stdout",
     "output_type": "stream",
     "text": [
      "this is true\n",
      "this is false\n"
     ]
    }
   ],
   "source": [
    "data1 = [\"apple\",\"orange\"]\n",
    "data2 = [\"apple\",\"orange\"]\n",
    "data3 = [\"apple\",\"melon\"]\n",
    "\n",
    "if data1 == data2:\n",
    "    print(\"this is true\")\n",
    "else:\n",
    "    print(\"this is false\")\n",
    "if data1 == data3:\n",
    "    print(\"this is true\")\n",
    "else:\n",
    "    print(\"this is false\")\n"
   ]
  },
  {
   "cell_type": "markdown",
   "metadata": {},
   "source": [
    "# is"
   ]
  },
  {
   "cell_type": "code",
   "execution_count": 1,
   "metadata": {},
   "outputs": [
    {
     "name": "stdout",
     "output_type": "stream",
     "text": [
      "this is true\n",
      "this is false\n",
      "this is false\n"
     ]
    }
   ],
   "source": [
    "data1 = [\"apple\",\"orange\"]\n",
    "data2 = [\"apple\",\"orange\"]\n",
    "data3 = [\"apple\",\"melon\"]\n",
    "\n",
    "if data1 is data1:\n",
    "    print(\"this is true\")\n",
    "else:\n",
    "    print(\"this is false\")\n",
    "if data1 is data2:\n",
    "    print(\"this is true\")\n",
    "else:\n",
    "    print(\"this is false\")\n",
    "if data1 is data3:\n",
    "    print(\"this is true\")\n",
    "else:\n",
    "    print(\"this is false\")"
   ]
  },
  {
   "cell_type": "markdown",
   "metadata": {},
   "source": [
    "# in & "
   ]
  },
  {
   "cell_type": "code",
   "execution_count": 5,
   "metadata": {},
   "outputs": [
    {
     "name": "stdout",
     "output_type": "stream",
     "text": [
      "this is true\n",
      "this is false\n",
      "this is false\n",
      "this is true\n"
     ]
    }
   ],
   "source": [
    "data = [\"apple\",\"orange\",\"melon\"]\n",
    "\n",
    "if \"apple\" in data:\n",
    "    print(\"this is true\")\n",
    "else:\n",
    "    print(\"this is false\")\n",
    "    \n",
    "\n",
    "if \"grap\" in data:\n",
    "    print(\"this is true\")\n",
    "else:\n",
    "    print(\"this is false\")\n",
    "data = [\"apple\",\"orange\",\"melon\"]\n",
    "\n",
    "if \"apple\"  not in data:\n",
    "    print(\"this is true\")\n",
    "else:\n",
    "    print(\"this is false\")\n",
    "    \n",
    "\n",
    "if \"grap\" not in data:\n",
    "    print(\"this is true\")\n",
    "else:\n",
    "    print(\"this is false\")"
   ]
  },
  {
   "cell_type": "markdown",
   "metadata": {},
   "source": [
    "# true & false"
   ]
  },
  {
   "cell_type": "code",
   "execution_count": 7,
   "metadata": {},
   "outputs": [
    {
     "name": "stdout",
     "output_type": "stream",
     "text": [
      "Value 1 is True\n",
      "value 2 is false\n"
     ]
    }
   ],
   "source": [
    "value1=True\n",
    "value2=False\n",
    "if value1:\n",
    "    print(\"Value 1 is True\")\n",
    "else:\n",
    "    print(\"value 1 is false\")\n",
    "if value2:\n",
    "    print(\"Value 2 is True\")\n",
    "else:\n",
    "    print(\"value 2 is false\")\n"
   ]
  },
  {
   "cell_type": "code",
   "execution_count": 1,
   "metadata": {},
   "outputs": [
    {
     "name": "stdout",
     "output_type": "stream",
     "text": [
      "this is false\n",
      "this is false\n"
     ]
    }
   ],
   "source": [
    "number=0\n",
    "text=\"\"\n",
    "if number:\n",
    "    print(\"this is true\")\n",
    "else:\n",
    "    print(\"this is false\")\n",
    "if text:\n",
    "    print(\"this is true\")\n",
    "else:\n",
    "    print(\"this is false\")"
   ]
  },
  {
   "cell_type": "markdown",
   "metadata": {},
   "source": [
    "# and"
   ]
  },
  {
   "cell_type": "code",
   "execution_count": null,
   "metadata": {},
   "outputs": [
    {
     "name": "stdout",
     "output_type": "stream",
     "text": [
      "Number is between 5 and 10\n"
     ]
    }
   ],
   "source": [
    "number=7\n",
    "if number>=5 and number <=10:\n",
    "    print(\"Number is between 5 and 10\")\n",
    "else:\n",
    "    print(\"number is not between 5 and 10\")"
   ]
  },
  {
   "cell_type": "code",
   "execution_count": 3,
   "metadata": {},
   "outputs": [
    {
     "name": "stdout",
     "output_type": "stream",
     "text": [
      "Number is between 5 and 10\n"
     ]
    }
   ],
   "source": [
    "number=7\n",
    "if 5<=number<=10:\n",
    "    print(\"Number is between 5 and 10\")\n",
    "else:\n",
    "    print(\"Number is not between 5 and 10\")"
   ]
  },
  {
   "cell_type": "code",
   "execution_count": 4,
   "metadata": {},
   "outputs": [
    {
     "name": "stdout",
     "output_type": "stream",
     "text": [
      "I like \"New York Yankees\"\n",
      "I like B'z\n"
     ]
    }
   ],
   "source": [
    "print(\"I like \\\"New York Yankees\\\"\")\n",
    "print(\"I like B'z\")"
   ]
  },
  {
   "cell_type": "code",
   "execution_count": 5,
   "metadata": {},
   "outputs": [
    {
     "name": "stdout",
     "output_type": "stream",
     "text": [
      "colors have red\n"
     ]
    }
   ],
   "source": [
    "colors = [\"red\",\"blue\",\"green\",\"yellow\"]\n",
    "\n",
    "if  \"red\" in colors :\n",
    "    print(\"colors have red\")\n",
    "else:\n",
    "    print(\"colors do not have red\")"
   ]
  },
  {
   "cell_type": "code",
   "execution_count": 7,
   "metadata": {},
   "outputs": [
    {
     "name": "stdout",
     "output_type": "stream",
     "text": [
      "numberは10以上、かつ20以下です\n"
     ]
    }
   ],
   "source": [
    "number = 15\n",
    "\n",
    "if  10<=number<=20:\n",
    "    print(\"numberは10以上、かつ20以下です\")\n",
    "else:\n",
    "    print(\"numberは10以上、かつ20以下ではありません\")\n"
   ]
  },
  {
   "cell_type": "markdown",
   "metadata": {},
   "source": [
    "# or"
   ]
  },
  {
   "cell_type": "code",
   "execution_count": 11,
   "metadata": {},
   "outputs": [
    {
     "name": "stdout",
     "output_type": "stream",
     "text": [
      "Elsa\n",
      "Anna\n"
     ]
    }
   ],
   "source": [
    "members=[\"Micky\",\"Minny\",\"Elsa\",\"Donald\",\"Anna\"]\n",
    "for i in members:\n",
    "    if i==\"Elsa\" or i==\"Anna\":\n",
    "        print(i)"
   ]
  },
  {
   "cell_type": "markdown",
   "metadata": {},
   "source": [
    "# and"
   ]
  }
 ],
 "metadata": {
  "kernelspec": {
   "display_name": "venvall",
   "language": "python",
   "name": "python3"
  },
  "language_info": {
   "codemirror_mode": {
    "name": "ipython",
    "version": 3
   },
   "file_extension": ".py",
   "mimetype": "text/x-python",
   "name": "python",
   "nbconvert_exporter": "python",
   "pygments_lexer": "ipython3",
   "version": "3.12.3"
  }
 },
 "nbformat": 4,
 "nbformat_minor": 2
}
