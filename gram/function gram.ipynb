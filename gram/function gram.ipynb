{
 "cells": [
  {
   "cell_type": "code",
   "execution_count": 2,
   "metadata": {},
   "outputs": [
    {
     "name": "stdout",
     "output_type": "stream",
     "text": [
      "Hello, vahid!\n",
      "how are you?\n"
     ]
    }
   ],
   "source": [
    "def sayhello():\n",
    "    print(\"Hello, vahid!\")\n",
    "    print(\"how are you?\")\n",
    "sayhello()\n",
    "    "
   ]
  },
  {
   "cell_type": "code",
   "execution_count": 4,
   "metadata": {},
   "outputs": [
    {
     "name": "stdout",
     "output_type": "stream",
     "text": [
      "88\n",
      "2378\n"
     ]
    }
   ],
   "source": [
    "def add (num1,num2):\n",
    "    num3=num1+num2\n",
    "    return num3\n",
    "print(add(55,33))\n",
    "print(add(44,2334))"
   ]
  },
  {
   "cell_type": "code",
   "execution_count": 5,
   "metadata": {},
   "outputs": [
    {
     "name": "stdout",
     "output_type": "stream",
     "text": [
      "1462\n"
     ]
    }
   ],
   "source": [
    "def multiply(num1,num2):\n",
    "    result = num1 * num2\n",
    "    return result\n",
    "num3=multiply (43,34)\n",
    "print(num3)"
   ]
  },
  {
   "cell_type": "code",
   "execution_count": 9,
   "metadata": {},
   "outputs": [
    {
     "name": "stdout",
     "output_type": "stream",
     "text": [
      "7\n"
     ]
    }
   ],
   "source": [
    "def add (num1,num2=5):\n",
    "    result=num1+num2\n",
    "    return result\n",
    "answer = add (2)\n",
    "print(answer)  "
   ]
  },
  {
   "cell_type": "code",
   "execution_count": 11,
   "metadata": {},
   "outputs": [
    {
     "name": "stdout",
     "output_type": "stream",
     "text": [
      "Music: shadmehr\n",
      "Movie: titanic\n"
     ]
    }
   ],
   "source": [
    "def show_hobby(music,movie):\n",
    "    print(f\"Music: {music}\")\n",
    "    print(f\"Movie: {movie}\")\n",
    "show_hobby(\"shadmehr\",\"titanic\")"
   ]
  },
  {
   "cell_type": "code",
   "execution_count": 13,
   "metadata": {},
   "outputs": [
    {
     "name": "stdout",
     "output_type": "stream",
     "text": [
      "today foods is [piza]\n",
      "today foods is [biffcurry]\n",
      "today foods is [kebab]\n"
     ]
    }
   ],
   "source": [
    "def show_food(*food):\n",
    "    for item in food:\n",
    "        print(\"today foods is [\"+item+\"]\")\n",
    "show_food(\"piza\",\"biffcurry\",\"kebab\")"
   ]
  },
  {
   "cell_type": "code",
   "execution_count": 14,
   "metadata": {},
   "outputs": [
    {
     "name": "stdout",
     "output_type": "stream",
     "text": [
      "My name is John.\n",
      "I am 30 years old.\n",
      "I am Engineer.\n"
     ]
    }
   ],
   "source": [
    "def show_myself(**data):\n",
    "    print(\"My name is %s.\" % data['name'])\n",
    "    print(\"I am %d years old.\" % data['age'])\n",
    "    print(\"I am %s.\" % data['job'])\n",
    "show_myself(name='John', age=30, job='Engineer')"
   ]
  },
  {
   "cell_type": "code",
   "execution_count": 15,
   "metadata": {},
   "outputs": [
    {
     "name": "stdout",
     "output_type": "stream",
     "text": [
      "John\n",
      "Mary\n",
      "David\n"
     ]
    }
   ],
   "source": [
    "def show_members(*members):\n",
    "    for member in members:\n",
    "        print(member)\n",
    "show_members(\"John\", \"Mary\", \"David\")"
   ]
  },
  {
   "cell_type": "code",
   "execution_count": 17,
   "metadata": {},
   "outputs": [
    {
     "name": "stdout",
     "output_type": "stream",
     "text": [
      "math: 90\n",
      "science: 85\n",
      "english: 95\n"
     ]
    }
   ],
   "source": [
    "def show_score(**scores):\n",
    "    for key, value in scores.items():\n",
    "        print(f\"{key}: {value}\")\n",
    "show_score(**{'math': 90, 'science': 85, 'english': 95})\n",
    "  "
   ]
  },
  {
   "cell_type": "markdown",
   "metadata": {},
   "source": [
    "# basic"
   ]
  },
  {
   "cell_type": "code",
   "execution_count": 2,
   "metadata": {},
   "outputs": [
    {
     "name": "stdout",
     "output_type": "stream",
     "text": [
      "hello vahid\n"
     ]
    }
   ],
   "source": [
    "def my_function():\n",
    "    print(\"hello vahid\")\n",
    "my_function()"
   ]
  },
  {
   "cell_type": "markdown",
   "metadata": {},
   "source": [
    "# function with parameter"
   ]
  },
  {
   "cell_type": "code",
   "execution_count": 3,
   "metadata": {},
   "outputs": [
    {
     "name": "stdout",
     "output_type": "stream",
     "text": [
      "hello,vahid!\n"
     ]
    }
   ],
   "source": [
    "def great(name):\n",
    "    print(f\"hello,{name}!\")\n",
    "great(\"vahid\")"
   ]
  },
  {
   "cell_type": "markdown",
   "metadata": {},
   "source": [
    "# return Values"
   ]
  },
  {
   "cell_type": "code",
   "execution_count": 4,
   "metadata": {},
   "outputs": [
    {
     "data": {
      "text/plain": [
       "8"
      ]
     },
     "execution_count": 4,
     "metadata": {},
     "output_type": "execute_result"
    }
   ],
   "source": [
    "def add(a,b):\n",
    "    return a+b\n",
    "result=add(3,5)\n",
    "result"
   ]
  },
  {
   "cell_type": "code",
   "execution_count": 1,
   "metadata": {},
   "outputs": [
    {
     "name": "stdout",
     "output_type": "stream",
     "text": [
      "8\n",
      "9\n"
     ]
    }
   ],
   "source": [
    "def add(a,b):\n",
    "    my_sum=a+b\n",
    "    print(my_sum)\n",
    "add(3,5)\n",
    "add(4,5)"
   ]
  },
  {
   "cell_type": "code",
   "execution_count": 4,
   "metadata": {},
   "outputs": [
    {
     "data": {
      "text/plain": [
       "15"
      ]
     },
     "execution_count": 4,
     "metadata": {},
     "output_type": "execute_result"
    }
   ],
   "source": [
    "def multiply(a,b):\n",
    "    return a*b\n",
    "result=multiply(3,5)\n",
    "result"
   ]
  },
  {
   "cell_type": "markdown",
   "metadata": {},
   "source": [
    "# default parameters"
   ]
  },
  {
   "cell_type": "code",
   "execution_count": 6,
   "metadata": {},
   "outputs": [
    {
     "name": "stdout",
     "output_type": "stream",
     "text": [
      "hello, vahid!\n"
     ]
    }
   ],
   "source": [
    "def greet (name=\"vahid\"):\n",
    "    print(f\"hello, {name}!\")\n",
    "greet()"
   ]
  },
  {
   "cell_type": "code",
   "execution_count": 6,
   "metadata": {},
   "outputs": [
    {
     "data": {
      "text/plain": [
       "25"
      ]
     },
     "execution_count": 6,
     "metadata": {},
     "output_type": "execute_result"
    }
   ],
   "source": [
    "def add (a,b=22):\n",
    "    return a+b\n",
    "result=add(3)\n",
    "result"
   ]
  },
  {
   "cell_type": "code",
   "execution_count": 10,
   "metadata": {},
   "outputs": [
    {
     "name": "stdout",
     "output_type": "stream",
     "text": [
      "8\n"
     ]
    }
   ],
   "source": [
    "def add (a,b):\n",
    "    result=a+b\n",
    "    return result\n",
    "result=add\n",
    "answer = result(3,5)\n",
    "print (answer)"
   ]
  },
  {
   "cell_type": "markdown",
   "metadata": {},
   "source": [
    "# docstrings"
   ]
  },
  {
   "cell_type": "code",
   "execution_count": 7,
   "metadata": {},
   "outputs": [
    {
     "data": {
      "text/plain": [
       "10"
      ]
     },
     "execution_count": 7,
     "metadata": {},
     "output_type": "execute_result"
    }
   ],
   "source": [
    "def add (a,b):\n",
    "    return a + b\n",
    "result=add(4,6)\n",
    "result"
   ]
  },
  {
   "cell_type": "markdown",
   "metadata": {},
   "source": [
    "# variable scope"
   ]
  },
  {
   "cell_type": "code",
   "execution_count": 8,
   "metadata": {},
   "outputs": [
    {
     "name": "stdout",
     "output_type": "stream",
     "text": [
      "15\n"
     ]
    }
   ],
   "source": [
    "global_var = 10\n",
    "def some_function():\n",
    "    local_var = 5\n",
    "    print(global_var+local_var)\n",
    "some_function()"
   ]
  },
  {
   "cell_type": "markdown",
   "metadata": {},
   "source": [
    "# rescursion"
   ]
  },
  {
   "cell_type": "code",
   "execution_count": 2,
   "metadata": {},
   "outputs": [
    {
     "data": {
      "text/plain": [
       "720"
      ]
     },
     "execution_count": 2,
     "metadata": {},
     "output_type": "execute_result"
    }
   ],
   "source": [
    "def factorial(n):\n",
    "    if n == 0:\n",
    "        return 1\n",
    "    else:\n",
    "        return n * factorial(n-1)\n",
    "factorial(6)"
   ]
  },
  {
   "cell_type": "markdown",
   "metadata": {},
   "source": [
    "با گذاشتن یک ستاره قبل آرگومان هر تعداد داده که تعریف شده باشه رو به عنوان یک تاپل درست می کنه"
   ]
  },
  {
   "cell_type": "code",
   "execution_count": 8,
   "metadata": {},
   "outputs": [
    {
     "name": "stdout",
     "output_type": "stream",
     "text": [
      "i`m like pizza\n",
      "i`m like pasta\n",
      "i`m like hamburger\n"
     ]
    }
   ],
   "source": [
    "def show_foods(*foods):\n",
    "    for f in foods:\n",
    "        print(f\"i`m like {f}\")\n",
    "        \n",
    "show_foods(\"pizza\",\"pasta\",\"hamburger\")"
   ]
  },
  {
   "cell_type": "markdown",
   "metadata": {},
   "source": [
    "با گذاشتن دو تا ستاره مقادیر داخل هر متغیر تعریف شده رو بازخوانی می کنه"
   ]
  },
  {
   "cell_type": "code",
   "execution_count": 9,
   "metadata": {},
   "outputs": [
    {
     "name": "stdout",
     "output_type": "stream",
     "text": [
      "my name is vahid, i`m 36 years old , my job is programmer\n"
     ]
    }
   ],
   "source": [
    "def show_myself(**data):\n",
    "    print(f\"my name is {data['name']}, i`m {data['age']} years old , my job is {data['job']}\")\n",
    "show_myself(name=\"vahid\",age=36,job=\"programmer\")\n",
    "    \n",
    "    "
   ]
  },
  {
   "cell_type": "markdown",
   "metadata": {},
   "source": [
    "### function decorators"
   ]
  },
  {
   "cell_type": "code",
   "execution_count": 1,
   "metadata": {},
   "outputs": [
    {
     "name": "stdout",
     "output_type": "stream",
     "text": [
      "something is happening before the function is called.\n",
      "hello!\n",
      "something is happening after the function is called.\n"
     ]
    }
   ],
   "source": [
    "def my_function(func):\n",
    "    def wrapper():\n",
    "        print(\"something is happening before the function is called.\")\n",
    "        func()\n",
    "        print(\"something is happening after the function is called.\")\n",
    "    return wrapper\n",
    "@my_function\n",
    "def say_hello():\n",
    "    print(\"hello!\")\n",
    "say_hello()"
   ]
  }
 ],
 "metadata": {
  "kernelspec": {
   "display_name": "venvall",
   "language": "python",
   "name": "python3"
  },
  "language_info": {
   "codemirror_mode": {
    "name": "ipython",
    "version": 3
   },
   "file_extension": ".py",
   "mimetype": "text/x-python",
   "name": "python",
   "nbconvert_exporter": "python",
   "pygments_lexer": "ipython3",
   "version": "3.12.3"
  }
 },
 "nbformat": 4,
 "nbformat_minor": 2
}
