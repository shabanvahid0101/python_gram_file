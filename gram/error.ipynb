{
 "cells": [
  {
   "cell_type": "markdown",
   "metadata": {},
   "source": [
    "# تعریف خطاها به برنامه"
   ]
  },
  {
   "cell_type": "markdown",
   "metadata": {},
   "source": [
    "BaseException\n",
    "والد همه کلاسهای استثنای داخلی\n",
    "\n",
    "Exception\n",
    "والد برای استثناهای داخلی غیر از خاتمه سیستم\n",
    "\n",
    "OSError\n",
    "استثنا در مورد خطاهای مربوط به سیستم\n",
    "\n",
    "SyntaxError\n",
    "زمانی که یک خطای نحوی پایتون رخ دهد\n",
    "\n",
    "IndentationError\n",
    "وقتی تو رفتگی ها رعایت نشده باشه\n",
    "\n",
    "ImportError\n",
    "موقع وارد کردن یک ماژول با عبارت import\n",
    "\n",
    "IndexErro\n",
    "شاخص خارج از محدوده به ترتیب تعیین نشده باشه\n",
    "\n",
    "KeyError\n",
    "خطای کلید تعریف نشده\n",
    "\n",
    "NameError\n",
    "خطای تعیین نشدن متغیر\n",
    "\n",
    "ValueError\n",
    "عملگر یا تابع مقداری را که دریافت میکند مناسب نیست\n",
    "\n",
    "ZeroDivisionError\n",
    "تلاش برای تقسیم بر صفر ناموفق باشه\n",
    "\n",
    "AttributeError\n",
    "اختصاص یا بازیابی ویژگی های شیء"
   ]
  },
  {
   "cell_type": "markdown",
   "metadata": {},
   "source": [
    "# مدیریت خطا"
   ]
  },
  {
   "cell_type": "code",
   "execution_count": null,
   "metadata": {},
   "outputs": [],
   "source": [
    "try:\n",
    "    pass\n",
    "except:\n",
    "    pass"
   ]
  },
  {
   "cell_type": "markdown",
   "metadata": {},
   "source": [
    "پیدا نکردن متغیر"
   ]
  },
  {
   "cell_type": "code",
   "execution_count": 1,
   "metadata": {},
   "outputs": [
    {
     "name": "stdout",
     "output_type": "stream",
     "text": [
      "Error: متغیر تعریف نشده\n"
     ]
    }
   ],
   "source": [
    "try:\n",
    "    print(d)\n",
    "except NameError:\n",
    "    print(\"Error: متغیر تعریف نشده\")"
   ]
  },
  {
   "cell_type": "code",
   "execution_count": 2,
   "metadata": {},
   "outputs": [
    {
     "name": "stdout",
     "output_type": "stream",
     "text": [
      "10\n",
      "متغیر تعریف شده\n"
     ]
    }
   ],
   "source": [
    "a=10\n",
    "try:\n",
    "    print(a)\n",
    "except NameError:\n",
    "    print(\"متغیر تعریف نشده\")\n",
    "else:\n",
    "    print(\"متغیر تعریف شده\")"
   ]
  },
  {
   "cell_type": "markdown",
   "metadata": {},
   "source": [
    "اضافه کردن یک چیز به پایان برنامه در هر صورت"
   ]
  },
  {
   "cell_type": "code",
   "execution_count": 4,
   "metadata": {},
   "outputs": [
    {
     "name": "stdout",
     "output_type": "stream",
     "text": [
      "کلیدی که وجود ندارد رو وارد کردید\n",
      "برنامه تمام شد\n"
     ]
    }
   ],
   "source": [
    "person = {\n",
    "    \"name\" : \"Bob\",\n",
    "    \"age\" : 15,\n",
    "}\n",
    "try:\n",
    "    print(person[\"hobby\"])\n",
    "except KeyError:\n",
    "    print(\"کلیدی که وجود ندارد رو وارد کردید\")\n",
    "else:\n",
    "    print(\"کلیدی که وجود دارد\")\n",
    "finally:\n",
    "    print(\"برنامه تمام شد\")  "
   ]
  },
  {
   "cell_type": "markdown",
   "metadata": {},
   "source": [
    "نمایش خطا با کلمه وارد شده"
   ]
  },
  {
   "cell_type": "code",
   "execution_count": 5,
   "metadata": {},
   "outputs": [
    {
     "name": "stdout",
     "output_type": "stream",
     "text": [
      "کلیدی که وارد کردید وجود ندارد 'hobby'\n",
      "برنامه تمام شد\n"
     ]
    }
   ],
   "source": [
    "person = {\n",
    "    \"name\" : \"Bob\",\n",
    "    \"age\" : 15,\n",
    "}\n",
    "\n",
    "\n",
    "try:\n",
    "    print(person[\"hobby\"])\n",
    "except KeyError as e:\n",
    "    print(\"کلیدی که وارد کردید وجود ندارد \"+str(e))\n",
    "else:\n",
    "    print(\"کلیدی که وارد کردید وجود دارد\")\n",
    "finally:\n",
    "    print(\"برنامه تمام شد\")"
   ]
  },
  {
   "cell_type": "markdown",
   "metadata": {},
   "source": [
    "چک کردن همزمان نوع خطا"
   ]
  },
  {
   "cell_type": "code",
   "execution_count": 7,
   "metadata": {},
   "outputs": [
    {
     "name": "stdout",
     "output_type": "stream",
     "text": [
      "متغیر که وجود ندارد وارد کردیدname 'l' is not defined\n"
     ]
    }
   ],
   "source": [
    "try:\n",
    "    print(l)\n",
    "except KeyError as e:\n",
    "    print(\"کلیدی که وجود ندارد وارد کردید\"+ str(e))\n",
    "except NameError as e:\n",
    "    print(\"متغیر که وجود ندارد وارد کردید\"+ str(e))\n",
    "    \n",
    "else:\n",
    "    print(\"هیچ خطایی وجود ندارد\")\n",
    "    "
   ]
  },
  {
   "cell_type": "code",
   "execution_count": 9,
   "metadata": {},
   "outputs": [
    {
     "name": "stdout",
     "output_type": "stream",
     "text": [
      "خطای استثنایی رخ داده :name 's' is not defined\n"
     ]
    }
   ],
   "source": [
    "try:\n",
    "    print(s)\n",
    "except (KeyError,NameError) as e:\n",
    "    print(\"خطای استثنایی رخ داده :\" + str(e))\n",
    "else:\n",
    "    print(\"پردازش درست است\")\n",
    "    "
   ]
  },
  {
   "cell_type": "markdown",
   "metadata": {},
   "source": [
    "شرح استثنا"
   ]
  },
  {
   "cell_type": "code",
   "execution_count": 10,
   "metadata": {},
   "outputs": [
    {
     "name": "stdout",
     "output_type": "stream",
     "text": [
      "An error occurred: You are not an adult\n"
     ]
    }
   ],
   "source": [
    "age=15\n",
    "try:\n",
    "    if age<18:\n",
    "        raise Exception(\"You are not an adult\")\n",
    "except Exception as e:\n",
    "    print(f\"An error occurred: {e}\")\n",
    "else:\n",
    "    print(\"You are an adult\")\n"
   ]
  },
  {
   "cell_type": "markdown",
   "metadata": {},
   "source": [
    "ایجاد یک کلاس استثنای"
   ]
  },
  {
   "cell_type": "code",
   "execution_count": 13,
   "metadata": {},
   "outputs": [
    {
     "name": "stdout",
     "output_type": "stream",
     "text": [
      "یک استثنا رخ داد: خطای myerror رخ داده\n"
     ]
    }
   ],
   "source": [
    "class MyError(Exception):\n",
    "    pass\n",
    "name=\"john\"\n",
    "\n",
    "try:\n",
    "    if name != \"bob\":\n",
    "        raise MyError(\" خطای myerror رخ داده\")\n",
    "except MyError as e:\n",
    "    print( \"یک استثنا رخ داد:\"+str(e))"
   ]
  },
  {
   "cell_type": "code",
   "execution_count": 16,
   "metadata": {},
   "outputs": [
    {
     "name": "stdout",
     "output_type": "stream",
     "text": [
      "یک استثنا رخ داد:division by zero\n"
     ]
    }
   ],
   "source": [
    "try:\n",
    "    print( 5 / 0 )\n",
    "except ZeroDivisionError as e:\n",
    "    print(f\"یک استثنا رخ داد:{e}\")"
   ]
  }
 ],
 "metadata": {
  "kernelspec": {
   "display_name": "venvall",
   "language": "python",
   "name": "python3"
  },
  "language_info": {
   "codemirror_mode": {
    "name": "ipython",
    "version": 3
   },
   "file_extension": ".py",
   "mimetype": "text/x-python",
   "name": "python",
   "nbconvert_exporter": "python",
   "pygments_lexer": "ipython3",
   "version": "3.12.3"
  }
 },
 "nbformat": 4,
 "nbformat_minor": 2
}
