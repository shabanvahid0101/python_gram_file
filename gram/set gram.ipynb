{
 "cells": [
  {
   "cell_type": "markdown",
   "metadata": {},
   "source": [
    "# Set"
   ]
  },
  {
   "cell_type": "markdown",
   "metadata": {},
   "source": [
    "# تعریف"
   ]
  },
  {
   "cell_type": "code",
   "execution_count": 1,
   "metadata": {},
   "outputs": [
    {
     "name": "stdout",
     "output_type": "stream",
     "text": [
      "{'Tokyo', 'London', 'Miami'}\n",
      "{'Madrid', 'Rome', 'Paris'}\n"
     ]
    }
   ],
   "source": [
    "\n",
    "city1 = {\"Tokyo\",\"Miami\",\"London\"}\n",
    "\n",
    "print(city1)\n",
    "\n",
    "\n",
    "city2 = set([\"Paris\",\"Madrid\",\"Rome\"])\n",
    "\n",
    "print(city2)"
   ]
  },
  {
   "cell_type": "code",
   "execution_count": 2,
   "metadata": {},
   "outputs": [
    {
     "name": "stdout",
     "output_type": "stream",
     "text": [
      "set()\n"
     ]
    }
   ],
   "source": [
    "city = set()\n",
    "\n",
    "print(city)"
   ]
  },
  {
   "cell_type": "markdown",
   "metadata": {},
   "source": [
    "# تبدیل دیکشنری به ست"
   ]
  },
  {
   "cell_type": "code",
   "execution_count": 3,
   "metadata": {},
   "outputs": [
    {
     "name": "stdout",
     "output_type": "stream",
     "text": [
      "{'Tokyo', 'London', 'Miami'}\n",
      "{'Tokyo', 'London', 'Miami'}\n"
     ]
    }
   ],
   "source": [
    "\n",
    "city1 = {\"Tokyo\",\"Miami\",\"London\"}\n",
    "\n",
    "print(city1)\n",
    "\n",
    "\n",
    "city2 = set(city1)\n",
    "\n",
    "print(city2)\n",
    "\n"
   ]
  },
  {
   "cell_type": "markdown",
   "metadata": {},
   "source": [
    "# اضافه کردن عنصر به ست ها\n",
    "\n",
    "تو ست ها تکراری باشه اضافه نمیشه رو قبلی میفته"
   ]
  },
  {
   "cell_type": "code",
   "execution_count": 5,
   "metadata": {},
   "outputs": [
    {
     "name": "stdout",
     "output_type": "stream",
     "text": [
      "{'Tokyo', 'London', 'Miami'}\n",
      "{'Tokyo', 'London', 'Miami', 'Paris'}\n",
      "{'Tokyo', 'London', 'Miami', 'Paris'}\n"
     ]
    }
   ],
   "source": [
    "\n",
    "city = {\"Tokyo\",\"Miami\",\"London\"}\n",
    "\n",
    "print(city)\n",
    "\n",
    "\n",
    "city.add(\"Paris\")\n",
    "\n",
    "print(city)\n",
    "\n",
    "\n",
    "city.add(\"Tokyo\")\n",
    "\n",
    "print(city)"
   ]
  },
  {
   "cell_type": "markdown",
   "metadata": {},
   "source": [
    "# دو متغیر داده هایش مخلوط بشه\n",
    "\n",
    "union"
   ]
  },
  {
   "cell_type": "code",
   "execution_count": 7,
   "metadata": {},
   "outputs": [
    {
     "name": "stdout",
     "output_type": "stream",
     "text": [
      "{'Tokyo', 'London', 'New York'}\n",
      "{'Tokyo', 'London', 'Madrid', 'Paris'}\n",
      "{'Paris', 'New York', 'Tokyo', 'London', 'Madrid'}\n"
     ]
    }
   ],
   "source": [
    "\n",
    "city1 = {\"Tokyo\",\"New York\",\"London\"}\n",
    "\n",
    "print(city1)\n",
    "\n",
    "\n",
    "city2 = {\"Paris\",\"Tokyo\",\"Madrid\",\"London\"}\n",
    "\n",
    "print(city2)\n",
    "\n",
    "\n",
    "city3 = city1.union(city2)\n",
    "\n",
    "print(city3)\n",
    "\n"
   ]
  },
  {
   "cell_type": "markdown",
   "metadata": {},
   "source": [
    "# حذف کردن از ست ها\n",
    "\n",
    "remove\n",
    "\n",
    "اگر که وجود نداشته باشه عنصر خطا میده برنامه"
   ]
  },
  {
   "cell_type": "code",
   "execution_count": 6,
   "metadata": {},
   "outputs": [
    {
     "name": "stdout",
     "output_type": "stream",
     "text": [
      "{'Tokyo', 'London', 'Miami'}\n",
      "{'London', 'Miami'}\n"
     ]
    },
    {
     "ename": "KeyError",
     "evalue": "'Tokyo'",
     "output_type": "error",
     "traceback": [
      "\u001b[1;31m---------------------------------------------------------------------------\u001b[0m",
      "\u001b[1;31mKeyError\u001b[0m                                  Traceback (most recent call last)",
      "Cell \u001b[1;32mIn[6], line 13\u001b[0m\n\u001b[0;32m      8\u001b[0m \u001b[38;5;28mprint\u001b[39m(city)\n\u001b[0;32m     11\u001b[0m \u001b[38;5;66;03m# 存在しない要素の削除はエラー\u001b[39;00m\n\u001b[1;32m---> 13\u001b[0m \u001b[43mcity\u001b[49m\u001b[38;5;241;43m.\u001b[39;49m\u001b[43mremove\u001b[49m\u001b[43m(\u001b[49m\u001b[38;5;124;43m\"\u001b[39;49m\u001b[38;5;124;43mTokyo\u001b[39;49m\u001b[38;5;124;43m\"\u001b[39;49m\u001b[43m)\u001b[49m\n",
      "\u001b[1;31mKeyError\u001b[0m: 'Tokyo'"
     ]
    }
   ],
   "source": [
    "city = {\"Tokyo\",\"Miami\",\"London\"}\n",
    "\n",
    "print(city)\n",
    "\n",
    "\n",
    "city.remove(\"Tokyo\")\n",
    "\n",
    "print(city)\n",
    "\n",
    "city.remove(\"Tokyo\")"
   ]
  },
  {
   "cell_type": "markdown",
   "metadata": {},
   "source": [
    "# عناصر مشترک در دو متغیر\n",
    "\n",
    "‌intersection"
   ]
  },
  {
   "cell_type": "code",
   "execution_count": 8,
   "metadata": {},
   "outputs": [
    {
     "name": "stdout",
     "output_type": "stream",
     "text": [
      "{'Tokyo', 'London', 'New York'}\n",
      "{'Tokyo', 'London', 'Madrid', 'Paris'}\n",
      "{'Tokyo', 'London'}\n"
     ]
    }
   ],
   "source": [
    "city1 = {\"Tokyo\",\"New York\",\"London\"}\n",
    "\n",
    "print(city1)\n",
    "\n",
    "\n",
    "city2 = {\"Paris\",\"Tokyo\",\"Madrid\",\"London\"}\n",
    "\n",
    "print(city2)\n",
    "\n",
    "\n",
    "city3 = city1.intersection(city2)\n",
    "\n",
    "print(city3)\n",
    "\n"
   ]
  },
  {
   "cell_type": "markdown",
   "metadata": {},
   "source": [
    "# پیدا کردن تفاوت عناصر بین متغیر ها\n",
    "\n",
    "difference"
   ]
  },
  {
   "cell_type": "code",
   "execution_count": 9,
   "metadata": {},
   "outputs": [
    {
     "name": "stdout",
     "output_type": "stream",
     "text": [
      "{'Tokyo', 'London', 'New York'}\n",
      "{'Tokyo', 'London', 'Madrid', 'Paris'}\n",
      "{'New York'}\n"
     ]
    }
   ],
   "source": [
    "city1 = {\"Tokyo\",\"New York\",\"London\"}\n",
    "\n",
    "print(city1)\n",
    "\n",
    "\n",
    "city2 = {\"Paris\",\"Tokyo\",\"Madrid\",\"London\"}\n",
    "\n",
    "print(city2)\n",
    "\n",
    "\n",
    "city3 = city1.difference(city2)\n",
    "\n",
    "print(city3)"
   ]
  },
  {
   "cell_type": "markdown",
   "metadata": {},
   "source": [
    "# تفاوت متقارن عناصر دو متغیر\n",
    "\n",
    "symmetric_difference"
   ]
  },
  {
   "cell_type": "code",
   "execution_count": 11,
   "metadata": {},
   "outputs": [
    {
     "name": "stdout",
     "output_type": "stream",
     "text": [
      "{'Tokyo', 'London', 'New York'}\n",
      "{'Tokyo', 'London', 'Madrid', 'Paris'}\n",
      "{'New York', 'Madrid', 'Paris'}\n"
     ]
    }
   ],
   "source": [
    "\n",
    "city1 = {\"Tokyo\",\"New York\",\"London\"}\n",
    "\n",
    "print(city1)\n",
    "\n",
    "\n",
    "city2 = {\"Paris\",\"Tokyo\",\"Madrid\",\"London\"}\n",
    "\n",
    "print(city2)\n",
    "\n",
    "\n",
    "city3 = city1.symmetric_difference(city2)\n",
    "\n",
    "print(city3)"
   ]
  }
 ],
 "metadata": {
  "kernelspec": {
   "display_name": "venvall",
   "language": "python",
   "name": "python3"
  },
  "language_info": {
   "codemirror_mode": {
    "name": "ipython",
    "version": 3
   },
   "file_extension": ".py",
   "mimetype": "text/x-python",
   "name": "python",
   "nbconvert_exporter": "python",
   "pygments_lexer": "ipython3",
   "version": "3.12.3"
  }
 },
 "nbformat": 4,
 "nbformat_minor": 2
}
