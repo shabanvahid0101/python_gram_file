{
 "cells": [
  {
   "cell_type": "markdown",
   "metadata": {},
   "source": [
    "# تبدیل برنامه های پایتون به exe"
   ]
  },
  {
   "cell_type": "markdown",
   "metadata": {},
   "source": [
    "install package\n",
    "pip install pyinstaller\n"
   ]
  },
  {
   "cell_type": "markdown",
   "metadata": {},
   "source": [
    "باید حتما داخل پوشه برنامه باشیم"
   ]
  },
  {
   "cell_type": "markdown",
   "metadata": {},
   "source": [
    "در صورتی که فایل پایتون حاوی عکس و فایل های دیگه ای باشه باید فایل exe رو در کنار اونها قرار بدیم\n",
    "\n",
    "--noconfirm\n",
    "\n",
    "--windowed\n",
    "\n",
    "--console\n"
   ]
  },
  {
   "cell_type": "markdown",
   "metadata": {},
   "source": [
    "pyinstaller --onefile pythonfile_name.py --windowed --console --noconfirm"
   ]
  },
  {
   "cell_type": "markdown",
   "metadata": {},
   "source": [
    "# روش دوم"
   ]
  },
  {
   "cell_type": "markdown",
   "metadata": {},
   "source": [
    "با برنامه"
   ]
  },
  {
   "cell_type": "markdown",
   "metadata": {},
   "source": [
    "pip install auto-py-to-exe\n"
   ]
  }
 ],
 "metadata": {
  "language_info": {
   "name": "python"
  }
 },
 "nbformat": 4,
 "nbformat_minor": 2
}
