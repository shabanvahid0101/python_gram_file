{
  "nbformat": 4,
  "nbformat_minor": 0,
  "metadata": {
    "colab": {
      "provenance": [],
      "gpuType": "T4",
      "authorship_tag": "ABX9TyNFmnO1yrxeT5ar/rPDhClI",
      "include_colab_link": true
    },
    "kernelspec": {
      "name": "python3",
      "display_name": "Python 3"
    },
    "language_info": {
      "name": "python"
    },
    "accelerator": "GPU"
  },
  "cells": [
    {
      "cell_type": "markdown",
      "metadata": {
        "id": "view-in-github",
        "colab_type": "text"
      },
      "source": [
        "<a href=\"https://colab.research.google.com/github/shabanvahid0101/python_gram_file/blob/main/tensor_flow.ipynb\" target=\"_parent\"><img src=\"https://colab.research.google.com/assets/colab-badge.svg\" alt=\"Open In Colab\"/></a>"
      ]
    },
    {
      "cell_type": "code",
      "execution_count": 1,
      "metadata": {
        "colab": {
          "base_uri": "https://localhost:8080/"
        },
        "id": "FUWo_Q68snL1",
        "outputId": "cf412cdc-3004-4b82-9105-e2b1eccc6a51"
      },
      "outputs": [
        {
          "output_type": "stream",
          "name": "stdout",
          "text": [
            "hello\n"
          ]
        }
      ],
      "source": [
        "print(\"hello\")"
      ]
    },
    {
      "cell_type": "code",
      "source": [
        "import tensorflow as tf\n",
        "print(tf.__version__)"
      ],
      "metadata": {
        "colab": {
          "base_uri": "https://localhost:8080/"
        },
        "id": "xq0yBSnjtEMa",
        "outputId": "63a7e399-368c-4df9-8b8e-97824be68c43"
      },
      "execution_count": 2,
      "outputs": [
        {
          "output_type": "stream",
          "name": "stdout",
          "text": [
            "2.17.1\n"
          ]
        }
      ]
    },
    {
      "cell_type": "code",
      "source": [
        "print(tf.test.gpu_device_name())"
      ],
      "metadata": {
        "colab": {
          "base_uri": "https://localhost:8080/"
        },
        "id": "Z3fkrtpotdWK",
        "outputId": "70e2e76f-5379-4a5c-dc77-547473a9063e"
      },
      "execution_count": 3,
      "outputs": [
        {
          "output_type": "stream",
          "name": "stdout",
          "text": [
            "/device:GPU:0\n"
          ]
        }
      ]
    },
    {
      "cell_type": "markdown",
      "source": [
        "# اعداد به صورت عادی شیپ ندارد"
      ],
      "metadata": {
        "id": "oeVBhIgZdnCn"
      }
    },
    {
      "cell_type": "code",
      "source": [
        "a=tf.constant(6)\n",
        "a"
      ],
      "metadata": {
        "colab": {
          "base_uri": "https://localhost:8080/"
        },
        "id": "uIi71ZWsdU33",
        "outputId": "dc382f81-57dd-47e5-8c5d-3f869fa44431"
      },
      "execution_count": 4,
      "outputs": [
        {
          "output_type": "execute_result",
          "data": {
            "text/plain": [
              "<tf.Tensor: shape=(), dtype=int32, numpy=6>"
            ]
          },
          "metadata": {},
          "execution_count": 4
        }
      ]
    },
    {
      "cell_type": "markdown",
      "source": [
        "# یک سطری"
      ],
      "metadata": {
        "id": "2vtpMAg5eAH8"
      }
    },
    {
      "cell_type": "code",
      "source": [
        "b=tf.constant([1,2,3,4,5,6])\n",
        "b"
      ],
      "metadata": {
        "colab": {
          "base_uri": "https://localhost:8080/"
        },
        "id": "IZYUCn4Ndwjm",
        "outputId": "710afbe3-4f85-4979-a1b7-899115fa505b"
      },
      "execution_count": 5,
      "outputs": [
        {
          "output_type": "execute_result",
          "data": {
            "text/plain": [
              "<tf.Tensor: shape=(6,), dtype=int32, numpy=array([1, 2, 3, 4, 5, 6], dtype=int32)>"
            ]
          },
          "metadata": {},
          "execution_count": 5
        }
      ]
    },
    {
      "cell_type": "markdown",
      "source": [],
      "metadata": {
        "id": "VrtJYDAdd7ss"
      }
    },
    {
      "cell_type": "markdown",
      "source": [
        "#ماتریس 2 سطری"
      ],
      "metadata": {
        "id": "JnsCWJ2we76A"
      }
    },
    {
      "cell_type": "code",
      "source": [
        "c=tf.constant([[1,2,3],[1,2,3]])\n",
        "c"
      ],
      "metadata": {
        "colab": {
          "base_uri": "https://localhost:8080/"
        },
        "id": "OlGp-bIPd9Zy",
        "outputId": "576475f9-4f31-47d5-d0a4-04239c94d682"
      },
      "execution_count": 6,
      "outputs": [
        {
          "output_type": "execute_result",
          "data": {
            "text/plain": [
              "<tf.Tensor: shape=(2, 3), dtype=int32, numpy=\n",
              "array([[1, 2, 3],\n",
              "       [1, 2, 3]], dtype=int32)>"
            ]
          },
          "metadata": {},
          "execution_count": 6
        }
      ]
    },
    {
      "cell_type": "markdown",
      "source": [
        "# وقتی از دو بعد بیشتر باشد تنسور فلو میشود"
      ],
      "metadata": {
        "id": "HrTMNn4Ee5Hc"
      }
    },
    {
      "cell_type": "code",
      "source": [
        "d=tf.constant([[[1,2,3],[2,3,5]],[[1,2,3],[2,3,5]]])\n",
        "d"
      ],
      "metadata": {
        "colab": {
          "base_uri": "https://localhost:8080/"
        },
        "id": "0PHV2GPYd3My",
        "outputId": "13b60736-d421-45b6-fb48-baa289411ecd"
      },
      "execution_count": 7,
      "outputs": [
        {
          "output_type": "execute_result",
          "data": {
            "text/plain": [
              "<tf.Tensor: shape=(2, 2, 3), dtype=int32, numpy=\n",
              "array([[[1, 2, 3],\n",
              "        [2, 3, 5]],\n",
              "\n",
              "       [[1, 2, 3],\n",
              "        [2, 3, 5]]], dtype=int32)>"
            ]
          },
          "metadata": {},
          "execution_count": 7
        }
      ]
    },
    {
      "cell_type": "markdown",
      "source": [
        "# انجام عملیات ریاضی در تنسور فلو"
      ],
      "metadata": {
        "id": "ZGd42ojhgEqM"
      }
    },
    {
      "cell_type": "markdown",
      "source": [
        "# عمل جمع"
      ],
      "metadata": {
        "id": "uvU2P3GKhd-d"
      }
    },
    {
      "cell_type": "code",
      "source": [
        "a_1=tf.constant([1,2,3])\n",
        "a_2=tf.constant([3,4,6])\n",
        "sum_a=tf.add(a_1,a_2)\n",
        "sum_a"
      ],
      "metadata": {
        "colab": {
          "base_uri": "https://localhost:8080/"
        },
        "id": "zqcA4x1Ye0Sy",
        "outputId": "2622684f-4fea-494d-ad61-011a75584053"
      },
      "execution_count": 8,
      "outputs": [
        {
          "output_type": "execute_result",
          "data": {
            "text/plain": [
              "<tf.Tensor: shape=(3,), dtype=int32, numpy=array([4, 6, 9], dtype=int32)>"
            ]
          },
          "metadata": {},
          "execution_count": 8
        }
      ]
    },
    {
      "cell_type": "markdown",
      "source": [
        "# عمل تفریق"
      ],
      "metadata": {
        "id": "WX-thDoYhiWC"
      }
    },
    {
      "cell_type": "code",
      "source": [
        "sub_a=tf.subtract(a_1,a_2)\n",
        "sub_a"
      ],
      "metadata": {
        "colab": {
          "base_uri": "https://localhost:8080/"
        },
        "id": "TbWxGm5ngzfV",
        "outputId": "a66f7eaa-1e19-4510-a352-437b4939d4a1"
      },
      "execution_count": 9,
      "outputs": [
        {
          "output_type": "execute_result",
          "data": {
            "text/plain": [
              "<tf.Tensor: shape=(3,), dtype=int32, numpy=array([-2, -2, -3], dtype=int32)>"
            ]
          },
          "metadata": {},
          "execution_count": 9
        }
      ]
    },
    {
      "cell_type": "markdown",
      "source": [
        "# عمل ضرب المان به المان"
      ],
      "metadata": {
        "id": "rI_WkiXphmRA"
      }
    },
    {
      "cell_type": "code",
      "source": [
        "aa_1=tf.constant([[1,5],[1,6]])\n",
        "aa_2=tf.constant([[1,2],[1,25]])\n",
        "element_wize=tf.multiply(aa_1,aa_2)\n",
        "element_wize"
      ],
      "metadata": {
        "colab": {
          "base_uri": "https://localhost:8080/"
        },
        "id": "tDFlgSeGhXbo",
        "outputId": "55542ff2-67eb-4169-9a23-efd0f3b5d11d"
      },
      "execution_count": 10,
      "outputs": [
        {
          "output_type": "execute_result",
          "data": {
            "text/plain": [
              "<tf.Tensor: shape=(2, 2), dtype=int32, numpy=\n",
              "array([[  1,  10],\n",
              "       [  1, 150]], dtype=int32)>"
            ]
          },
          "metadata": {},
          "execution_count": 10
        }
      ]
    },
    {
      "cell_type": "markdown",
      "source": [
        "# عمل ضرب ماتریسی"
      ],
      "metadata": {
        "id": "dVArgh2Lhqb2"
      }
    },
    {
      "cell_type": "code",
      "source": [
        "mm=tf.matmul(aa_1,aa_2)\n",
        "mm"
      ],
      "metadata": {
        "colab": {
          "base_uri": "https://localhost:8080/"
        },
        "id": "tlMMEBWYht3K",
        "outputId": "88f9bc50-d0f0-4f19-8343-860b7066a8e5"
      },
      "execution_count": 11,
      "outputs": [
        {
          "output_type": "execute_result",
          "data": {
            "text/plain": [
              "<tf.Tensor: shape=(2, 2), dtype=int32, numpy=\n",
              "array([[  6, 127],\n",
              "       [  7, 152]], dtype=int32)>"
            ]
          },
          "metadata": {},
          "execution_count": 11
        }
      ]
    },
    {
      "cell_type": "markdown",
      "source": [
        "broadcasting\n",
        "\n",
        "در اینجا تنسور فلو خودش عدد رو به صورت برداری به اندازه داده های متغیر دیگر تنظیم می کند به طوریکه هر عددی است رو در همه ایندکس ها در نظر می گیرد و ضرب در متغیر دیگری می کند"
      ],
      "metadata": {
        "id": "MQEH_fg8op9t"
      }
    },
    {
      "cell_type": "code",
      "source": [
        "bc_1=tf.constant([1,2,3])\n",
        "bc_2=tf.constant(5)\n",
        "bc_n=bc_1*bc_2\n",
        "bc_n"
      ],
      "metadata": {
        "colab": {
          "base_uri": "https://localhost:8080/"
        },
        "id": "8tiH6IyGoxB4",
        "outputId": "7283fc70-8e7f-4c5b-80df-454572779073"
      },
      "execution_count": 12,
      "outputs": [
        {
          "output_type": "execute_result",
          "data": {
            "text/plain": [
              "<tf.Tensor: shape=(3,), dtype=int32, numpy=array([ 5, 10, 15], dtype=int32)>"
            ]
          },
          "metadata": {},
          "execution_count": 12
        }
      ]
    },
    {
      "cell_type": "markdown",
      "source": [
        "# عمل تقسیم"
      ],
      "metadata": {
        "id": "K0LLahmhngWu"
      }
    },
    {
      "cell_type": "code",
      "source": [
        "div=tf.divide(aa_1,aa_2)\n",
        "div\n"
      ],
      "metadata": {
        "colab": {
          "base_uri": "https://localhost:8080/"
        },
        "id": "fmg1AQ7EjMPD",
        "outputId": "7c54ec21-14f7-4bdf-99c1-53c9b3b54d83"
      },
      "execution_count": 13,
      "outputs": [
        {
          "output_type": "execute_result",
          "data": {
            "text/plain": [
              "<tf.Tensor: shape=(2, 2), dtype=float64, numpy=\n",
              "array([[1.  , 2.5 ],\n",
              "       [1.  , 0.24]])>"
            ]
          },
          "metadata": {},
          "execution_count": 13
        }
      ]
    },
    {
      "cell_type": "markdown",
      "source": [
        "وقتی در خروجی inf آمد یعنی بی نهایت\n",
        "\n",
        "فقط در صورتی قابل تقسیم هستند که با هم از نظر برداری برابر باشن\n",
        "\n"
      ],
      "metadata": {
        "id": "hNYBGQKnoErz"
      }
    },
    {
      "cell_type": "markdown",
      "source": [
        "# square\n",
        "به توان 2 رسوندن"
      ],
      "metadata": {
        "id": "7_PLgBotryNX"
      }
    },
    {
      "cell_type": "code",
      "source": [
        "square_a=tf.constant([4,3,6,9,2])\n",
        "squared_a=tf.square(square_a)\n",
        "squared_a"
      ],
      "metadata": {
        "colab": {
          "base_uri": "https://localhost:8080/"
        },
        "id": "rw9jPH0HrPVl",
        "outputId": "9cf4b882-bffd-482a-ec22-8de405ae66c2"
      },
      "execution_count": 14,
      "outputs": [
        {
          "output_type": "execute_result",
          "data": {
            "text/plain": [
              "<tf.Tensor: shape=(5,), dtype=int32, numpy=array([16,  9, 36, 81,  4], dtype=int32)>"
            ]
          },
          "metadata": {},
          "execution_count": 14
        }
      ]
    },
    {
      "cell_type": "markdown",
      "source": [
        "# sqrt\n",
        "\n",
        "جذر گرفتن\n",
        "\n",
        "در صورتی که خطا داد باید داده ها را به فلوت تغییر دهید\n",
        "\n",
        " هم می توان یکی از داده ها را اعشاری نوشت\n",
        "\n",
        " هم می توان از روش زیر برای تغییر داده ها به فلوت استفاده کرد"
      ],
      "metadata": {
        "id": "2LI4e6u1sd06"
      }
    },
    {
      "cell_type": "code",
      "source": [
        "# sqrt_a=tf.sqrt(square_a)\n",
        "from numpy import float32\n",
        "sqrt_a=tf.sqrt(tf.cast(square_a,dtype=float32))\n",
        "sqrt_a"
      ],
      "metadata": {
        "colab": {
          "base_uri": "https://localhost:8080/"
        },
        "id": "a2-AAJPcsIJw",
        "outputId": "96ee9cca-858c-4a4b-e389-f2936c8f352a"
      },
      "execution_count": 15,
      "outputs": [
        {
          "output_type": "execute_result",
          "data": {
            "text/plain": [
              "<tf.Tensor: shape=(5,), dtype=float32, numpy=\n",
              "array([2.       , 1.7320508, 2.4494896, 3.       , 1.4142135],\n",
              "      dtype=float32)>"
            ]
          },
          "metadata": {},
          "execution_count": 15
        }
      ]
    },
    {
      "cell_type": "markdown",
      "source": [
        "#reshape"
      ],
      "metadata": {
        "id": "vDVb5BFfq3UW"
      }
    },
    {
      "cell_type": "code",
      "source": [
        "shape_a=tf.constant([1,2,3,4,5,6])\n",
        "reshape_a=tf.reshape(shape_a,shape=(3,2))\n",
        "reshape_a.shape\n",
        "reshape_a"
      ],
      "metadata": {
        "colab": {
          "base_uri": "https://localhost:8080/"
        },
        "id": "-GlZDKNtnucQ",
        "outputId": "e45e0c4d-6a8f-46d9-ce72-10c7b30d44d5"
      },
      "execution_count": 16,
      "outputs": [
        {
          "output_type": "execute_result",
          "data": {
            "text/plain": [
              "<tf.Tensor: shape=(3, 2), dtype=int32, numpy=\n",
              "array([[1, 2],\n",
              "       [3, 4],\n",
              "       [5, 6]], dtype=int32)>"
            ]
          },
          "metadata": {},
          "execution_count": 16
        }
      ]
    },
    {
      "cell_type": "markdown",
      "source": [
        "# add dimention\n",
        "اضافه کردن یک بعد"
      ],
      "metadata": {
        "id": "6UQEXXijwnsH"
      }
    },
    {
      "cell_type": "code",
      "source": [
        "dim_a=tf.constant([1,2,3,4,5,6,7,8,9,0])\n",
        "dim_b0=tf.expand_dims(dim_a,0)\n",
        "dim_b0"
      ],
      "metadata": {
        "colab": {
          "base_uri": "https://localhost:8080/"
        },
        "id": "WzyXRQmvqu2f",
        "outputId": "4a0c7587-2717-4d50-c287-300f36a3319a"
      },
      "execution_count": 17,
      "outputs": [
        {
          "output_type": "execute_result",
          "data": {
            "text/plain": [
              "<tf.Tensor: shape=(1, 10), dtype=int32, numpy=array([[1, 2, 3, 4, 5, 6, 7, 8, 9, 0]], dtype=int32)>"
            ]
          },
          "metadata": {},
          "execution_count": 17
        }
      ]
    },
    {
      "cell_type": "code",
      "source": [
        "dim_b1=tf.expand_dims(dim_a,1)\n",
        "dim_b1"
      ],
      "metadata": {
        "colab": {
          "base_uri": "https://localhost:8080/"
        },
        "id": "O3WREa_tu8Nf",
        "outputId": "ee697cc0-63ca-469d-eb9e-ab7a67527a7c"
      },
      "execution_count": 18,
      "outputs": [
        {
          "output_type": "execute_result",
          "data": {
            "text/plain": [
              "<tf.Tensor: shape=(10, 1), dtype=int32, numpy=\n",
              "array([[1],\n",
              "       [2],\n",
              "       [3],\n",
              "       [4],\n",
              "       [5],\n",
              "       [6],\n",
              "       [7],\n",
              "       [8],\n",
              "       [9],\n",
              "       [0]], dtype=int32)>"
            ]
          },
          "metadata": {},
          "execution_count": 18
        }
      ]
    },
    {
      "cell_type": "code",
      "source": [
        "dim_b_1=tf.expand_dims(dim_a,-1)\n",
        "dim_b_1"
      ],
      "metadata": {
        "colab": {
          "base_uri": "https://localhost:8080/"
        },
        "id": "lXbhwIgXu_dO",
        "outputId": "31048d4a-f675-43d0-e65d-ea1d5835ec8f"
      },
      "execution_count": 19,
      "outputs": [
        {
          "output_type": "execute_result",
          "data": {
            "text/plain": [
              "<tf.Tensor: shape=(10, 1), dtype=int32, numpy=\n",
              "array([[1],\n",
              "       [2],\n",
              "       [3],\n",
              "       [4],\n",
              "       [5],\n",
              "       [6],\n",
              "       [7],\n",
              "       [8],\n",
              "       [9],\n",
              "       [0]], dtype=int32)>"
            ]
          },
          "metadata": {},
          "execution_count": 19
        }
      ]
    },
    {
      "cell_type": "markdown",
      "source": [
        "# بدست آوردن کمترین مقدار"
      ],
      "metadata": {
        "id": "4T5BBHcPBx18"
      }
    },
    {
      "cell_type": "code",
      "source": [
        "m_a=tf.constant([[1,4,7,8,99],[2,2,4,555,32]])\n",
        "min_a=tf.reduce_min(m_a)\n",
        "min_a.numpy()\n"
      ],
      "metadata": {
        "colab": {
          "base_uri": "https://localhost:8080/"
        },
        "id": "NZmJ8sJO9pnO",
        "outputId": "47507373-c851-44b9-ef9d-93256c2ec769"
      },
      "execution_count": 20,
      "outputs": [
        {
          "output_type": "execute_result",
          "data": {
            "text/plain": [
              "1"
            ]
          },
          "metadata": {},
          "execution_count": 20
        }
      ]
    },
    {
      "cell_type": "code",
      "source": [
        "max_a=tf.reduce_max(m_a)\n",
        "max_a.numpy()"
      ],
      "metadata": {
        "colab": {
          "base_uri": "https://localhost:8080/"
        },
        "id": "H83Qp3qPCCSN",
        "outputId": "2377eb76-53d9-48af-92a4-3aea5b58c8f6"
      },
      "execution_count": 21,
      "outputs": [
        {
          "output_type": "execute_result",
          "data": {
            "text/plain": [
              "555"
            ]
          },
          "metadata": {},
          "execution_count": 21
        }
      ]
    },
    {
      "cell_type": "code",
      "source": [
        "min_a0=tf.reduce_min(m_a,axis=0)\n",
        "min_a0.numpy()"
      ],
      "metadata": {
        "colab": {
          "base_uri": "https://localhost:8080/"
        },
        "id": "CkMTQwiM-RMD",
        "outputId": "f714a9ba-fafb-4f01-e26b-5105f145515e"
      },
      "execution_count": 22,
      "outputs": [
        {
          "output_type": "execute_result",
          "data": {
            "text/plain": [
              "array([ 1,  2,  4,  8, 32], dtype=int32)"
            ]
          },
          "metadata": {},
          "execution_count": 22
        }
      ]
    },
    {
      "cell_type": "code",
      "source": [
        "max_a0=tf.reduce_max(m_a,axis=0)\n",
        "max_a0.numpy()"
      ],
      "metadata": {
        "colab": {
          "base_uri": "https://localhost:8080/"
        },
        "id": "DQUVMZ-CCOBf",
        "outputId": "bd2dec0e-f0ac-4564-c52e-591829b6f882"
      },
      "execution_count": 23,
      "outputs": [
        {
          "output_type": "execute_result",
          "data": {
            "text/plain": [
              "array([  2,   4,   7, 555,  99], dtype=int32)"
            ]
          },
          "metadata": {},
          "execution_count": 23
        }
      ]
    },
    {
      "cell_type": "code",
      "source": [
        "min_a1=tf.reduce_min(m_a,axis=1)\n",
        "min_a1.numpy()"
      ],
      "metadata": {
        "colab": {
          "base_uri": "https://localhost:8080/"
        },
        "id": "9ARBkxPh-pyR",
        "outputId": "97ba2b3a-978e-4409-ddb3-6a563fe05ca5"
      },
      "execution_count": 24,
      "outputs": [
        {
          "output_type": "execute_result",
          "data": {
            "text/plain": [
              "array([1, 2], dtype=int32)"
            ]
          },
          "metadata": {},
          "execution_count": 24
        }
      ]
    },
    {
      "cell_type": "code",
      "source": [
        "max_a1=tf.reduce_max(m_a,axis=1)\n",
        "max_a1.numpy()"
      ],
      "metadata": {
        "colab": {
          "base_uri": "https://localhost:8080/"
        },
        "id": "qparFGOjCqAj",
        "outputId": "6657b25f-3b9a-4be0-e54f-ba3b1993b262"
      },
      "execution_count": 25,
      "outputs": [
        {
          "output_type": "execute_result",
          "data": {
            "text/plain": [
              "array([ 99, 555], dtype=int32)"
            ]
          },
          "metadata": {},
          "execution_count": 25
        }
      ]
    },
    {
      "cell_type": "markdown",
      "source": [
        "#　average\n",
        "\n",
        "بدست آوردن میانکین"
      ],
      "metadata": {
        "id": "AnUyrqLuBLtp"
      }
    },
    {
      "cell_type": "code",
      "source": [
        "mean_a=tf.reduce_mean(m_a)\n",
        "mean_a"
      ],
      "metadata": {
        "colab": {
          "base_uri": "https://localhost:8080/"
        },
        "id": "rSGxmrX6_w9O",
        "outputId": "d27212f1-0be6-4fec-ba1d-776c82fb430e"
      },
      "execution_count": 26,
      "outputs": [
        {
          "output_type": "execute_result",
          "data": {
            "text/plain": [
              "<tf.Tensor: shape=(), dtype=int32, numpy=71>"
            ]
          },
          "metadata": {},
          "execution_count": 26
        }
      ]
    },
    {
      "cell_type": "code",
      "source": [
        "m_a=tf.constant([[1,4,7,8,99],[2,2,4,555,32]],dtype=float32)\n",
        "mean_a=tf.reduce_mean(m_a)\n",
        "mean_a"
      ],
      "metadata": {
        "colab": {
          "base_uri": "https://localhost:8080/"
        },
        "id": "zNIkp0TnAD8K",
        "outputId": "1580454a-cd3e-4dbd-c765-eb20e7f222af"
      },
      "execution_count": 27,
      "outputs": [
        {
          "output_type": "execute_result",
          "data": {
            "text/plain": [
              "<tf.Tensor: shape=(), dtype=float32, numpy=71.4>"
            ]
          },
          "metadata": {},
          "execution_count": 27
        }
      ]
    },
    {
      "cell_type": "markdown",
      "source": [
        "# standard divition\n",
        "\n",
        "بدست آوردن واریانس ، انحراف از معیار"
      ],
      "metadata": {
        "id": "4IQKNbWiA9hF"
      }
    },
    {
      "cell_type": "code",
      "source": [
        "std_div=tf.math.reduce_std(m_a)\n",
        "std_div"
      ],
      "metadata": {
        "colab": {
          "base_uri": "https://localhost:8080/"
        },
        "id": "U_uzzQNOAf9k",
        "outputId": "372ddbcc-2e51-4e87-d9c0-683a7e6b60dc"
      },
      "execution_count": 28,
      "outputs": [
        {
          "output_type": "execute_result",
          "data": {
            "text/plain": [
              "<tf.Tensor: shape=(), dtype=float32, numpy=163.71451>"
            ]
          },
          "metadata": {},
          "execution_count": 28
        }
      ]
    },
    {
      "cell_type": "markdown",
      "source": [
        "جمع همه داده ها با هم"
      ],
      "metadata": {
        "id": "MNOj0bJADK0n"
      }
    },
    {
      "cell_type": "code",
      "source": [
        "sum_aa=tf.reduce_sum(m_a)\n",
        "sum_aa"
      ],
      "metadata": {
        "colab": {
          "base_uri": "https://localhost:8080/"
        },
        "id": "QbfzIZm9C6m8",
        "outputId": "a42823c6-5c3c-4a84-8b03-42e612223b9b"
      },
      "execution_count": 29,
      "outputs": [
        {
          "output_type": "execute_result",
          "data": {
            "text/plain": [
              "<tf.Tensor: shape=(), dtype=float32, numpy=714.0>"
            ]
          },
          "metadata": {},
          "execution_count": 29
        }
      ]
    },
    {
      "cell_type": "code",
      "source": [],
      "metadata": {
        "id": "rxRi2W7BDILs"
      },
      "execution_count": 29,
      "outputs": []
    }
  ]
}