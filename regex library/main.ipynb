{
 "cells": [
  {
   "cell_type": "markdown",
   "metadata": {},
   "source": [
    "\n",
    "برای تنظیم الگوی regex (عبارت منظم) به منظور استخراج کلمات ژاپنی، می‌توانید از محدوده‌های یونیکد استفاده کنید که شامل کاراکترهای هیرگانا، کاتاکانا و کانجی است. در زیر توضیحاتی درباره هر یک از این کاراکترها و نحوه تنظیم الگوی regex آورده شده است:\n",
    "\n",
    "کاراکترهای ژاپنی\n",
    "هیرگانا: کاراکترهای هیرگانا در محدوده \\u3040 تا \\u309F قرار دارند.\n",
    "کاتاکانا: کاراکترهای کاتاکانا در محدوده \\u30A0 تا \\u30FF قرار دارند.\n",
    "کانجی: کاراکترهای کانجی معمولاً در محدوده‌های مختلفی قرار دارند، اما می‌توانید از محدوده \\u4E00 تا \\u9FAF استفاده کنید که شامل بسیاری از کاراکترهای کانجی رایج است.\n"
   ]
  },
  {
   "cell_type": "code",
   "execution_count": 1,
   "metadata": {},
   "outputs": [],
   "source": [
    "import pandas as pd\n",
    "import re\n",
    "\n",
    "# Sample text from the website\n",
    "text = \"\"\"\n",
    "ITパスポート試験ドットコムは、ITパスポート試験合格を目指している方への情報提供や、短期合格へのサポートを目的としたサイトです。\n",
    "4/21 令和6年分の新問題が公開されました。\n",
    "新着情報\n",
    "...\n",
    "\"\"\"\n",
    "\n",
    "# Extract Japanese words using regex\n",
    "japanese_words = re.findall(r'[\\u4E00-\\u9FAF]+', text)\n",
    "\n",
    "# Create a DataFrame\n",
    "df = pd.DataFrame(japanese_words, columns=['Japanese Words'])\n",
    "\n",
    "# Save to Excel file\n",
    "df.to_excel('japanese_words.xlsx', index=False)"
   ]
  }
 ],
 "metadata": {
  "kernelspec": {
   "display_name": "venvall",
   "language": "python",
   "name": "python3"
  },
  "language_info": {
   "codemirror_mode": {
    "name": "ipython",
    "version": 3
   },
   "file_extension": ".py",
   "mimetype": "text/x-python",
   "name": "python",
   "nbconvert_exporter": "python",
   "pygments_lexer": "ipython3",
   "version": "3.12.3"
  }
 },
 "nbformat": 4,
 "nbformat_minor": 2
}
