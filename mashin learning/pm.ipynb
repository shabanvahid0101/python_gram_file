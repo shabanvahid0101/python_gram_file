{
 "cells": [
  {
   "cell_type": "markdown",
   "metadata": {},
   "source": [
    "ارزشیابی تشخیص مدل ساخته شده"
   ]
  },
  {
   "cell_type": "code",
   "execution_count": 13,
   "metadata": {},
   "outputs": [],
   "source": [
    "#natayej asli bimar\n",
    "y_true=[1,1,1,0,1,0,0,1,0,1]\n",
    "#natayej model\n",
    "y_pred=[1,1,1,0,1,0,1,1,0,1]"
   ]
  },
  {
   "cell_type": "markdown",
   "metadata": {},
   "source": [
    "نشون میده مدل چقدر خوب داره عمل میکنه\n",
    "\n",
    "تشخیص های درست رو با هم جمع میکنه تقسیم بر کل \n",
    "تشخیص ها می کنه"
   ]
  },
  {
   "cell_type": "code",
   "execution_count": 14,
   "metadata": {},
   "outputs": [
    {
     "data": {
      "text/plain": [
       "90.0"
      ]
     },
     "execution_count": 14,
     "metadata": {},
     "output_type": "execute_result"
    }
   ],
   "source": [
    "from sklearn.metrics import accuracy_score\n",
    "acc=accuracy_score(y_true,y_pred)\n",
    "acc*100"
   ]
  },
  {
   "cell_type": "markdown",
   "metadata": {},
   "source": [
    "تمرکز اصلی روی درستی تشخیص های مثبتی که الگوریتم داده\n",
    "\n",
    "وقتی نمونه منفی باشه ولی مدل مثبت تشخیص داده باشه خطا رو محاسبه میکنه"
   ]
  },
  {
   "cell_type": "code",
   "execution_count": 15,
   "metadata": {},
   "outputs": [
    {
     "data": {
      "text/plain": [
       "np.float64(85.71428571428571)"
      ]
     },
     "execution_count": 15,
     "metadata": {},
     "output_type": "execute_result"
    }
   ],
   "source": [
    "from sklearn.metrics import precision_score\n",
    "pr=precision_score(y_true,y_pred)\n",
    "pr*100"
   ]
  },
  {
   "cell_type": "markdown",
   "metadata": {},
   "source": [
    "تمرکزش روی داده هایی است که واقعا درست بوده اند\n",
    "\n",
    "از بین نمونه هایی که واقعا مثبت بوده اند مدل ما چند درصدش رو درست تشخیص داده\n",
    "\n",
    "جایی که نمی خوایم تشخیص مثبت بودن یک چیز اشتباه از آب دربیاد\n",
    "\n",
    "وقتی نمونه اصلی مثبت باشه ولی مدل منفی نشون داده باشه خطا رو محاسبه میکنه"
   ]
  },
  {
   "cell_type": "code",
   "execution_count": 16,
   "metadata": {},
   "outputs": [
    {
     "data": {
      "text/plain": [
       "np.float64(100.0)"
      ]
     },
     "execution_count": 16,
     "metadata": {},
     "output_type": "execute_result"
    }
   ],
   "source": [
    "from sklearn.metrics import recall_score\n",
    "r=recall_score(y_true,y_pred)\n",
    "r*100"
   ]
  },
  {
   "cell_type": "code",
   "execution_count": null,
   "metadata": {},
   "outputs": [],
   "source": []
  }
 ],
 "metadata": {
  "kernelspec": {
   "display_name": "venvdatascience",
   "language": "python",
   "name": "python3"
  },
  "language_info": {
   "codemirror_mode": {
    "name": "ipython",
    "version": 3
   },
   "file_extension": ".py",
   "mimetype": "text/x-python",
   "name": "python",
   "nbconvert_exporter": "python",
   "pygments_lexer": "ipython3",
   "version": "3.12.3"
  }
 },
 "nbformat": 4,
 "nbformat_minor": 2
}
