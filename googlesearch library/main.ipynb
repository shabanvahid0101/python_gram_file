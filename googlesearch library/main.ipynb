{
 "cells": [
  {
   "cell_type": "code",
   "execution_count": 1,
   "metadata": {},
   "outputs": [
    {
     "name": "stdout",
     "output_type": "stream",
     "text": [
      "Requirement already satisfied: googlesearch-python in d:\\code\\venvall\\lib\\site-packages (1.2.5)\n",
      "Requirement already satisfied: beautifulsoup4>=4.9 in d:\\code\\venvall\\lib\\site-packages (from googlesearch-python) (4.12.3)\n",
      "Requirement already satisfied: requests>=2.20 in d:\\code\\venvall\\lib\\site-packages (from googlesearch-python) (2.32.3)\n",
      "Requirement already satisfied: soupsieve>1.2 in d:\\code\\venvall\\lib\\site-packages (from beautifulsoup4>=4.9->googlesearch-python) (2.6)\n",
      "Requirement already satisfied: charset-normalizer<4,>=2 in d:\\code\\venvall\\lib\\site-packages (from requests>=2.20->googlesearch-python) (3.3.2)\n",
      "Requirement already satisfied: idna<4,>=2.5 in d:\\code\\venvall\\lib\\site-packages (from requests>=2.20->googlesearch-python) (2.10)\n",
      "Requirement already satisfied: urllib3<3,>=1.21.1 in d:\\code\\venvall\\lib\\site-packages (from requests>=2.20->googlesearch-python) (2.2.3)\n",
      "Requirement already satisfied: certifi>=2017.4.17 in d:\\code\\venvall\\lib\\site-packages (from requests>=2.20->googlesearch-python) (2024.8.30)\n",
      "Note: you may need to restart the kernel to use updated packages.\n"
     ]
    }
   ],
   "source": [
    "%pip install googlesearch-python"
   ]
  },
  {
   "cell_type": "code",
   "execution_count": 2,
   "metadata": {},
   "outputs": [],
   "source": [
    "from googlesearch import search\n",
    "query = input(\"Enter your query: \")\n",
    "for j in search(query):\n",
    "    print(j)"
   ]
  },
  {
   "cell_type": "code",
   "execution_count": 3,
   "metadata": {},
   "outputs": [
    {
     "name": "stdout",
     "output_type": "stream",
     "text": [
      "vahidshaban\n"
     ]
    }
   ],
   "source": [
    "print(query)"
   ]
  }
 ],
 "metadata": {
  "kernelspec": {
   "display_name": "venvall",
   "language": "python",
   "name": "python3"
  },
  "language_info": {
   "codemirror_mode": {
    "name": "ipython",
    "version": 3
   },
   "file_extension": ".py",
   "mimetype": "text/x-python",
   "name": "python",
   "nbconvert_exporter": "python",
   "pygments_lexer": "ipython3",
   "version": "3.12.3"
  }
 },
 "nbformat": 4,
 "nbformat_minor": 2
}
