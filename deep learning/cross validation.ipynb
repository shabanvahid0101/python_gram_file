{
 "cells": [
  {
   "cell_type": "markdown",
   "metadata": {},
   "source": [
    "# Cross Validation"
   ]
  },
  {
   "cell_type": "markdown",
   "metadata": {},
   "source": [
    "## Create Dataset"
   ]
  },
  {
   "cell_type": "code",
   "execution_count": 230,
   "metadata": {},
   "outputs": [],
   "source": [
    "from sklearn.datasets import make_classification"
   ]
  },
  {
   "cell_type": "code",
   "execution_count": 231,
   "metadata": {},
   "outputs": [],
   "source": [
    "x,y=make_classification(n_samples=1000,n_features=10,n_informative=8,n_redundant=2,random_state=0,n_classes=2)"
   ]
  },
  {
   "cell_type": "code",
   "execution_count": 232,
   "metadata": {},
   "outputs": [
    {
     "data": {
      "text/plain": [
       "array([-2.70007573, -0.87222557, -0.53872433, -3.01017092, -0.90627004,\n",
       "        1.75009732, -4.05264094, -5.02082823,  1.81573586,  0.40544433])"
      ]
     },
     "execution_count": 232,
     "metadata": {},
     "output_type": "execute_result"
    }
   ],
   "source": [
    "x[22]"
   ]
  },
  {
   "cell_type": "code",
   "execution_count": 233,
   "metadata": {},
   "outputs": [
    {
     "data": {
      "text/plain": [
       "np.int64(1)"
      ]
     },
     "execution_count": 233,
     "metadata": {},
     "output_type": "execute_result"
    }
   ],
   "source": [
    "y[22]"
   ]
  },
  {
   "cell_type": "markdown",
   "metadata": {},
   "source": [
    "# Model Definition"
   ]
  },
  {
   "cell_type": "code",
   "execution_count": 234,
   "metadata": {},
   "outputs": [],
   "source": [
    "import tensorflow as tf\n",
    "from tensorflow import keras"
   ]
  },
  {
   "cell_type": "code",
   "execution_count": 235,
   "metadata": {},
   "outputs": [],
   "source": [
    "def create_model():\n",
    "    model = keras.Sequential()\n",
    "    model.add(keras.layers.Dense(units=32,activation='relu'))\n",
    "    model.add(keras.layers.Dense(units=1,activation='sigmoid'))\n",
    "    model.compile(optimizer=tf.optimizers.Adam(),loss=tf.losses.binary_crossentropy,metrics=[\"accuracy\"])\n",
    "    return model"
   ]
  },
  {
   "cell_type": "markdown",
   "metadata": {},
   "source": [
    "## Cross validation"
   ]
  },
  {
   "cell_type": "markdown",
   "metadata": {},
   "source": [
    "روش کار \n",
    "\n",
    "دیتاست رو به ترین تقسیم می کنیم \n",
    "کراس ولیدیشن میزنیم بهترین پارامترهارو انتخاب می کنیم \n",
    "مدل رو روی کل داده ترین ترین می کنیم بعد روی داده تست امتحان می کنیم\n"
   ]
  },
  {
   "cell_type": "markdown",
   "metadata": {},
   "source": [
    "kfold کردن دیتا\n",
    "\n",
    "shuffle یعنی هر دفعه بصورت راندوم انتخاب بکن از بین داده ها که فیکس نباشه"
   ]
  },
  {
   "cell_type": "code",
   "execution_count": 236,
   "metadata": {},
   "outputs": [],
   "source": [
    "n_split=5\n",
    "from sklearn.model_selection import StratifiedKFold\n",
    "from sklearn.metrics import accuracy_score\n",
    "\n",
    "kf = StratifiedKFold(n_splits=n_split,shuffle=True)\n"
   ]
  },
  {
   "cell_type": "code",
   "execution_count": 237,
   "metadata": {},
   "outputs": [
    {
     "name": "stdout",
     "output_type": "stream",
     "text": [
      "Epoch 1/20\n",
      "13/13 - 1s - 56ms/step - accuracy: 0.4863 - loss: 0.8850 - val_accuracy: 0.5750 - val_loss: 0.7980\n",
      "Epoch 2/20\n",
      "13/13 - 0s - 4ms/step - accuracy: 0.6050 - loss: 0.6982 - val_accuracy: 0.6650 - val_loss: 0.6419\n",
      "Epoch 3/20\n",
      "13/13 - 0s - 4ms/step - accuracy: 0.7188 - loss: 0.5706 - val_accuracy: 0.7500 - val_loss: 0.5388\n",
      "Epoch 4/20\n",
      "13/13 - 0s - 4ms/step - accuracy: 0.7800 - loss: 0.4838 - val_accuracy: 0.8000 - val_loss: 0.4718\n",
      "Epoch 5/20\n",
      "13/13 - 0s - 4ms/step - accuracy: 0.8263 - loss: 0.4264 - val_accuracy: 0.8350 - val_loss: 0.4258\n",
      "Epoch 6/20\n",
      "13/13 - 0s - 7ms/step - accuracy: 0.8525 - loss: 0.3865 - val_accuracy: 0.8600 - val_loss: 0.3897\n",
      "Epoch 7/20\n",
      "13/13 - 0s - 4ms/step - accuracy: 0.8687 - loss: 0.3559 - val_accuracy: 0.8800 - val_loss: 0.3652\n",
      "Epoch 8/20\n",
      "13/13 - 0s - 4ms/step - accuracy: 0.8825 - loss: 0.3327 - val_accuracy: 0.8850 - val_loss: 0.3452\n",
      "Epoch 9/20\n",
      "13/13 - 0s - 5ms/step - accuracy: 0.8950 - loss: 0.3135 - val_accuracy: 0.8850 - val_loss: 0.3295\n",
      "Epoch 10/20\n",
      "13/13 - 0s - 4ms/step - accuracy: 0.9013 - loss: 0.2980 - val_accuracy: 0.8950 - val_loss: 0.3152\n",
      "Epoch 11/20\n",
      "13/13 - 0s - 4ms/step - accuracy: 0.9075 - loss: 0.2843 - val_accuracy: 0.9000 - val_loss: 0.3033\n",
      "Epoch 12/20\n",
      "13/13 - 0s - 4ms/step - accuracy: 0.9112 - loss: 0.2730 - val_accuracy: 0.9050 - val_loss: 0.2929\n",
      "Epoch 13/20\n",
      "13/13 - 0s - 4ms/step - accuracy: 0.9187 - loss: 0.2630 - val_accuracy: 0.9100 - val_loss: 0.2841\n",
      "Epoch 14/20\n",
      "13/13 - 0s - 4ms/step - accuracy: 0.9225 - loss: 0.2536 - val_accuracy: 0.9150 - val_loss: 0.2762\n",
      "Epoch 15/20\n",
      "13/13 - 0s - 4ms/step - accuracy: 0.9200 - loss: 0.2460 - val_accuracy: 0.9150 - val_loss: 0.2680\n",
      "Epoch 16/20\n",
      "13/13 - 0s - 6ms/step - accuracy: 0.9225 - loss: 0.2383 - val_accuracy: 0.9200 - val_loss: 0.2616\n",
      "Epoch 17/20\n",
      "13/13 - 0s - 5ms/step - accuracy: 0.9212 - loss: 0.2319 - val_accuracy: 0.9200 - val_loss: 0.2557\n",
      "Epoch 18/20\n",
      "13/13 - 0s - 5ms/step - accuracy: 0.9250 - loss: 0.2253 - val_accuracy: 0.9200 - val_loss: 0.2505\n",
      "Epoch 19/20\n",
      "13/13 - 0s - 5ms/step - accuracy: 0.9250 - loss: 0.2196 - val_accuracy: 0.9250 - val_loss: 0.2455\n",
      "Epoch 20/20\n",
      "13/13 - 0s - 5ms/step - accuracy: 0.9287 - loss: 0.2144 - val_accuracy: 0.9300 - val_loss: 0.2414\n",
      "\u001b[1m7/7\u001b[0m \u001b[32m━━━━━━━━━━━━━━━━━━━━\u001b[0m\u001b[37m\u001b[0m \u001b[1m0s\u001b[0m 4ms/step \n",
      "Epoch 1/20\n",
      "13/13 - 1s - 63ms/step - accuracy: 0.4963 - loss: 1.1332 - val_accuracy: 0.5100 - val_loss: 0.9330\n",
      "Epoch 2/20\n",
      "13/13 - 0s - 4ms/step - accuracy: 0.5188 - loss: 0.9252 - val_accuracy: 0.5500 - val_loss: 0.7713\n",
      "Epoch 3/20\n",
      "13/13 - 0s - 4ms/step - accuracy: 0.5575 - loss: 0.7628 - val_accuracy: 0.5950 - val_loss: 0.6448\n",
      "Epoch 4/20\n",
      "13/13 - 0s - 4ms/step - accuracy: 0.6525 - loss: 0.6368 - val_accuracy: 0.6750 - val_loss: 0.5532\n",
      "Epoch 5/20\n",
      "13/13 - 0s - 4ms/step - accuracy: 0.7225 - loss: 0.5506 - val_accuracy: 0.7750 - val_loss: 0.4817\n",
      "Epoch 6/20\n",
      "13/13 - 0s - 4ms/step - accuracy: 0.7862 - loss: 0.4851 - val_accuracy: 0.8350 - val_loss: 0.4285\n",
      "Epoch 7/20\n",
      "13/13 - 0s - 4ms/step - accuracy: 0.8238 - loss: 0.4346 - val_accuracy: 0.8650 - val_loss: 0.3875\n",
      "Epoch 8/20\n",
      "13/13 - 0s - 4ms/step - accuracy: 0.8587 - loss: 0.3951 - val_accuracy: 0.8950 - val_loss: 0.3545\n",
      "Epoch 9/20\n",
      "13/13 - 0s - 4ms/step - accuracy: 0.8687 - loss: 0.3651 - val_accuracy: 0.9000 - val_loss: 0.3270\n",
      "Epoch 10/20\n",
      "13/13 - 0s - 4ms/step - accuracy: 0.8813 - loss: 0.3393 - val_accuracy: 0.9200 - val_loss: 0.3056\n",
      "Epoch 11/20\n",
      "13/13 - 0s - 4ms/step - accuracy: 0.8925 - loss: 0.3190 - val_accuracy: 0.9300 - val_loss: 0.2865\n",
      "Epoch 12/20\n",
      "13/13 - 0s - 4ms/step - accuracy: 0.9038 - loss: 0.3006 - val_accuracy: 0.9300 - val_loss: 0.2712\n",
      "Epoch 13/20\n",
      "13/13 - 0s - 4ms/step - accuracy: 0.9112 - loss: 0.2855 - val_accuracy: 0.9400 - val_loss: 0.2580\n",
      "Epoch 14/20\n",
      "13/13 - 0s - 4ms/step - accuracy: 0.9150 - loss: 0.2723 - val_accuracy: 0.9400 - val_loss: 0.2461\n",
      "Epoch 15/20\n",
      "13/13 - 0s - 4ms/step - accuracy: 0.9200 - loss: 0.2609 - val_accuracy: 0.9450 - val_loss: 0.2356\n",
      "Epoch 16/20\n",
      "13/13 - 0s - 4ms/step - accuracy: 0.9212 - loss: 0.2512 - val_accuracy: 0.9500 - val_loss: 0.2266\n",
      "Epoch 17/20\n",
      "13/13 - 0s - 4ms/step - accuracy: 0.9250 - loss: 0.2427 - val_accuracy: 0.9500 - val_loss: 0.2193\n",
      "Epoch 18/20\n",
      "13/13 - 0s - 4ms/step - accuracy: 0.9275 - loss: 0.2352 - val_accuracy: 0.9500 - val_loss: 0.2118\n",
      "Epoch 19/20\n",
      "13/13 - 0s - 4ms/step - accuracy: 0.9275 - loss: 0.2288 - val_accuracy: 0.9550 - val_loss: 0.2058\n",
      "Epoch 20/20\n",
      "13/13 - 0s - 4ms/step - accuracy: 0.9300 - loss: 0.2228 - val_accuracy: 0.9550 - val_loss: 0.1993\n",
      "\u001b[1m7/7\u001b[0m \u001b[32m━━━━━━━━━━━━━━━━━━━━\u001b[0m\u001b[37m\u001b[0m \u001b[1m0s\u001b[0m 4ms/step \n",
      "Epoch 1/20\n",
      "13/13 - 1s - 50ms/step - accuracy: 0.4550 - loss: 0.8745 - val_accuracy: 0.4900 - val_loss: 0.8157\n",
      "Epoch 2/20\n",
      "13/13 - 0s - 4ms/step - accuracy: 0.5675 - loss: 0.7315 - val_accuracy: 0.6100 - val_loss: 0.6619\n",
      "Epoch 3/20\n",
      "13/13 - 0s - 4ms/step - accuracy: 0.6525 - loss: 0.6169 - val_accuracy: 0.7250 - val_loss: 0.5466\n",
      "Epoch 4/20\n",
      "13/13 - 0s - 4ms/step - accuracy: 0.7188 - loss: 0.5325 - val_accuracy: 0.8050 - val_loss: 0.4638\n",
      "Epoch 5/20\n",
      "13/13 - 0s - 4ms/step - accuracy: 0.7900 - loss: 0.4697 - val_accuracy: 0.8600 - val_loss: 0.4041\n",
      "Epoch 6/20\n",
      "13/13 - 0s - 4ms/step - accuracy: 0.8300 - loss: 0.4182 - val_accuracy: 0.8950 - val_loss: 0.3619\n",
      "Epoch 7/20\n",
      "13/13 - 0s - 4ms/step - accuracy: 0.8637 - loss: 0.3804 - val_accuracy: 0.9000 - val_loss: 0.3303\n",
      "Epoch 8/20\n",
      "13/13 - 0s - 4ms/step - accuracy: 0.8888 - loss: 0.3498 - val_accuracy: 0.9100 - val_loss: 0.3059\n",
      "Epoch 9/20\n",
      "13/13 - 0s - 4ms/step - accuracy: 0.9075 - loss: 0.3247 - val_accuracy: 0.9150 - val_loss: 0.2864\n",
      "Epoch 10/20\n",
      "13/13 - 0s - 4ms/step - accuracy: 0.9187 - loss: 0.3037 - val_accuracy: 0.9250 - val_loss: 0.2701\n",
      "Epoch 11/20\n",
      "13/13 - 0s - 4ms/step - accuracy: 0.9212 - loss: 0.2863 - val_accuracy: 0.9350 - val_loss: 0.2566\n",
      "Epoch 12/20\n",
      "13/13 - 0s - 4ms/step - accuracy: 0.9250 - loss: 0.2714 - val_accuracy: 0.9450 - val_loss: 0.2467\n",
      "Epoch 13/20\n",
      "13/13 - 0s - 4ms/step - accuracy: 0.9300 - loss: 0.2580 - val_accuracy: 0.9450 - val_loss: 0.2371\n",
      "Epoch 14/20\n",
      "13/13 - 0s - 4ms/step - accuracy: 0.9362 - loss: 0.2467 - val_accuracy: 0.9450 - val_loss: 0.2294\n",
      "Epoch 15/20\n",
      "13/13 - 0s - 4ms/step - accuracy: 0.9388 - loss: 0.2371 - val_accuracy: 0.9400 - val_loss: 0.2235\n",
      "Epoch 16/20\n",
      "13/13 - 0s - 4ms/step - accuracy: 0.9425 - loss: 0.2282 - val_accuracy: 0.9400 - val_loss: 0.2162\n",
      "Epoch 17/20\n",
      "13/13 - 0s - 4ms/step - accuracy: 0.9425 - loss: 0.2205 - val_accuracy: 0.9400 - val_loss: 0.2110\n",
      "Epoch 18/20\n",
      "13/13 - 0s - 4ms/step - accuracy: 0.9438 - loss: 0.2137 - val_accuracy: 0.9400 - val_loss: 0.2070\n",
      "Epoch 19/20\n",
      "13/13 - 0s - 4ms/step - accuracy: 0.9425 - loss: 0.2076 - val_accuracy: 0.9400 - val_loss: 0.2039\n",
      "Epoch 20/20\n",
      "13/13 - 0s - 4ms/step - accuracy: 0.9425 - loss: 0.2024 - val_accuracy: 0.9400 - val_loss: 0.2010\n",
      "\u001b[1m7/7\u001b[0m \u001b[32m━━━━━━━━━━━━━━━━━━━━\u001b[0m\u001b[37m\u001b[0m \u001b[1m0s\u001b[0m 3ms/step \n",
      "Epoch 1/20\n",
      "13/13 - 1s - 49ms/step - accuracy: 0.7100 - loss: 0.5672 - val_accuracy: 0.7850 - val_loss: 0.4985\n",
      "Epoch 2/20\n",
      "13/13 - 0s - 4ms/step - accuracy: 0.8125 - loss: 0.4684 - val_accuracy: 0.8400 - val_loss: 0.4241\n",
      "Epoch 3/20\n",
      "13/13 - 0s - 4ms/step - accuracy: 0.8475 - loss: 0.4074 - val_accuracy: 0.8650 - val_loss: 0.3713\n",
      "Epoch 4/20\n",
      "13/13 - 0s - 4ms/step - accuracy: 0.8712 - loss: 0.3611 - val_accuracy: 0.8750 - val_loss: 0.3344\n",
      "Epoch 5/20\n",
      "13/13 - 0s - 4ms/step - accuracy: 0.8875 - loss: 0.3281 - val_accuracy: 0.8900 - val_loss: 0.3052\n",
      "Epoch 6/20\n",
      "13/13 - 0s - 4ms/step - accuracy: 0.8950 - loss: 0.3019 - val_accuracy: 0.9100 - val_loss: 0.2834\n",
      "Epoch 7/20\n",
      "13/13 - 0s - 4ms/step - accuracy: 0.8988 - loss: 0.2815 - val_accuracy: 0.9250 - val_loss: 0.2654\n",
      "Epoch 8/20\n",
      "13/13 - 0s - 4ms/step - accuracy: 0.9100 - loss: 0.2644 - val_accuracy: 0.9350 - val_loss: 0.2511\n",
      "Epoch 9/20\n",
      "13/13 - 0s - 4ms/step - accuracy: 0.9150 - loss: 0.2506 - val_accuracy: 0.9450 - val_loss: 0.2389\n",
      "Epoch 10/20\n",
      "13/13 - 0s - 4ms/step - accuracy: 0.9187 - loss: 0.2385 - val_accuracy: 0.9450 - val_loss: 0.2288\n",
      "Epoch 11/20\n",
      "13/13 - 0s - 4ms/step - accuracy: 0.9250 - loss: 0.2282 - val_accuracy: 0.9450 - val_loss: 0.2202\n",
      "Epoch 12/20\n",
      "13/13 - 0s - 4ms/step - accuracy: 0.9312 - loss: 0.2193 - val_accuracy: 0.9450 - val_loss: 0.2129\n",
      "Epoch 13/20\n",
      "13/13 - 0s - 4ms/step - accuracy: 0.9337 - loss: 0.2118 - val_accuracy: 0.9450 - val_loss: 0.2061\n",
      "Epoch 14/20\n",
      "13/13 - 0s - 4ms/step - accuracy: 0.9375 - loss: 0.2048 - val_accuracy: 0.9500 - val_loss: 0.2011\n",
      "Epoch 15/20\n",
      "13/13 - 0s - 4ms/step - accuracy: 0.9413 - loss: 0.1992 - val_accuracy: 0.9500 - val_loss: 0.1963\n",
      "Epoch 16/20\n",
      "13/13 - 0s - 4ms/step - accuracy: 0.9413 - loss: 0.1936 - val_accuracy: 0.9500 - val_loss: 0.1922\n",
      "Epoch 17/20\n",
      "13/13 - 0s - 4ms/step - accuracy: 0.9425 - loss: 0.1889 - val_accuracy: 0.9500 - val_loss: 0.1889\n",
      "Epoch 18/20\n",
      "13/13 - 0s - 4ms/step - accuracy: 0.9425 - loss: 0.1851 - val_accuracy: 0.9500 - val_loss: 0.1854\n",
      "Epoch 19/20\n",
      "13/13 - 0s - 4ms/step - accuracy: 0.9425 - loss: 0.1814 - val_accuracy: 0.9500 - val_loss: 0.1824\n",
      "Epoch 20/20\n",
      "13/13 - 0s - 4ms/step - accuracy: 0.9450 - loss: 0.1780 - val_accuracy: 0.9550 - val_loss: 0.1802\n",
      "\u001b[1m7/7\u001b[0m \u001b[32m━━━━━━━━━━━━━━━━━━━━\u001b[0m\u001b[37m\u001b[0m \u001b[1m0s\u001b[0m 3ms/step \n",
      "Epoch 1/20\n",
      "13/13 - 1s - 49ms/step - accuracy: 0.5362 - loss: 0.7257 - val_accuracy: 0.6200 - val_loss: 0.6492\n",
      "Epoch 2/20\n",
      "13/13 - 0s - 9ms/step - accuracy: 0.7075 - loss: 0.5740 - val_accuracy: 0.7550 - val_loss: 0.5384\n",
      "Epoch 3/20\n",
      "13/13 - 0s - 4ms/step - accuracy: 0.8300 - loss: 0.4725 - val_accuracy: 0.8300 - val_loss: 0.4637\n",
      "Epoch 4/20\n",
      "13/13 - 0s - 4ms/step - accuracy: 0.8737 - loss: 0.4061 - val_accuracy: 0.8650 - val_loss: 0.4115\n",
      "Epoch 5/20\n",
      "13/13 - 0s - 4ms/step - accuracy: 0.8988 - loss: 0.3589 - val_accuracy: 0.8550 - val_loss: 0.3746\n",
      "Epoch 6/20\n",
      "13/13 - 0s - 4ms/step - accuracy: 0.9125 - loss: 0.3258 - val_accuracy: 0.8600 - val_loss: 0.3468\n",
      "Epoch 7/20\n",
      "13/13 - 0s - 4ms/step - accuracy: 0.9250 - loss: 0.3006 - val_accuracy: 0.8550 - val_loss: 0.3247\n",
      "Epoch 8/20\n",
      "13/13 - 0s - 4ms/step - accuracy: 0.9325 - loss: 0.2814 - val_accuracy: 0.8550 - val_loss: 0.3066\n",
      "Epoch 9/20\n",
      "13/13 - 0s - 4ms/step - accuracy: 0.9362 - loss: 0.2654 - val_accuracy: 0.8650 - val_loss: 0.2924\n",
      "Epoch 10/20\n",
      "13/13 - 0s - 4ms/step - accuracy: 0.9413 - loss: 0.2521 - val_accuracy: 0.8650 - val_loss: 0.2811\n",
      "Epoch 11/20\n",
      "13/13 - 0s - 4ms/step - accuracy: 0.9438 - loss: 0.2415 - val_accuracy: 0.8650 - val_loss: 0.2714\n",
      "Epoch 12/20\n",
      "13/13 - 0s - 4ms/step - accuracy: 0.9463 - loss: 0.2320 - val_accuracy: 0.8800 - val_loss: 0.2626\n",
      "Epoch 13/20\n",
      "13/13 - 0s - 4ms/step - accuracy: 0.9475 - loss: 0.2238 - val_accuracy: 0.8850 - val_loss: 0.2553\n",
      "Epoch 14/20\n",
      "13/13 - 0s - 4ms/step - accuracy: 0.9463 - loss: 0.2165 - val_accuracy: 0.8850 - val_loss: 0.2494\n",
      "Epoch 15/20\n",
      "13/13 - 0s - 4ms/step - accuracy: 0.9475 - loss: 0.2100 - val_accuracy: 0.8900 - val_loss: 0.2427\n",
      "Epoch 16/20\n",
      "13/13 - 0s - 4ms/step - accuracy: 0.9500 - loss: 0.2041 - val_accuracy: 0.8950 - val_loss: 0.2372\n",
      "Epoch 17/20\n",
      "13/13 - 0s - 4ms/step - accuracy: 0.9500 - loss: 0.1987 - val_accuracy: 0.8950 - val_loss: 0.2332\n",
      "Epoch 18/20\n",
      "13/13 - 0s - 4ms/step - accuracy: 0.9525 - loss: 0.1937 - val_accuracy: 0.8950 - val_loss: 0.2290\n",
      "Epoch 19/20\n",
      "13/13 - 0s - 4ms/step - accuracy: 0.9538 - loss: 0.1892 - val_accuracy: 0.8950 - val_loss: 0.2250\n",
      "Epoch 20/20\n",
      "13/13 - 0s - 4ms/step - accuracy: 0.9550 - loss: 0.1845 - val_accuracy: 0.9000 - val_loss: 0.2217\n",
      "\u001b[1m7/7\u001b[0m \u001b[32m━━━━━━━━━━━━━━━━━━━━\u001b[0m\u001b[37m\u001b[0m \u001b[1m0s\u001b[0m 4ms/step \n"
     ]
    }
   ],
   "source": [
    "acc_totall=[]\n",
    "for train_index,validation_index in kf.split(x,y):\n",
    "    x_train=x[train_index]\n",
    "    y_train=y[train_index]\n",
    "    x_validatian=x[validation_index]\n",
    "    y_validatian=y[validation_index]\n",
    "    model=create_model()\n",
    "    model.fit(x_train,y_train,epochs=20,batch_size=64,validation_data=(x_validatian,y_validatian),verbose=2)\n",
    "\n",
    "    y_pred=model.predict(x_validatian)\n",
    "    y_pred=(y_pred>0.5).astype(\"int32\")\n",
    "\n",
    "    acc=accuracy_score(y_true=y_validatian,y_pred=y_pred)\n",
    "    acc_totall.append(acc)\n"
   ]
  },
  {
   "cell_type": "markdown",
   "metadata": {},
   "source": [
    "batch_size\n",
    "\n",
    "verbos\n",
    "نمایش اطلاعات اگر صفر باشه هیچی نشون نمیده اگر 1 باشه کل اطلاعات و اگر 2 باشه یک خط فقط نشون میده\n",
    "\n"
   ]
  },
  {
   "cell_type": "code",
   "execution_count": 238,
   "metadata": {},
   "outputs": [
    {
     "data": {
      "text/plain": [
       "[0.93, 0.955, 0.94, 0.955, 0.9]"
      ]
     },
     "execution_count": 238,
     "metadata": {},
     "output_type": "execute_result"
    }
   ],
   "source": [
    "acc_totall"
   ]
  },
  {
   "cell_type": "markdown",
   "metadata": {},
   "source": [
    "نمایش دقت مدل \n",
    "\n",
    "میانگین میگیریم روی accuracy\n"
   ]
  },
  {
   "cell_type": "code",
   "execution_count": 239,
   "metadata": {},
   "outputs": [
    {
     "data": {
      "text/plain": [
       "np.float64(0.9360000000000002)"
      ]
     },
     "execution_count": 239,
     "metadata": {},
     "output_type": "execute_result"
    }
   ],
   "source": [
    "import numpy as np\n",
    "\n",
    "np.mean(acc_totall)"
   ]
  },
  {
   "cell_type": "markdown",
   "metadata": {},
   "source": [
    " با تغییر units دقت تغییر می کنه\n",
    "\n",
    "همان نورون ها است در لایه پنهان"
   ]
  },
  {
   "cell_type": "markdown",
   "metadata": {},
   "source": [
    "class validation به ما کمک میکنه ببینیم کدام پارامترها بهتره بعد از اون میایم روی داده ترین بدون اینکه فولد بندی کنیم یکبار دیگه ترین می کنیم یکبار دیگه بعد روی داده تست اعتبارسنجی می کنیم"
   ]
  },
  {
   "cell_type": "markdown",
   "metadata": {},
   "source": []
  }
 ],
 "metadata": {
  "kernelspec": {
   "display_name": "venvdatascience",
   "language": "python",
   "name": "python3"
  },
  "language_info": {
   "codemirror_mode": {
    "name": "ipython",
    "version": 3
   },
   "file_extension": ".py",
   "mimetype": "text/x-python",
   "name": "python",
   "nbconvert_exporter": "python",
   "pygments_lexer": "ipython3",
   "version": "3.12.3"
  }
 },
 "nbformat": 4,
 "nbformat_minor": 2
}
