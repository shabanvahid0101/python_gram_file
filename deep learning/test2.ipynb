{
 "cells": [
  {
   "cell_type": "markdown",
   "metadata": {},
   "source": [
    "با کال بک کردن یک فانکشن بخصوص بهترین مدل رو تشخیص بدیم و ذخیره کنیم"
   ]
  },
  {
   "cell_type": "code",
   "execution_count": 1,
   "metadata": {},
   "outputs": [],
   "source": [
    "import tensorflow as tf\n",
    "from tensorflow import keras\n",
    "import numpy as np\n",
    "import matplotlib.pyplot as plt"
   ]
  },
  {
   "cell_type": "code",
   "execution_count": 2,
   "metadata": {},
   "outputs": [],
   "source": [
    "x=np.arange(-60,60,0.5)\n",
    "y=x**2+5*x+3"
   ]
  },
  {
   "cell_type": "code",
   "execution_count": 3,
   "metadata": {},
   "outputs": [
    {
     "data": {
      "text/plain": [
       "((192,), (48,))"
      ]
     },
     "execution_count": 3,
     "metadata": {},
     "output_type": "execute_result"
    }
   ],
   "source": [
    "from sklearn.model_selection import train_test_split\n",
    "x_train,x_test,y_train,y_test=train_test_split(x,y,test_size=0.2)\n",
    "x_train.shape,x_test.shape"
   ]
  },
  {
   "cell_type": "code",
   "execution_count": 4,
   "metadata": {},
   "outputs": [
    {
     "name": "stderr",
     "output_type": "stream",
     "text": [
      "d:\\code\\venvdatascience\\Lib\\site-packages\\keras\\src\\layers\\core\\dense.py:87: UserWarning: Do not pass an `input_shape`/`input_dim` argument to a layer. When using Sequential models, prefer using an `Input(shape)` object as the first layer in the model instead.\n",
      "  super().__init__(activity_regularizer=activity_regularizer, **kwargs)\n"
     ]
    }
   ],
   "source": [
    "model_2=keras.Sequential()\n",
    "model_2.add(keras.layers.Dense(units=256,activation='relu',input_shape=[1]))\n",
    "model_2.add(keras.layers.Dense(units=256,activation='relu'))\n",
    "model_2.add(keras.layers.Dense(units=256,activation='relu'))\n",
    "model_2.add(keras.layers.Dense(units=256,activation='relu'))\n",
    "model_2.add(keras.layers.Dense(units=1))"
   ]
  },
  {
   "cell_type": "markdown",
   "metadata": {},
   "source": [
    "learning_rate\n",
    "نشان دهنده سرعت الگوریتم optimization\n",
    "\n",
    "هرچه بیشتر باشه سرعت الگوریتم بیشتر میشه ولی ممکنه جواب درستی نتونیم بگیریم اما هرچه کمتر بشه سرعتش پایین تره و جواب بهینه تر میشه"
   ]
  },
  {
   "cell_type": "markdown",
   "metadata": {},
   "source": []
  },
  {
   "cell_type": "code",
   "execution_count": 12,
   "metadata": {},
   "outputs": [
    {
     "ename": "AttributeError",
     "evalue": "module 'keras._tf_keras.keras.losses' has no attribute 'Mean_squared_error'",
     "output_type": "error",
     "traceback": [
      "\u001b[1;31m---------------------------------------------------------------------------\u001b[0m",
      "\u001b[1;31mAttributeError\u001b[0m                            Traceback (most recent call last)",
      "Cell \u001b[1;32mIn[12], line 2\u001b[0m\n\u001b[0;32m      1\u001b[0m optimizer \u001b[38;5;241m=\u001b[39m keras\u001b[38;5;241m.\u001b[39moptimizers\u001b[38;5;241m.\u001b[39mRMSprop(learning_rate\u001b[38;5;241m=\u001b[39m\u001b[38;5;241m0.0001\u001b[39m)\n\u001b[1;32m----> 2\u001b[0m loss\u001b[38;5;241m=\u001b[39m \u001b[43mkeras\u001b[49m\u001b[38;5;241;43m.\u001b[39;49m\u001b[43mlosses\u001b[49m\u001b[38;5;241;43m.\u001b[39;49m\u001b[43mMean_squared_error\u001b[49m\n\u001b[0;32m      3\u001b[0m metric\u001b[38;5;241m=\u001b[39mtf\u001b[38;5;241m.\u001b[39mmetric\u001b[38;5;241m.\u001b[39mRootMeanSquaredError()\n\u001b[0;32m      4\u001b[0m model_2\u001b[38;5;241m.\u001b[39mcompile(optimizer\u001b[38;5;241m=\u001b[39moptimizer,loss\u001b[38;5;241m=\u001b[39mloss,metrics\u001b[38;5;241m=\u001b[39mmetric)\n",
      "\u001b[1;31mAttributeError\u001b[0m: module 'keras._tf_keras.keras.losses' has no attribute 'Mean_squared_error'"
     ]
    }
   ],
   "source": [
    "optimizer = keras.optimizers.RMSprop(learning_rate=0.0001)\n",
    "loss= keras.losses.mean_squared_error\n",
    "metric=tf.metric.RootMeanSquaredError()\n",
    "model_2.compile(optimizer=optimizer,loss=loss,metrics=metric)\n"
   ]
  }
 ],
 "metadata": {
  "kernelspec": {
   "display_name": "venvdatascience",
   "language": "python",
   "name": "python3"
  },
  "language_info": {
   "codemirror_mode": {
    "name": "ipython",
    "version": 3
   },
   "file_extension": ".py",
   "mimetype": "text/x-python",
   "name": "python",
   "nbconvert_exporter": "python",
   "pygments_lexer": "ipython3",
   "version": "3.12.3"
  }
 },
 "nbformat": 4,
 "nbformat_minor": 2
}
