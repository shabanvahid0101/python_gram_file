{
 "cells": [
  {
   "cell_type": "code",
   "execution_count": 5,
   "metadata": {},
   "outputs": [],
   "source": [
    "import cv2 as cv"
   ]
  },
  {
   "cell_type": "markdown",
   "metadata": {},
   "source": [
    "# create classifiers"
   ]
  },
  {
   "cell_type": "code",
   "execution_count": 29,
   "metadata": {},
   "outputs": [],
   "source": [
    "face_classifier = cv.CascadeClassifier(cv.data.haarcascades + 'haarcascade_frontalface_default.xml')\n",
    "#face_classifier = cv.CascadeClassifier('haarcascade_frontalface_default.xml')\n",
    "eye_classifier = cv.CascadeClassifier(cv.data.haarcascades +'haarcascade_eye.xml')"
   ]
  },
  {
   "cell_type": "markdown",
   "metadata": {},
   "source": [
    "# Read image"
   ]
  },
  {
   "cell_type": "code",
   "execution_count": 30,
   "metadata": {},
   "outputs": [],
   "source": [
    "image= cv.imread('./pic.jpg')"
   ]
  },
  {
   "cell_type": "markdown",
   "metadata": {},
   "source": [
    "# resize pic"
   ]
  },
  {
   "cell_type": "code",
   "execution_count": 31,
   "metadata": {},
   "outputs": [],
   "source": [
    "# اندازه تصویر اصلی\n",
    "original_height, original_width = image.shape[:2]\n",
    "\n",
    "# تعیین اندازه جدید (فقط یکی از ابعاد را تعیین کنید، مثلاً عرض)\n",
    "new_width = 480  # عرض جدید\n",
    "\n",
    "# محاسبه ارتفاع جدید براساس نسبت تصویر\n",
    "aspect_ratio = original_height / original_width\n",
    "new_height = int(new_width * aspect_ratio)\n",
    "\n",
    "# تغییر سایز تصویر به ابعاد جدید\n",
    "resized_image = cv.resize(image, (new_width, new_height))"
   ]
  },
  {
   "cell_type": "markdown",
   "metadata": {},
   "source": [
    "# convert to grayscale"
   ]
  },
  {
   "cell_type": "code",
   "execution_count": 32,
   "metadata": {},
   "outputs": [],
   "source": [
    "image_gray=cv.cvtColor(resized_image,cv.COLOR_BGR2GRAY)"
   ]
  },
  {
   "cell_type": "markdown",
   "metadata": {},
   "source": [
    "# run classifier"
   ]
  },
  {
   "cell_type": "code",
   "execution_count": 33,
   "metadata": {},
   "outputs": [],
   "source": [
    "face=face_classifier.detectMultiScale(image_gray,1.1,4)"
   ]
  },
  {
   "cell_type": "markdown",
   "metadata": {},
   "source": [
    "# create recatangles"
   ]
  },
  {
   "cell_type": "code",
   "execution_count": 34,
   "metadata": {},
   "outputs": [],
   "source": [
    "for (x,y,w,h) in face :\n",
    "    cv.rectangle(resized_image,(x,y),(x+w,y+h),(255,255,0),2)\n",
    "    roi_gray = image_gray[y:y+h,x:x+h]\n",
    "    roi_color = resized_image[y:y+h,x:x+h]\n",
    "    eyes =eye_classifier.detectMultiScale(roi_gray)\n",
    "    for (ex,ey,ew,eh) in eyes:\n",
    "        cv.rectangle(roi_color,(ex,ey),(ex+ew,ey+eh),(0,255,255),2)\n",
    "        "
   ]
  },
  {
   "cell_type": "markdown",
   "metadata": {},
   "source": [
    "# show final image"
   ]
  },
  {
   "cell_type": "code",
   "execution_count": 35,
   "metadata": {},
   "outputs": [
    {
     "data": {
      "text/plain": [
       "-1"
      ]
     },
     "execution_count": 35,
     "metadata": {},
     "output_type": "execute_result"
    }
   ],
   "source": [
    "cv.imshow(\"img\",resized_image)\n",
    "cv.waitKey()"
   ]
  },
  {
   "cell_type": "markdown",
   "metadata": {},
   "source": [
    "# دسترسی به دوربین \n"
   ]
  },
  {
   "cell_type": "code",
   "execution_count": 7,
   "metadata": {},
   "outputs": [],
   "source": [
    "cap = cv.VideoCapture(0)"
   ]
  },
  {
   "cell_type": "code",
   "execution_count": null,
   "metadata": {},
   "outputs": [],
   "source": [
    "\n",
    "while True:\n",
    "    # خواندن یک فریم از دوربین\n",
    "    ret, frame = cap.read()\n",
    "\n",
    "    # تشخیص چهره‌ها با استفاده از کلاس CascadeClassifier\n",
    "    face_cascade = cv.CascadeClassifier(cv.data.haarcascades + 'haarcascade_frontalface_default.xml')\n",
    "    # تغییر رنگ به سیاه و سفید\n",
    "    gray = cv.cvtColor(frame, cv.COLOR_BGR2GRAY)\n",
    "    \n",
    "    faces = face_cascade.detectMultiScale(gray, scaleFactor=1.1, minNeighbors=5, minSize=(30, 30))\n",
    "\n",
    "    # نمایش مربع‌هایی دور چهره‌ها\n",
    "    for (x, y, w, h) in faces:\n",
    "        cv.rectangle(frame, (x, y),(x + w, y + h), (0, 255, 0),2)\n",
    "\n",
    "    # نمایش تصویر\n",
    "    cv.imshow('Face Detection', frame)\n",
    "\n",
    "    # خروج از حلقه با فشردن کلید q\n",
    "    if cv.waitKey(1) & 0xFF == ord(\"q\"):\n",
    "        break\n",
    "# آزاد کردن منابع\n",
    "cap.release()\n",
    "cv.destroyAllWindows()\n"
   ]
  }
 ],
 "metadata": {
  "kernelspec": {
   "display_name": "venvcv",
   "language": "python",
   "name": "python3"
  },
  "language_info": {
   "codemirror_mode": {
    "name": "ipython",
    "version": 3
   },
   "file_extension": ".py",
   "mimetype": "text/x-python",
   "name": "python",
   "nbconvert_exporter": "python",
   "pygments_lexer": "ipython3",
   "version": "3.12.3"
  }
 },
 "nbformat": 4,
 "nbformat_minor": 2
}
