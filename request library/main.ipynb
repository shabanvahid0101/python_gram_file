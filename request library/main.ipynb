{
 "cells": [
  {
   "cell_type": "code",
   "execution_count": 2,
   "metadata": {},
   "outputs": [],
   "source": [
    "import requests\n",
    "\n"
   ]
  },
  {
   "cell_type": "code",
   "execution_count": 4,
   "metadata": {},
   "outputs": [
    {
     "name": "stdout",
     "output_type": "stream",
     "text": [
      "{'title': 'No title', 'price': '۱۴,۰۰۰,۰۰۰,۰۰۰ تومان'}\n",
      "{'title': 'No title', 'price': '۴,۹۰۰,۰۰۰,۰۰۰ تومان'}\n",
      "{'title': 'No title', 'price': '۱۰,۵۰۰,۰۰۰,۰۰۰ تومان'}\n",
      "{'title': 'No title', 'price': '۸۸۲,۰۰۰,۰۰۰ تومان'}\n",
      "{'title': 'No title', 'price': '۱۴,۰۰۰,۰۰۰,۰۰۰ تومان'}\n",
      "{'title': 'No title', 'price': '۷,۷۰۰,۰۰۰,۰۰۰ تومان'}\n",
      "{'title': 'No title', 'price': '۲,۳۵۰,۰۰۰,۰۰۰ تومان'}\n",
      "{'title': 'No title', 'price': '۳۳,۰۰۰,۰۰۰,۰۰۰ تومان'}\n",
      "{'title': 'No title', 'price': '۱۰,۸۰۰,۰۰۰,۰۰۰ تومان'}\n",
      "{'title': 'No title', 'price': '۲,۷۵۰,۰۰۰,۰۰۰ تومان'}\n",
      "{'title': 'No title', 'price': '۵,۵۰۰,۰۰۰,۰۰۰ تومان'}\n",
      "{'title': 'No title', 'price': '۵,۴۰۰,۰۰۰,۰۰۰ تومان'}\n",
      "{'title': 'No title', 'price': '۵۰,۰۰۰,۰۰۰,۰۰۰ تومان'}\n",
      "{'title': 'No title', 'price': '۵,۸۰۰,۰۰۰,۰۰۰ تومان'}\n",
      "{'title': 'No title', 'price': '۳۳,۸۱۰,۰۰۰,۰۰۰ تومان'}\n",
      "{'title': 'No title', 'price': '۱۲,۹۵۰,۰۰۰,۰۰۰ تومان'}\n",
      "{'title': 'No title', 'price': '۱,۷۲۰,۰۰۰,۰۰۰ تومان'}\n",
      "{'title': 'No title', 'price': '۷,۸۰۰,۰۰۰,۰۰۰ تومان'}\n",
      "{'title': 'No title', 'price': '۱۱۰,۰۰۰,۰۰۰,۰۰۰ تومان'}\n",
      "{'title': 'No title', 'price': '۴,۰۰۰,۰۰۰,۰۰۰ تومان'}\n",
      "{'title': 'No title', 'price': '۲,۰۰۰,۰۰۰,۰۰۰ تومان'}\n",
      "{'title': 'No title', 'price': '۱۰,۵۰۰,۰۰۰,۰۰۰ تومان'}\n",
      "{'title': 'No title', 'price': '۴,۶۰۰,۰۰۰,۰۰۰,۰۰۰ تومان'}\n",
      "{'title': 'No title', 'price': '۲۰,۰۰۰,۰۰۰,۰۰۰ تومان'}\n"
     ]
    }
   ],
   "source": [
    "from bs4 import BeautifulSoup\n",
    "\n",
    "# Define the URL of the Divar website page you want to scrape\n",
    "url = 'https://divar.ir/s/tehran/buy-residential'\n",
    "\n",
    "# Send a GET request to the URL\n",
    "response = requests.get(url)\n",
    "\n",
    "# Parse the HTML content of the page\n",
    "soup = BeautifulSoup(response.content, 'html.parser')\n",
    "\n",
    "# Extract the data you need (this is just an example, you may need to adjust the selectors)\n",
    "home_data = []\n",
    "for item in soup.find_all('div', class_='kt-post-card__body'):\n",
    "    title_tag = item.find('a', class_='kt-post-card__title')\n",
    "    price_tag = item.find('div', class_='kt-post-card__description')\n",
    "    \n",
    "    title = title_tag.text.strip() if title_tag else 'No title'\n",
    "    price = price_tag.text.strip() if price_tag else 'No price'\n",
    "    home_data.append({'title': title, 'price': price})\n",
    "\n",
    "# Print the extracted data\n",
    "for home in home_data:\n",
    "    print(home)\n"
   ]
  },
  {
   "cell_type": "code",
   "execution_count": 5,
   "metadata": {},
   "outputs": [
    {
     "name": "stdout",
     "output_type": "stream",
     "text": [
      "Data has been written to home_data.xlsx\n"
     ]
    }
   ],
   "source": [
    "import pandas as pd\n",
    "\n",
    "# Create a DataFrame from the extracted data\n",
    "df = pd.DataFrame(home_data)\n",
    "\n",
    "# Save the DataFrame to an Excel file\n",
    "df.to_excel('home_data.xlsx', index=False)\n",
    "\n",
    "print(\"Data has been written to home_data.xlsx\")"
   ]
  },
  {
   "cell_type": "code",
   "execution_count": 14,
   "metadata": {},
   "outputs": [
    {
     "name": "stdout",
     "output_type": "stream",
     "text": [
      "Attempt 1 failed: HTTPSConnectionPool(host='divar.ir', port=443): Max retries exceeded with url: /s/tehran/auto (Caused by ConnectTimeoutError(<urllib3.connection.HTTPSConnection object at 0x0000027AE16B36E0>, 'Connection to divar.ir timed out. (connect timeout=10)'))\n",
      "{'title': 'No title', 'price': '۰ کیلومتر'}\n",
      "{'title': 'No title', 'price': '۶۰,۰۰۰ کیلومتر'}\n",
      "{'title': 'No title', 'price': '۵۸,۰۰۰ کیلومتر'}\n",
      "{'title': 'No title', 'price': '۲۹۹,۵۰۰ کیلومتر'}\n",
      "{'title': 'No title', 'price': '۱۳۴,۰۰۰ کیلومتر'}\n",
      "{'title': 'No title', 'price': '۰ کیلومتر'}\n",
      "{'title': 'No title', 'price': '۱۲۷,۰۰۰ کیلومتر'}\n",
      "{'title': 'No title', 'price': 'No price'}\n",
      "{'title': 'No title', 'price': '۰ کیلومتر'}\n",
      "{'title': 'No title', 'price': '۰ کیلومتر'}\n",
      "{'title': 'No title', 'price': '۵۶,۰۰۰ کیلومتر'}\n",
      "{'title': 'No title', 'price': '۰ کیلومتر'}\n",
      "{'title': 'No title', 'price': '۸۰ کیلومتر'}\n",
      "{'title': 'No title', 'price': '۰ کیلومتر'}\n",
      "{'title': 'No title', 'price': '۱۱۴,۰۰۰ کیلومتر'}\n",
      "{'title': 'No title', 'price': '۴۶,۰۰۰ کیلومتر'}\n",
      "{'title': 'No title', 'price': '۹,۱۷۹,۶۲۳,۴۰۰ تومان'}\n",
      "{'title': 'No title', 'price': '۳۵,۰۰۰ کیلومتر'}\n",
      "{'title': 'No title', 'price': '۴۶,۰۰۰ کیلومتر'}\n",
      "{'title': 'No title', 'price': '۷۰,۰۰۰ کیلومتر'}\n",
      "{'title': 'No title', 'price': '۱۱,۱۱۱ کیلومتر'}\n",
      "{'title': 'No title', 'price': '۰ کیلومتر'}\n",
      "{'title': 'No title', 'price': '۰ کیلومتر'}\n",
      "{'title': 'No title', 'price': '۴۴۰,۰۰۰ کیلومتر'}\n"
     ]
    }
   ],
   "source": [
    "import requests\n",
    "from bs4 import BeautifulSoup\n",
    "\n",
    "# Define the URL of the Divar website page you want to scrape for cars\n",
    "url = 'https://divar.ir/s/tehran/auto'\n",
    "\n",
    "# Send a GET request to the URL with a timeout and retry mechanism\n",
    "max_retries = 3\n",
    "timeout = 10\n",
    "for attempt in range(max_retries):\n",
    "    try:\n",
    "        response = requests.get(url, timeout=timeout)\n",
    "        response.raise_for_status()  # Raise an exception for HTTP errors\n",
    "        break\n",
    "    except requests.exceptions.RequestException as e:\n",
    "        print(f\"Attempt {attempt + 1} failed: {e}\")\n",
    "        if attempt == max_retries - 1:\n",
    "            raise\n",
    "\n",
    "# Parse the HTML content of the page\n",
    "soup = BeautifulSoup(response.content, 'html.parser')\n",
    "\n",
    "# Extract the data you need (this is just an example, you may need to adjust the selectors)\n",
    "car_data = []\n",
    "for item in soup.find_all('div', class_='kt-post-card__info'):\n",
    "    title_tag = item.find('div', class_='kt-post-card__title')\n",
    "    price_tag = item.find('div', class_='kt-post-card__description')\n",
    "    \n",
    "    title = title_tag.text.strip() if title_tag else 'No title'\n",
    "    price = price_tag.text.strip() if price_tag else 'No price'\n",
    "    car_data.append({'title': title, 'price': price})\n",
    "\n",
    "# Print the extracted data\n",
    "for car in car_data:\n",
    "    print(car)"
   ]
  },
  {
   "cell_type": "code",
   "execution_count": 19,
   "metadata": {},
   "outputs": [
    {
     "name": "stdout",
     "output_type": "stream",
     "text": [
      "{'title': 'No title', 'price': '۴۰,۰۰۰ کیلومتر', 'image_url': 'No image'}\n",
      "{'title': 'No title', 'price': '۰ کیلومتر', 'image_url': 'No image'}\n",
      "{'title': 'No title', 'price': '۲۰۰,۰۰۰ کیلومتر', 'image_url': 'No image'}\n",
      "{'title': 'No title', 'price': '۰ کیلومتر', 'image_url': 'No image'}\n",
      "{'title': 'No title', 'price': '۱۹۵,۰۰۰ کیلومتر', 'image_url': 'No image'}\n",
      "{'title': 'No title', 'price': 'No price', 'image_url': 'No image'}\n",
      "{'title': 'No title', 'price': '۱۹۵,۰۰۰ کیلومتر', 'image_url': 'No image'}\n",
      "{'title': 'No title', 'price': '۲۷,۰۰۰ کیلومتر', 'image_url': 'No image'}\n",
      "{'title': 'No title', 'price': '۱۰۶,۰۰۰ کیلومتر', 'image_url': 'No image'}\n",
      "{'title': 'No title', 'price': '۳,۰۰۰ کیلومتر', 'image_url': 'No image'}\n",
      "{'title': 'No title', 'price': '۱۱,۰۰۰ کیلومتر', 'image_url': 'No image'}\n",
      "{'title': 'No title', 'price': '۱۱۰,۰۰۰ کیلومتر', 'image_url': 'No image'}\n",
      "{'title': 'No title', 'price': '۲۶۵,۰۰۰ کیلومتر', 'image_url': 'No image'}\n",
      "{'title': 'No title', 'price': '۲,۶۰۰,۰۰۰,۰۰۰ تومان', 'image_url': 'No image'}\n",
      "{'title': 'No title', 'price': '۳۰,۰۰۰ کیلومتر', 'image_url': 'No image'}\n",
      "{'title': 'No title', 'price': '۵,۰۰۰ کیلومتر', 'image_url': 'No image'}\n",
      "{'title': 'No title', 'price': '۱۳۰,۰۰۰ کیلومتر', 'image_url': 'No image'}\n",
      "{'title': 'No title', 'price': '۳۶,۱۰۰ کیلومتر', 'image_url': 'No image'}\n",
      "{'title': 'No title', 'price': '۰ کیلومتر', 'image_url': 'No image'}\n",
      "{'title': 'No title', 'price': '۹۵۰,۰۰۰,۰۰۰ تومان', 'image_url': 'No image'}\n",
      "{'title': 'No title', 'price': '۳۸,۰۰۰ کیلومتر', 'image_url': 'No image'}\n",
      "{'title': 'No title', 'price': '۸۶,۷۱۵ کیلومتر', 'image_url': 'No image'}\n",
      "{'title': 'No title', 'price': '۰ کیلومتر', 'image_url': 'No image'}\n",
      "{'title': 'No title', 'price': '۰ کیلومتر', 'image_url': 'No image'}\n"
     ]
    }
   ],
   "source": [
    "# Define the URL of the Divar website page you want to scrape for cars\n",
    "url = 'https://divar.ir/s/tehran/auto'\n",
    "\n",
    "# Send a GET request to the URL with a timeout and retry mechanism\n",
    "max_retries = 3\n",
    "timeout = 10\n",
    "for attempt in range(max_retries):\n",
    "    try:\n",
    "        response = requests.get(url, timeout=timeout)\n",
    "        response.raise_for_status()  # Raise an exception for HTTP errors\n",
    "        break\n",
    "    except requests.exceptions.RequestException as e:\n",
    "        print(f\"Attempt {attempt + 1} failed: {e}\")\n",
    "        if attempt == max_retries - 1:\n",
    "            raise\n",
    "\n",
    "# Parse the HTML content of the page\n",
    "soup = BeautifulSoup(response.content, 'html.parser')\n",
    "\n",
    "# Extract the data you need (this is just an example, you may need to adjust the selectors)\n",
    "car_data = []\n",
    "for item in soup.find_all('div', class_='kt-post-card__info'):\n",
    "    title_tag = item.find('div', class_='kt-post-card__title')\n",
    "    speed_tag = item.find('div',class_='kt-post-card__description')\n",
    "    price_tag = item.find('div', class_='kt-post-card__description')\n",
    "    image_tag = item.find('img', class_='kt-post-card-thumbnail')\n",
    "\n",
    "    title = title_tag.text.strip() if title_tag else 'No title'\n",
    "    price = price_tag.text.strip() if price_tag else 'No price'\n",
    "    speed = speed_tag.text.strip() if speed_tag else 'No speed'\n",
    "    image_url = image_tag['src'] if image_tag else 'No image'\n",
    "    \n",
    "    car_data.append({'title': title, 'price': price, 'image_url': image_url})\n",
    "\n",
    "# Print the extracted data\n",
    "for car in car_data:\n",
    "    print(car)"
   ]
  }
 ],
 "metadata": {
  "kernelspec": {
   "display_name": "venvall",
   "language": "python",
   "name": "python3"
  },
  "language_info": {
   "codemirror_mode": {
    "name": "ipython",
    "version": 3
   },
   "file_extension": ".py",
   "mimetype": "text/x-python",
   "name": "python",
   "nbconvert_exporter": "python",
   "pygments_lexer": "ipython3",
   "version": "3.12.3"
  }
 },
 "nbformat": 4,
 "nbformat_minor": 2
}
