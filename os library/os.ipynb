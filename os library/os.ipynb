{
 "cells": [
  {
   "cell_type": "code",
   "execution_count": 1,
   "metadata": {},
   "outputs": [],
   "source": [
    "import os"
   ]
  },
  {
   "cell_type": "markdown",
   "metadata": {},
   "source": [
    "# تغییر کلی نام های فایلهای یک پوشه"
   ]
  },
  {
   "cell_type": "code",
   "execution_count": null,
   "metadata": {},
   "outputs": [],
   "source": [
    "#file_input=\n",
    "#آدر فایل هایی که میخواهیم نامشان تغییر کند\n",
    "for i, filename in enumerate(file_input, start=1):\n",
    "    new_name = f\"pic_{i}.png\"  # نام جدید\n",
    "    os.rename(filename, new_name)  # تغییر نام فایل\n",
    "    print(f\"{filename} به {new_name} تغییر نام داد\")"
   ]
  }
 ],
 "metadata": {
  "kernelspec": {
   "display_name": "venvall",
   "language": "python",
   "name": "python3"
  },
  "language_info": {
   "codemirror_mode": {
    "name": "ipython",
    "version": 3
   },
   "file_extension": ".py",
   "mimetype": "text/x-python",
   "name": "python",
   "nbconvert_exporter": "python",
   "pygments_lexer": "ipython3",
   "version": "3.12.3"
  }
 },
 "nbformat": 4,
 "nbformat_minor": 2
}
