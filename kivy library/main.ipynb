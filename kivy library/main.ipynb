{
 "cells": [
  {
   "cell_type": "code",
   "execution_count": null,
   "metadata": {},
   "outputs": [],
   "source": [
    "from kivy.app import App\n",
    "from kivy.uix.label import Label\n",
    "\n",
    "class HelloWorldApp(App):\n",
    "    def build(self):\n",
    "        return Label(text='سلام دنیا!')\n",
    "\n",
    "if __name__ == '__main__':\n",
    "    HelloWorldApp().run()"
   ]
  }
 ],
 "metadata": {
  "kernelspec": {
   "display_name": "venvall",
   "language": "python",
   "name": "python3"
  },
  "language_info": {
   "codemirror_mode": {
    "name": "ipython",
    "version": 3
   },
   "file_extension": ".py",
   "mimetype": "text/x-python",
   "name": "python",
   "nbconvert_exporter": "python",
   "pygments_lexer": "ipython3",
   "version": "3.12.3"
  }
 },
 "nbformat": 4,
 "nbformat_minor": 2
}
