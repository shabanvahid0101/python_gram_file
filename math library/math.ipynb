{
 "cells": [
  {
   "cell_type": "markdown",
   "metadata": {},
   "source": []
  },
  {
   "cell_type": "code",
   "execution_count": null,
   "metadata": {},
   "outputs": [],
   "source": [
    "import math\n",
    "result1=math.pi      #Pi, 3.14...\n",
    "result2=math.e        #Euler's number, 2.71...\n",
    "result3=math.degrees(2)    #2 radians = 114.59 degreees\n",
    "result4=math.radians(60)  #60 degrees = 1.04 radians\n",
    "result5=math.sin(2)       #Sine of 2 radians\n",
    "result6=math.cos(0.5)     #Cosine of 0.5 radians\n",
    "result7=math.tan(0.23)    #Tangent of 0.23 radians\n",
    "result8=math.factorial(5) #1 * 2 * 3 * 4 * 5 = 120\n",
    "result9=math.sqrt(49)     #Square root of 49 = 7\n",
    "print(result1,result2,result3,result4,result5,result6,result7,result8,result9)"
   ]
  },
  {
   "cell_type": "markdown",
   "metadata": {},
   "source": [
    "# از بالا گرد میکنه عدد رو"
   ]
  },
  {
   "cell_type": "code",
   "execution_count": 2,
   "metadata": {},
   "outputs": [
    {
     "name": "stdout",
     "output_type": "stream",
     "text": [
      "2\n",
      "4\n"
     ]
    }
   ],
   "source": [
    "\n",
    "import math\n",
    "num1 = 1.2\n",
    "num2 = 3.5\n",
    "\n",
    "print(math.ceil(num1))\n",
    "print(math.ceil(num2))"
   ]
  },
  {
   "cell_type": "markdown",
   "metadata": {},
   "source": [
    "# عدد رو از پایین گرد میکنه"
   ]
  },
  {
   "cell_type": "code",
   "execution_count": 1,
   "metadata": {},
   "outputs": [
    {
     "name": "stdout",
     "output_type": "stream",
     "text": [
      "3\n",
      "5\n"
     ]
    }
   ],
   "source": [
    "import math\n",
    "num1=3.7\n",
    "num2=5.9\n",
    "\n",
    "print(math.floor(num1))\n",
    "print(math.floor(num2))"
   ]
  },
  {
   "cell_type": "markdown",
   "metadata": {},
   "source": [
    "# مشخص می کنی یک عدد رو چند بار در خودش ضرب کنه"
   ]
  },
  {
   "cell_type": "code",
   "execution_count": null,
   "metadata": {},
   "outputs": [
    {
     "name": "stdout",
     "output_type": "stream",
     "text": [
      "8.0\n",
      "64.0\n"
     ]
    }
   ],
   "source": [
    "import math\n",
    "#عدد اول عدد مشخص شده\n",
    "# عدد دوم تعداد تکرار ضرب\n",
    "print (math.pow(2,3))\n",
    "print (math.pow(4,3))"
   ]
  },
  {
   "cell_type": "markdown",
   "metadata": {},
   "source": [
    "# عدد پی"
   ]
  },
  {
   "cell_type": "code",
   "execution_count": 5,
   "metadata": {},
   "outputs": [
    {
     "name": "stdout",
     "output_type": "stream",
     "text": [
      "18.84955592153876\n",
      "37.69911184307752\n",
      "113.09733552923255\n",
      "254.46900494077323\n",
      "28.26\n",
      "78.53981633974483\n",
      "113.09733552923255\n"
     ]
    }
   ],
   "source": [
    "import math\n",
    "#محیط دایره رو محاسبه می کنه با شعاع\n",
    "\n",
    "print(2*math.pi*3)\n",
    "print(2*math.pi*6)\n",
    "# محیط دایره با قطر\n",
    "print(math.pi*6**2) #حالت دوم  \n",
    "print(math.pi*9**2) #حالت دوم\n",
    "#محیط دایره با شعاع\n",
    "print(3.14*3**2) #حالت دوم\n",
    "# مساحت دایره رو مشخص می کنه با شعاع\n",
    "print ( math.pi*5*5)\n",
    "print (math.pi * math.pow(6,2))\n"
   ]
  },
  {
   "cell_type": "code",
   "execution_count": 6,
   "metadata": {},
   "outputs": [
    {
     "name": "stdout",
     "output_type": "stream",
     "text": [
      "2\n",
      "4\n",
      "6\n",
      "3\n",
      "1\n"
     ]
    }
   ],
   "source": [
    "import math\n",
    "numbers =[2.5,4.7,6.9,3.1,1.8]\n",
    "for i in numbers:\n",
    "    print(math.floor(i))"
   ]
  },
  {
   "cell_type": "markdown",
   "metadata": {},
   "source": [
    "# محاسبه مساحت دایره با شعاع"
   ]
  },
  {
   "cell_type": "code",
   "execution_count": 7,
   "metadata": {},
   "outputs": [
    {
     "name": "stdout",
     "output_type": "stream",
     "text": [
      "50.26548245743669\n"
     ]
    }
   ],
   "source": [
    "import math\n",
    "r = 4\n",
    "print(math.pi*r*r)"
   ]
  }
 ],
 "metadata": {
  "kernelspec": {
   "display_name": "venvall",
   "language": "python",
   "name": "python3"
  },
  "language_info": {
   "codemirror_mode": {
    "name": "ipython",
    "version": 3
   },
   "file_extension": ".py",
   "mimetype": "text/x-python",
   "name": "python",
   "nbconvert_exporter": "python",
   "pygments_lexer": "ipython3",
   "version": "3.12.3"
  }
 },
 "nbformat": 4,
 "nbformat_minor": 2
}
