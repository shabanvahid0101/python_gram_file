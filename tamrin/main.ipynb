{
 "cells": [
  {
   "cell_type": "markdown",
   "metadata": {},
   "source": [
    "変数を定義\n",
    "\n",
    "変数で計算する\n"
   ]
  },
  {
   "cell_type": "code",
   "execution_count": 1,
   "metadata": {},
   "outputs": [
    {
     "name": "stdout",
     "output_type": "stream",
     "text": [
      "22\n"
     ]
    }
   ],
   "source": [
    "number1=3\n",
    "number2=5\n",
    "number3=7\n",
    "\n",
    "print(number1*number2+number3)"
   ]
  },
  {
   "cell_type": "code",
   "execution_count": 2,
   "metadata": {},
   "outputs": [
    {
     "name": "stdout",
     "output_type": "stream",
     "text": [
      "You are a swimmer\n"
     ]
    }
   ],
   "source": [
    "sport=\"swiming\"\n",
    "if  sport == \"swiming\":\n",
    "    print(\"You are a swimmer\")\n",
    "elif sport==\"footbal\":\n",
    "    print(\"You are a footballer\")\n",
    "elif sport==\"tenis\":\n",
    "    print(\"You are a tennis player\")\n",
    "else:\n",
    "    print(\"You are not a sportsperson\")\n"
   ]
  },
  {
   "cell_type": "code",
   "execution_count": 5,
   "metadata": {},
   "outputs": [
    {
     "name": "stdout",
     "output_type": "stream",
     "text": [
      "-5\n",
      "-4\n",
      "-3\n",
      "-2\n",
      "-1\n"
     ]
    }
   ],
   "source": [
    "for i in range(-5,0):\n",
    "    print(i)"
   ]
  },
  {
   "cell_type": "code",
   "execution_count": 8,
   "metadata": {},
   "outputs": [
    {
     "name": "stdout",
     "output_type": "stream",
     "text": [
      "1\n",
      "3\n",
      "5\n",
      "7\n",
      "9\n"
     ]
    }
   ],
   "source": [
    "for i in range(1,10):\n",
    "    if i%2!=0:\n",
    "        print (i)  "
   ]
  },
  {
   "cell_type": "markdown",
   "metadata": {},
   "source": [
    "# 実行結果\n",
    "# AKB48\n",
    "# 乃木坂46\n",
    "# 欅坂46\n",
    "# 日向坂46"
   ]
  },
  {
   "cell_type": "code",
   "execution_count": 9,
   "metadata": {},
   "outputs": [
    {
     "name": "stdout",
     "output_type": "stream",
     "text": [
      "AKB48\n",
      "乃木坂46\n",
      "欅坂46\n",
      "日向坂46\n"
     ]
    }
   ],
   "source": [
    "\n",
    "data = [\"AKB48\",\"乃木坂46\",\"欅坂46\",\"日向坂46\"]\n",
    "for i in data:\n",
    "    print(i)"
   ]
  },
  {
   "cell_type": "code",
   "execution_count": 12,
   "metadata": {},
   "outputs": [
    {
     "data": {
      "text/plain": [
       "0"
      ]
     },
     "execution_count": 12,
     "metadata": {},
     "output_type": "execute_result"
    }
   ],
   "source": [
    "data.index(\"AKB48\")"
   ]
  },
  {
   "cell_type": "markdown",
   "metadata": {},
   "source": [
    "# 実行結果\n",
    "# 100"
   ]
  },
  {
   "cell_type": "code",
   "execution_count": 13,
   "metadata": {},
   "outputs": [
    {
     "name": "stdout",
     "output_type": "stream",
     "text": [
      "100\n"
     ]
    }
   ],
   "source": [
    "numbers = [11,28,17,15,29]\n",
    "total = 0\n",
    "for i in numbers:\n",
    "    total+=i\n",
    "print(total)"
   ]
  },
  {
   "cell_type": "markdown",
   "metadata": {},
   "source": [
    "# 実行結果\n",
    "# Ariel is 14 years old"
   ]
  },
  {
   "cell_type": "code",
   "execution_count": 17,
   "metadata": {},
   "outputs": [
    {
     "name": "stdout",
     "output_type": "stream",
     "text": [
      "Ariel is 14 years old\n",
      "Ariel is 14 years old\n"
     ]
    }
   ],
   "source": [
    "\n",
    "name = \"Ariel\"\n",
    "age = 14\n",
    "\n",
    "print(name+\" is \"+str(age)+\" years old\")\n",
    "print(f\"{name} is {age} years old\")"
   ]
  },
  {
   "cell_type": "markdown",
   "metadata": {},
   "source": [
    "# 実行結果\n",
    "# Try harder"
   ]
  },
  {
   "cell_type": "code",
   "execution_count": 18,
   "metadata": {},
   "outputs": [
    {
     "name": "stdout",
     "output_type": "stream",
     "text": [
      "Try harder\n"
     ]
    }
   ],
   "source": [
    "\n",
    "\n",
    "score = 50\n",
    "\n",
    "if score == 100 :\n",
    "    print(\"Fantastic\")\n",
    "elif score >= 90 :\n",
    "    print(\"Excellent\")\n",
    "elif score >= 80 :\n",
    "    print(\"Fine\")\n",
    "elif score >= 70 :\n",
    "    print(\"Good\")\n",
    "else :\n",
    "    print(\"Try harder\")"
   ]
  },
  {
   "cell_type": "markdown",
   "metadata": {},
   "source": [
    "# 実行結果\n",
    "# 4\n",
    "# 8\n",
    "# 12\n",
    "# 16\n",
    "# 20"
   ]
  },
  {
   "cell_type": "code",
   "execution_count": 20,
   "metadata": {},
   "outputs": [
    {
     "name": "stdout",
     "output_type": "stream",
     "text": [
      "4\n",
      "8\n",
      "12\n",
      "16\n",
      "20\n"
     ]
    }
   ],
   "source": [
    "for i in range(1,21):\n",
    "    if  i%4==0:\n",
    "        print(i)"
   ]
  },
  {
   "cell_type": "markdown",
   "metadata": {},
   "source": [
    "# 実行結果\n",
    "# 51\n",
    "\n",
    "\n",
    "data = [4,6,15,7,2,18,19,5,8,12]\n",
    "total = 0"
   ]
  },
  {
   "cell_type": "code",
   "execution_count": 23,
   "metadata": {},
   "outputs": [
    {
     "name": "stdout",
     "output_type": "stream",
     "text": [
      "51\n"
     ]
    }
   ],
   "source": [
    "data = [4,6,15,7,2,18,19,5,8,12]\n",
    "total = 0\n",
    "for i in data:\n",
    "    if i%3==0:\n",
    "        total+=i\n",
    "print(total)"
   ]
  },
  {
   "cell_type": "markdown",
   "metadata": {},
   "source": [
    "# 実行結果\n",
    "# purple\n",
    "# red\n",
    "# red\n",
    "# purple"
   ]
  },
  {
   "cell_type": "code",
   "execution_count": 26,
   "metadata": {},
   "outputs": [
    {
     "name": "stdout",
     "output_type": "stream",
     "text": [
      "purple\n",
      "red\n",
      "red\n",
      "purple\n"
     ]
    }
   ],
   "source": [
    "colors = [\"purple\",\"red\",\"geeen\",\"red\",\"pink\",\"purple\",\"blue\"]\n",
    "for i in colors :\n",
    "    if i == \"purple\" or i== \"red\":\n",
    "        print(i)"
   ]
  },
  {
   "cell_type": "markdown",
   "metadata": {},
   "source": [
    "# 実行結果\n",
    "# 7\n",
    "\n",
    "\n",
    "# 関数は修正してはいけません\n",
    "def add( num1, num2 ) :\n",
    "    result = num1 + num2\n",
    "    return result\n",
    "\n",
    "a = 5\n",
    "b = 2\n",
    "\n",
    "# これより下側に、関数「add」を呼び出す処理を作成します"
   ]
  },
  {
   "cell_type": "code",
   "execution_count": 28,
   "metadata": {},
   "outputs": [
    {
     "name": "stdout",
     "output_type": "stream",
     "text": [
      "7\n"
     ]
    }
   ],
   "source": [
    "def add( num1, num2 ) :\n",
    "    result = num1 + num2\n",
    "    return result\n",
    "\n",
    "a = 5\n",
    "b = 2\n",
    "print(add(a,b))"
   ]
  },
  {
   "cell_type": "markdown",
   "metadata": {},
   "source": [
    "# 実行結果\n",
    "# ルーシー\n",
    "# 魔法使い\n",
    "# 賢者の杖\n"
   ]
  },
  {
   "cell_type": "code",
   "execution_count": 34,
   "metadata": {},
   "outputs": [
    {
     "name": "stdout",
     "output_type": "stream",
     "text": [
      "ルーシー\n",
      "魔法使い\n",
      "賢者の杖\n",
      "name:ルーシー\n",
      "job:魔法使い\n",
      "weapon:賢者の杖\n"
     ]
    }
   ],
   "source": [
    "\n",
    "player = {\n",
    "    \"name\" : \"ルーシー\",\n",
    "    \"job\" : \"魔法使い\",\n",
    "    \"weapon\" : \"賢者の杖\",\n",
    "}\n",
    "for value in player.values():\n",
    "    print(value)\n",
    "    \n",
    "for key,value in player.items():\n",
    "    print(f\"{key}:{value}\")\n",
    "    "
   ]
  },
  {
   "cell_type": "markdown",
   "metadata": {},
   "source": [
    "# 実行結果\n",
    "# -2\n",
    "# -4\n",
    "# -6\n",
    "# -8\n",
    "# -10"
   ]
  },
  {
   "cell_type": "code",
   "execution_count": 40,
   "metadata": {},
   "outputs": [
    {
     "name": "stdout",
     "output_type": "stream",
     "text": [
      "-2\n",
      "-4\n",
      "-6\n",
      "-8\n",
      "-10\n"
     ]
    }
   ],
   "source": [
    "for i in range(-1,-11,-1):\n",
    "    if i%2==0:\n",
    "        print(i)"
   ]
  },
  {
   "cell_type": "code",
   "execution_count": null,
   "metadata": {},
   "outputs": [],
   "source": []
  }
 ],
 "metadata": {
  "kernelspec": {
   "display_name": "venvall",
   "language": "python",
   "name": "python3"
  },
  "language_info": {
   "codemirror_mode": {
    "name": "ipython",
    "version": 3
   },
   "file_extension": ".py",
   "mimetype": "text/x-python",
   "name": "python",
   "nbconvert_exporter": "python",
   "pygments_lexer": "ipython3",
   "version": "3.12.3"
  }
 },
 "nbformat": 4,
 "nbformat_minor": 2
}
