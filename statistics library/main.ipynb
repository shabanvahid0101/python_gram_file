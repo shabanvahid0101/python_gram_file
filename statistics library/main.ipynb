{
 "cells": [
  {
   "cell_type": "code",
   "execution_count": 1,
   "metadata": {},
   "outputs": [],
   "source": [
    "import statistics"
   ]
  },
  {
   "cell_type": "code",
   "execution_count": 2,
   "metadata": {},
   "outputs": [
    {
     "name": "stdout",
     "output_type": "stream",
     "text": [
      "mean: 3\n"
     ]
    }
   ],
   "source": [
    "data=[1,2,3,4,5]\n",
    "mean=statistics.mean(data)\n",
    "print('mean:',mean)"
   ]
  },
  {
   "cell_type": "code",
   "execution_count": 3,
   "metadata": {},
   "outputs": [
    {
     "name": "stdout",
     "output_type": "stream",
     "text": [
      "Median: 3\n"
     ]
    }
   ],
   "source": [
    "median=statistics.median(data)\n",
    "print(\"Median:\", median)"
   ]
  },
  {
   "cell_type": "code",
   "execution_count": null,
   "metadata": {},
   "outputs": [
    {
     "name": "stdout",
     "output_type": "stream",
     "text": [
      "mode: 4\n"
     ]
    }
   ],
   "source": [
    "data1=[1,2,2,3,4,4,4,5]\n",
    "mode=statistics.mode(data1)\n",
    "print(\"mode:\",mode)"
   ]
  },
  {
   "cell_type": "code",
   "execution_count": 5,
   "metadata": {},
   "outputs": [
    {
     "name": "stdout",
     "output_type": "stream",
     "text": [
      "Variance:  2.5\n"
     ]
    }
   ],
   "source": [
    "variance=statistics.variance(data)\n",
    "print(\"Variance: \", variance)"
   ]
  },
  {
   "cell_type": "code",
   "execution_count": 6,
   "metadata": {},
   "outputs": [
    {
     "name": "stdout",
     "output_type": "stream",
     "text": [
      "Standard Deviation:  1.5811388300841898\n"
     ]
    }
   ],
   "source": [
    "std_dev=statistics.stdev(data)\n",
    "print(\"Standard Deviation: \", std_dev)"
   ]
  },
  {
   "cell_type": "code",
   "execution_count": 7,
   "metadata": {},
   "outputs": [
    {
     "name": "stdout",
     "output_type": "stream",
     "text": [
      "correlation coefficient: 1.0\n"
     ]
    }
   ],
   "source": [
    "data2=[2,4,6,8,10]\n",
    "corr_coeff=statistics.correlation(data,data2)\n",
    "print(\"correlation coefficient:\",corr_coeff)"
   ]
  },
  {
   "cell_type": "code",
   "execution_count": 9,
   "metadata": {},
   "outputs": [
    {
     "name": "stdout",
     "output_type": "stream",
     "text": [
      "first quartile (Q1) : 1.5\n",
      "third quartile (Q3) : 4.5\n"
     ]
    }
   ],
   "source": [
    "q1=statistics.quantiles(data,n=4)[0]\n",
    "q3=statistics.quantiles(data,n=4)[-1]\n",
    "print(\"first quartile (Q1) :\",q1)\n",
    "print(\"third quartile (Q3) :\",q3)"
   ]
  }
 ],
 "metadata": {
  "kernelspec": {
   "display_name": "venvall",
   "language": "python",
   "name": "python3"
  },
  "language_info": {
   "codemirror_mode": {
    "name": "ipython",
    "version": 3
   },
   "file_extension": ".py",
   "mimetype": "text/x-python",
   "name": "python",
   "nbconvert_exporter": "python",
   "pygments_lexer": "ipython3",
   "version": "3.12.3"
  }
 },
 "nbformat": 4,
 "nbformat_minor": 2
}
