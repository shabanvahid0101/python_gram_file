{
 "cells": [
  {
   "cell_type": "code",
   "execution_count": 2,
   "metadata": {},
   "outputs": [],
   "source": [
    "import pandas as pd\n"
   ]
  },
  {
   "cell_type": "markdown",
   "metadata": {},
   "source": [
    "read"
   ]
  },
  {
   "cell_type": "code",
   "execution_count": 3,
   "metadata": {},
   "outputs": [],
   "source": [
    "df = pd.read_csv(\"test1.csv\")"
   ]
  },
  {
   "cell_type": "code",
   "execution_count": 4,
   "metadata": {},
   "outputs": [
    {
     "name": "stdout",
     "output_type": "stream",
     "text": [
      "   id   name  age     hobby\n",
      "0   1  vahid   36  computer\n",
      "1   2    ali   25  football\n",
      "2   3  hasan   30   reading\n"
     ]
    }
   ],
   "source": [
    "print(df)"
   ]
  },
  {
   "cell_type": "code",
   "execution_count": 5,
   "metadata": {},
   "outputs": [
    {
     "name": "stdout",
     "output_type": "stream",
     "text": [
      "computer\n"
     ]
    },
    {
     "name": "stderr",
     "output_type": "stream",
     "text": [
      "C:\\Users\\vahid\\AppData\\Local\\Temp\\ipykernel_22296\\198482459.py:1: FutureWarning: Series.__getitem__ treating keys as positions is deprecated. In a future version, integer keys will always be treated as labels (consistent with DataFrame behavior). To access a value by position, use `ser.iloc[pos]`\n",
      "  print(df.iloc[0][3])\n"
     ]
    }
   ],
   "source": [
    "print(df.iloc[0][3])"
   ]
  },
  {
   "cell_type": "code",
   "execution_count": 7,
   "metadata": {},
   "outputs": [
    {
     "name": "stdout",
     "output_type": "stream",
     "text": [
      "id              1\n",
      "name        vahid\n",
      "age            36\n",
      "hobby    computer\n",
      "Name: 0, dtype: object\n"
     ]
    }
   ],
   "source": [
    "print(df.iloc[0])"
   ]
  },
  {
   "cell_type": "markdown",
   "metadata": {},
   "source": [
    "Edit"
   ]
  },
  {
   "cell_type": "code",
   "execution_count": 11,
   "metadata": {},
   "outputs": [
    {
     "name": "stdout",
     "output_type": "stream",
     "text": [
      "   id   name  age     hobby\n",
      "0   1  vahid   36  computer\n",
      "1   2    ali   25  football\n",
      "2   3  hasan   30   reading\n"
     ]
    }
   ],
   "source": [
    "print(df)"
   ]
  },
  {
   "cell_type": "code",
   "execution_count": 15,
   "metadata": {},
   "outputs": [
    {
     "name": "stdout",
     "output_type": "stream",
     "text": [
      "   id   name  age     hobby\n",
      "0   1  vahid   36  computer\n",
      "1   5  saedd   44     music\n",
      "2   3  hasan   30   reading\n"
     ]
    }
   ],
   "source": [
    "df.iloc[1]=[5,\"saedd\",44,\"music\"]\n",
    "print(df)"
   ]
  },
  {
   "cell_type": "markdown",
   "metadata": {},
   "source": [
    "append"
   ]
  },
  {
   "cell_type": "code",
   "execution_count": 24,
   "metadata": {},
   "outputs": [
    {
     "name": "stdout",
     "output_type": "stream",
     "text": [
      "   id   name  age     hobby\n",
      "0   1  vahid   36  computer\n",
      "1   5  saedd   44     music\n",
      "2   3  hasan   30   reading\n"
     ]
    }
   ],
   "source": [
    "print(df)"
   ]
  },
  {
   "cell_type": "code",
   "execution_count": 33,
   "metadata": {},
   "outputs": [
    {
     "name": "stdout",
     "output_type": "stream",
     "text": [
      "   id   name  age     hobby\n",
      "0   1  vahid   36  computer\n",
      "1   5  saedd   44     music\n",
      "2   3  hasan   30   reading\n",
      "3   7  hamid   50   varzesh\n"
     ]
    }
   ],
   "source": [
    "new_row = pd.DataFrame([{\"id\":7,\"name\":\"hamid\",\"age\":50,\"hobby\":\"varzesh\"}])\n",
    "appdf = pd.concat([df, new_row], ignore_index=True)\n",
    "print(appdf)"
   ]
  },
  {
   "cell_type": "code",
   "execution_count": 35,
   "metadata": {},
   "outputs": [
    {
     "name": "stdout",
     "output_type": "stream",
     "text": [
      "   id   name  age     hobby\n",
      "0   1  vahid   36  computer\n",
      "1   5  saedd   44     music\n",
      "2   3  hasan   30   reading\n"
     ]
    }
   ],
   "source": [
    "print(df)"
   ]
  },
  {
   "cell_type": "code",
   "execution_count": 34,
   "metadata": {},
   "outputs": [
    {
     "name": "stdout",
     "output_type": "stream",
     "text": [
      "3\n"
     ]
    }
   ],
   "source": [
    "print(len(df))"
   ]
  },
  {
   "cell_type": "code",
   "execution_count": 36,
   "metadata": {},
   "outputs": [
    {
     "name": "stdout",
     "output_type": "stream",
     "text": [
      "   id   name  age     hobby\n",
      "0   1  vahid   36  computer\n",
      "1   5  saedd   44     music\n",
      "2   3  hasan   30   reading\n",
      "3   4    ali   55      game\n"
     ]
    }
   ],
   "source": [
    "df.loc[len(df)]=[4,\"ali\",55,\"game\"]\n",
    "print(df)"
   ]
  }
 ],
 "metadata": {
  "kernelspec": {
   "display_name": "Python 3",
   "language": "python",
   "name": "python3"
  },
  "language_info": {
   "codemirror_mode": {
    "name": "ipython",
    "version": 3
   },
   "file_extension": ".py",
   "mimetype": "text/x-python",
   "name": "python",
   "nbconvert_exporter": "python",
   "pygments_lexer": "ipython3",
   "version": "3.12.3"
  }
 },
 "nbformat": 4,
 "nbformat_minor": 2
}
