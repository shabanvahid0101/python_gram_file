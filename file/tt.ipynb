{
 "cells": [
  {
   "cell_type": "markdown",
   "metadata": {},
   "source": [
    "#file"
   ]
  },
  {
   "cell_type": "markdown",
   "metadata": {},
   "source": [
    "##read\n",
    "\n",
    "# خواندن از فایل ها"
   ]
  },
  {
   "cell_type": "code",
   "execution_count": 12,
   "metadata": {},
   "outputs": [
    {
     "name": "stdout",
     "output_type": "stream",
     "text": [
      "vahid\n",
      "masoud\n",
      "hamid\n"
     ]
    }
   ],
   "source": [
    "file=open(\"tt.txt\",\"r\")\n",
    "content=file.read()\n",
    "print(content)\n",
    "file.close()"
   ]
  },
  {
   "cell_type": "code",
   "execution_count": 1,
   "metadata": {},
   "outputs": [
    {
     "name": "stdout",
     "output_type": "stream",
     "text": [
      "1\n",
      "3\n",
      "5\n",
      "6\n",
      "6\n",
      "test\n"
     ]
    }
   ],
   "source": [
    "with open(\"tt.txt\") as file:\n",
    "    content=file.read()\n",
    "    print(content)\n",
    "    file.close()"
   ]
  },
  {
   "cell_type": "markdown",
   "metadata": {},
   "source": [
    "#appendپ\n",
    "\n",
    "## اضافه کردن به نوشته های فایل"
   ]
  },
  {
   "cell_type": "code",
   "execution_count": 21,
   "metadata": {},
   "outputs": [],
   "source": [
    "file=open(\"tt.txt\",\"a\")\n",
    "\n",
    "file.write(\"\\nwat\")\n",
    " \n",
    "file.close()\n"
   ]
  },
  {
   "cell_type": "markdown",
   "metadata": {},
   "source": [
    "#write\n",
    " \n",
    " # حذف نوشته های قبلی و اضافه کردن نوشته جدید"
   ]
  },
  {
   "cell_type": "code",
   "execution_count": 22,
   "metadata": {},
   "outputs": [],
   "source": [
    "file=open(\"tt.txt\",\"w\")\n",
    "\n",
    "file.write(\"\\nwat\")\n",
    " \n",
    "file.close()"
   ]
  },
  {
   "cell_type": "markdown",
   "metadata": {},
   "source": [
    "# read line to line\n",
    "\n",
    "# خواندن خط به خط از یک فایل"
   ]
  },
  {
   "cell_type": "code",
   "execution_count": 26,
   "metadata": {},
   "outputs": [
    {
     "name": "stdout",
     "output_type": "stream",
     "text": [
      "1=>\n",
      "\n",
      "2=>wat\n",
      "\n",
      "3=>dlldl\n",
      "\n",
      "4=>df;ldja;ldja\n",
      "\n",
      "5=>[]\n"
     ]
    }
   ],
   "source": [
    "file=open(\"tt.txt\",\"r\")\n",
    "counter =1\n",
    "for line in file:\n",
    "     print(f\"{counter}=>{line}\")\n",
    "     counter+=1\n",
    "file.close()"
   ]
  },
  {
   "cell_type": "markdown",
   "metadata": {},
   "source": [
    "### گرفتن متن از یک فایل خارجی"
   ]
  },
  {
   "cell_type": "code",
   "execution_count": 6,
   "metadata": {},
   "outputs": [
    {
     "name": "stdout",
     "output_type": "stream",
     "text": [
      "['7680065552:AAHdaFAHNlaDuS42hMhMZb7QPlTyCTD3WrY']\n"
     ]
    }
   ],
   "source": [
    "with open(\"D:/mohem/api/telegram/token cbottraderbot.txt\", 'r') as file:\n",
    "    TOKEN = file.readlines()\n",
    "    print(TOKEN)\n",
    "    file.close()"
   ]
  },
  {
   "cell_type": "markdown",
   "metadata": {},
   "source": [
    "write line by line"
   ]
  },
  {
   "cell_type": "code",
   "execution_count": 27,
   "metadata": {},
   "outputs": [],
   "source": [
    "file=open(\"tt.txt\",\"w\")\n",
    "a =[\"1\\n\",\"3\\n\",\"5\\n\",\"6\\n\",\"6\\n\"]\n",
    "file.writelines(a)\n",
    "file.close()"
   ]
  },
  {
   "cell_type": "markdown",
   "metadata": {},
   "source": [
    "read and write"
   ]
  },
  {
   "cell_type": "code",
   "execution_count": 28,
   "metadata": {},
   "outputs": [
    {
     "name": "stdout",
     "output_type": "stream",
     "text": [
      "1\n",
      "3\n",
      "5\n",
      "6\n",
      "6\n",
      "\n"
     ]
    }
   ],
   "source": [
    "file=open(\"tt.txt\",\"r+\")\n",
    "mohtava=file.read()\n",
    "print(mohtava)\n",
    "file.write(\"test\")\n",
    "file.close()"
   ]
  },
  {
   "cell_type": "code",
   "execution_count": 7,
   "metadata": {},
   "outputs": [
    {
     "name": "stdout",
     "output_type": "stream",
     "text": [
      "nill\n",
      "amazon\n",
      "nagajo\n",
      "nigara\n",
      "suhhh\n",
      "dfkjfaccess2024year12mount02day09hours46minutes34second\n",
      "access2024year12mount02day09hours46minutes43secondaccess2024year12mount02day09hours47minutes21second\n"
     ]
    }
   ],
   "source": [
    "f = open(\"./tt.txt\")\n",
    "lines =f.read()\n",
    "print(lines)\n",
    "# از آخر باید ببندی فایل رو تا ذخیره بشه\n",
    "f.close()"
   ]
  },
  {
   "cell_type": "markdown",
   "metadata": {},
   "source": [
    "# باز کردن فایل با مد خواندنی فقط"
   ]
  },
  {
   "cell_type": "code",
   "execution_count": 2,
   "metadata": {},
   "outputs": [
    {
     "name": "stdout",
     "output_type": "stream",
     "text": [
      "1\n",
      "3\n",
      "5\n",
      "6\n",
      "6\n",
      "test\n"
     ]
    }
   ],
   "source": [
    "f=open(\"./tt.txt\",\"r\")\n",
    "lines=f.read()\n",
    "print(lines)\n",
    "f.close()"
   ]
  },
  {
   "cell_type": "markdown",
   "metadata": {},
   "source": [
    "# readlines"
   ]
  },
  {
   "cell_type": "markdown",
   "metadata": {},
   "source": [
    "# هر خط را به عنوان یک عنصر لیست در نظر می گیرد"
   ]
  },
  {
   "cell_type": "code",
   "execution_count": null,
   "metadata": {},
   "outputs": [
    {
     "name": "stdout",
     "output_type": "stream",
     "text": [
      "1\n",
      "3\n",
      "5lkj;lkj\n",
      "6aeeregergerger\n",
      "6dfglkj\n",
      "test"
     ]
    }
   ],
   "source": [
    "f=open(\"./tt.txt\",\"r\")\n",
    "lines=f.readlines()\n",
    "for line in lines:\n",
    "    # هر لاین نشان دهنده یک خط است\n",
    "    #گزینه اند اینتر اضافه رو حذف میکنه\n",
    "    #داخل اند هرچیزی تایپ بشه بجای اینتر قرار داده میشه\n",
    "    print(line,end=\"\")\n",
    "f.close()\n"
   ]
  },
  {
   "cell_type": "code",
   "execution_count": 8,
   "metadata": {},
   "outputs": [
    {
     "name": "stdout",
     "output_type": "stream",
     "text": [
      "1\n",
      "3\n",
      "5lkj;lkj\n",
      "6aeeregergerger\n",
      "6dfglkj\n",
      "test"
     ]
    }
   ],
   "source": [
    "f=open(\"./tt.txt\",\"r\")\n",
    "line=f.readline()\n",
    "while line:\n",
    "    print(line,end=\"\")\n",
    "    line=f.readline()\n",
    "f.close()\n"
   ]
  },
  {
   "cell_type": "code",
   "execution_count": 9,
   "metadata": {},
   "outputs": [
    {
     "name": "stdout",
     "output_type": "stream",
     "text": [
      "1\n",
      "3\n",
      "5lkj;lkj\n",
      "6aeeregergerger\n",
      "6dfglkj\n",
      "test"
     ]
    }
   ],
   "source": [
    "try:\n",
    "    f=open(\"./tt.txt\",\"r\")\n",
    "except:\n",
    "    print(\"file not found\")\n",
    "else:\n",
    "    lines=f.readlines()\n",
    "    for line in lines:\n",
    "        print(line,end=\"\")\n",
    "    f.close()"
   ]
  },
  {
   "cell_type": "markdown",
   "metadata": {},
   "source": [
    "# with"
   ]
  },
  {
   "cell_type": "code",
   "execution_count": 10,
   "metadata": {},
   "outputs": [
    {
     "name": "stdout",
     "output_type": "stream",
     "text": [
      "1\n",
      "3\n",
      "5lkj;lkj\n",
      "6aeeregergerger\n",
      "6dfglkj\n",
      "test\n"
     ]
    }
   ],
   "source": [
    "with open ( \"./tt.txt\") as f:\n",
    "    lines=f.read()\n",
    "print(lines)\n"
   ]
  },
  {
   "cell_type": "markdown",
   "metadata": {},
   "source": [
    "# ویرایش فایل\n",
    "# نوشتن اطلاعات داخل فایل"
   ]
  },
  {
   "cell_type": "code",
   "execution_count": 1,
   "metadata": {},
   "outputs": [],
   "source": [
    "teams = [\"giants\",\"tigers\",\"baystars\",\"swallows\",\"dragons\",\"carp\"]\n",
    "f = open(\"./tt.txt\",\"w\")\n",
    "for team in teams:\n",
    "    f.write(team+\"\\n\")\n",
    "f.close()"
   ]
  },
  {
   "cell_type": "code",
   "execution_count": 2,
   "metadata": {},
   "outputs": [],
   "source": [
    "rivers=[\"nill\",\"amazon\",\"nagajo\",\"nigara\",\"suhhh\",\"dfkjf\"]\n",
    "f=open(\"./tt.txt\",\"w\")\n",
    "f.writelines(\"\\n\".join(rivers))\n",
    "f.close()"
   ]
  },
  {
   "cell_type": "markdown",
   "metadata": {},
   "source": [
    "# append time in file"
   ]
  },
  {
   "cell_type": "code",
   "execution_count": 6,
   "metadata": {},
   "outputs": [
    {
     "data": {
      "text/plain": [
       "50"
      ]
     },
     "execution_count": 6,
     "metadata": {},
     "output_type": "execute_result"
    }
   ],
   "source": [
    "from datetime import datetime\n",
    "now=datetime.now()\n",
    "now_str1=now.strftime(\"%Yyear%mmount%dday%Hhours%Mminutes%Ssecond\")\n",
    "\n",
    "f=open(\"./tt.txt\",\"a\")\n",
    "f.write(\"access\"+now_str1)\n"
   ]
  }
 ],
 "metadata": {
  "kernelspec": {
   "display_name": "Python 3",
   "language": "python",
   "name": "python3"
  },
  "language_info": {
   "codemirror_mode": {
    "name": "ipython",
    "version": 3
   },
   "file_extension": ".py",
   "mimetype": "text/x-python",
   "name": "python",
   "nbconvert_exporter": "python",
   "pygments_lexer": "ipython3",
   "version": "3.12.8"
  }
 },
 "nbformat": 4,
 "nbformat_minor": 2
}
