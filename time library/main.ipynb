{
 "cells": [
  {
   "cell_type": "code",
   "execution_count": 2,
   "metadata": {},
   "outputs": [],
   "source": [
    "from datetime import datetime,timezone,timedelta"
   ]
  },
  {
   "cell_type": "markdown",
   "metadata": {},
   "source": [
    "# زمان الان سیستم رو میگیره در خروجی نشون میده"
   ]
  },
  {
   "cell_type": "code",
   "execution_count": 20,
   "metadata": {},
   "outputs": [
    {
     "data": {
      "text/plain": [
       "datetime.datetime(2024, 11, 18, 10, 24, 39, 701791)"
      ]
     },
     "execution_count": 20,
     "metadata": {},
     "output_type": "execute_result"
    }
   ],
   "source": [
    "now=datetime.now()\n",
    "now"
   ]
  },
  {
   "cell_type": "markdown",
   "metadata": {},
   "source": [
    "# فهمیدن ساعت یک منطقه از روی اختلاف ساعت با ساعت جهانی\n",
    "\n",
    "# مقدار اختلاف رو در قسمت ساعت درج می کنیم"
   ]
  },
  {
   "cell_type": "code",
   "execution_count": 21,
   "metadata": {},
   "outputs": [
    {
     "name": "stdout",
     "output_type": "stream",
     "text": [
      "2024-11-18 04:54:39.724543+03:30\n"
     ]
    }
   ],
   "source": [
    "tz_jst=timezone(timedelta(hours=3.5))\n",
    "now_jst=datetime.now(tz=tz_jst)\n",
    "print(now_jst)"
   ]
  },
  {
   "cell_type": "markdown",
   "metadata": {},
   "source": [
    "# نمایش قالب تاریخ با سفارشی سازی"
   ]
  },
  {
   "cell_type": "code",
   "execution_count": 22,
   "metadata": {},
   "outputs": [
    {
     "name": "stdout",
     "output_type": "stream",
     "text": [
      "2018-12-05 00:00:00 \n",
      " 2018-12-05 09:15:22 \n",
      " 2018-12-05 09:15:22+09:00\n",
      "2018-12-05 09:15:30\n",
      "2018-12-05 09:15:30+09:00\n",
      "2018-05-10 00:00:00+09:00\n"
     ]
    }
   ],
   "source": [
    "obj=datetime.strptime(\"2018-12-05\",\"%Y-%m-%d\")\n",
    "obj1=datetime.strptime(\"2018-12-05 9:15:22\",\"%Y-%m-%d %H:%M:%S\")\n",
    "obj2=datetime.strptime(\"2018-12-05 9:15:22+0900\",\"%Y-%m-%d %H:%M:%S%z\")\n",
    "\n",
    "print(obj,\"\\n\",obj1,\"\\n\",obj2)\n",
    "\n",
    "date_str1=\"2018-12-05 9:15:30\"\n",
    "dt_obj1=datetime.strptime(date_str1,\"%Y-%m-%d %H:%M:%S\")\n",
    "print(dt_obj1)  # 2018-12-05 09:15:30\n",
    "date_str2 = \"2018-12-05 9:15:30+0900\"\n",
    "dt_obj2=datetime.strptime(date_str2,\"%Y-%m-%d %H:%M:%S%z\")\n",
    "print(dt_obj2)  # 2018-12-05 09:15:30\n",
    "date_str3= \"2018-05-10+0900\"\n",
    "dt_obj3=datetime.strptime(date_str3,\"%Y-%m-%d%z\")\n",
    "print(dt_obj3)  # 2018-05-10 00:00:00\n"
   ]
  },
  {
   "cell_type": "code",
   "execution_count": 3,
   "metadata": {},
   "outputs": [
    {
     "name": "stdout",
     "output_type": "stream",
     "text": [
      "2024-12-02 05:42:30.783097+03:30\n",
      "2024year-12month-02day-05hours-42minuts-30second\n",
      "2024year-12mount-02day\n"
     ]
    }
   ],
   "source": [
    "tz_jst=timezone(timedelta(hours=3.5))\n",
    "now=datetime.now(tz=tz_jst)\n",
    "print(now)\n",
    "date_str1 = now.strftime(\"%Yyear-%mmonth-%dday-%Hhours-%Mminuts-%Ssecond\")\n",
    "print(date_str1)\n",
    "\n",
    "date_str2=now.strftime(\"%Yyear-%mmount-%dday\")\n",
    "print(date_str2)"
   ]
  },
  {
   "cell_type": "markdown",
   "metadata": {},
   "source": [
    "تبدیل استرینگ به زمان و اضافه کردن نوشته به آن"
   ]
  },
  {
   "cell_type": "code",
   "execution_count": 5,
   "metadata": {},
   "outputs": [
    {
     "name": "stdout",
     "output_type": "stream",
     "text": [
      "2005year-04month-15day 10hours:30minuts\n"
     ]
    }
   ],
   "source": [
    "from datetime import datetime\n",
    "date_str=\"2005-04-15 10:30\"\n",
    "# Convert the string to a datetime object\n",
    "datetime_obj=datetime.strptime(date_str,\"%Y-%m-%d %H:%M\")\n",
    "#convert datetime object to a string time\n",
    "date_obj=datetime_obj.strftime(\"%Yyear-%mmonth-%dday %Hhours:%Mminuts\")\n",
    "print(date_obj)"
   ]
  },
  {
   "cell_type": "markdown",
   "metadata": {},
   "source": [
    "# نمایش تاریخ با قالب خاص"
   ]
  },
  {
   "cell_type": "code",
   "execution_count": 26,
   "metadata": {},
   "outputs": [
    {
     "name": "stdout",
     "output_type": "stream",
     "text": [
      "2005y10m29d15h30m00s\n"
     ]
    }
   ],
   "source": [
    "from datetime import datetime\n",
    "\n",
    "date_str = \"2005-10-29 15:30:00+0900\"\n",
    "\n",
    "data_obj = datetime.strptime(date_str,\"%Y-%m-%d %H:%M:%S%z\")\n",
    "print(data_obj.strftime(\"%Yy%mm%dd%Hh%Mm%Ss\"))"
   ]
  },
  {
   "cell_type": "code",
   "execution_count": 24,
   "metadata": {},
   "outputs": [
    {
     "name": "stdout",
     "output_type": "stream",
     "text": [
      "2024\n",
      "11\n",
      "18\n",
      "10\n",
      "45\n",
      "10\n"
     ]
    }
   ],
   "source": [
    "tz_jst = timezone(timedelta(hours=9))\n",
    "\n",
    "now=datetime.now(tz=tz_jst)\n",
    "print(now.year)\n",
    "print(now.month)\n",
    "print(now.day)\n",
    "print(now.hour)\n",
    "print(now.minute)\n",
    "print(now.second)"
   ]
  },
  {
   "cell_type": "markdown",
   "metadata": {},
   "source": [
    "# timedelta"
   ]
  },
  {
   "cell_type": "code",
   "execution_count": 25,
   "metadata": {},
   "outputs": [
    {
     "name": "stdout",
     "output_type": "stream",
     "text": [
      "today :2024y-11m-18d\n",
      "tomorrow :2024y-11m-19d\n",
      "yesterday :2024y-11m-17d\n",
      "next_year :2025y-11m-18d\n"
     ]
    }
   ],
   "source": [
    "tz_jst = timezone(timedelta(hours=9))\n",
    "\n",
    "format_str = \"%Yy-%mm-%dd\"\n",
    "\n",
    "now = datetime.now(tz=tz_jst)\n",
    "print(\"today :\"+now.strftime(format_str))\n",
    "\n",
    "tomorrow =now + timedelta(days=1)\n",
    "print(\"tomorrow :\"+tomorrow.strftime(format_str))\n",
    "\n",
    "yesterday = now + timedelta(days=-1)\n",
    "print(\"yesterday :\"+yesterday.strftime(format_str))\n",
    "\n",
    "next_year=now + timedelta(days=365)\n",
    "print(\"next_year :\"+next_year.strftime(format_str))"
   ]
  },
  {
   "cell_type": "code",
   "execution_count": null,
   "metadata": {},
   "outputs": [],
   "source": []
  }
 ],
 "metadata": {
  "kernelspec": {
   "display_name": "venvall",
   "language": "python",
   "name": "python3"
  },
  "language_info": {
   "codemirror_mode": {
    "name": "ipython",
    "version": 3
   },
   "file_extension": ".py",
   "mimetype": "text/x-python",
   "name": "python",
   "nbconvert_exporter": "python",
   "pygments_lexer": "ipython3",
   "version": "3.12.3"
  }
 },
 "nbformat": 4,
 "nbformat_minor": 2
}
